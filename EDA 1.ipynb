{
 "cells": [
  {
   "cell_type": "code",
   "execution_count": 240,
   "id": "dd2a73f7-be65-4eb8-b617-990155d06638",
   "metadata": {},
   "outputs": [],
   "source": [
    "import pandas as pd\n",
    "import numpy as np\n",
    "import matplotlib.pyplot as plt"
   ]
  },
  {
   "cell_type": "code",
   "execution_count": 241,
   "id": "6ecff9c0-3dfb-47c9-a275-f430823966da",
   "metadata": {},
   "outputs": [],
   "source": [
    "data=pd.read_csv(\"data_clean.csv\")"
   ]
  },
  {
   "cell_type": "code",
   "execution_count": 242,
   "id": "9a36d723-6464-4146-87cf-65695b288afd",
   "metadata": {},
   "outputs": [
    {
     "data": {
      "text/html": [
       "<div>\n",
       "<style scoped>\n",
       "    .dataframe tbody tr th:only-of-type {\n",
       "        vertical-align: middle;\n",
       "    }\n",
       "\n",
       "    .dataframe tbody tr th {\n",
       "        vertical-align: top;\n",
       "    }\n",
       "\n",
       "    .dataframe thead th {\n",
       "        text-align: right;\n",
       "    }\n",
       "</style>\n",
       "<table border=\"1\" class=\"dataframe\">\n",
       "  <thead>\n",
       "    <tr style=\"text-align: right;\">\n",
       "      <th></th>\n",
       "      <th>Unnamed: 0</th>\n",
       "      <th>Ozone</th>\n",
       "      <th>Solar.R</th>\n",
       "      <th>Wind</th>\n",
       "      <th>Temp C</th>\n",
       "      <th>Month</th>\n",
       "      <th>Day</th>\n",
       "      <th>Year</th>\n",
       "      <th>Temp</th>\n",
       "      <th>Weather</th>\n",
       "    </tr>\n",
       "  </thead>\n",
       "  <tbody>\n",
       "    <tr>\n",
       "      <th>0</th>\n",
       "      <td>1</td>\n",
       "      <td>41.0</td>\n",
       "      <td>190.0</td>\n",
       "      <td>7.4</td>\n",
       "      <td>67</td>\n",
       "      <td>5</td>\n",
       "      <td>1</td>\n",
       "      <td>2010</td>\n",
       "      <td>67</td>\n",
       "      <td>S</td>\n",
       "    </tr>\n",
       "    <tr>\n",
       "      <th>1</th>\n",
       "      <td>2</td>\n",
       "      <td>36.0</td>\n",
       "      <td>118.0</td>\n",
       "      <td>8.0</td>\n",
       "      <td>72</td>\n",
       "      <td>5</td>\n",
       "      <td>2</td>\n",
       "      <td>2010</td>\n",
       "      <td>72</td>\n",
       "      <td>C</td>\n",
       "    </tr>\n",
       "    <tr>\n",
       "      <th>2</th>\n",
       "      <td>3</td>\n",
       "      <td>12.0</td>\n",
       "      <td>149.0</td>\n",
       "      <td>12.6</td>\n",
       "      <td>74</td>\n",
       "      <td>5</td>\n",
       "      <td>3</td>\n",
       "      <td>2010</td>\n",
       "      <td>74</td>\n",
       "      <td>PS</td>\n",
       "    </tr>\n",
       "    <tr>\n",
       "      <th>3</th>\n",
       "      <td>4</td>\n",
       "      <td>18.0</td>\n",
       "      <td>313.0</td>\n",
       "      <td>11.5</td>\n",
       "      <td>62</td>\n",
       "      <td>5</td>\n",
       "      <td>4</td>\n",
       "      <td>2010</td>\n",
       "      <td>62</td>\n",
       "      <td>S</td>\n",
       "    </tr>\n",
       "    <tr>\n",
       "      <th>4</th>\n",
       "      <td>5</td>\n",
       "      <td>NaN</td>\n",
       "      <td>NaN</td>\n",
       "      <td>14.3</td>\n",
       "      <td>56</td>\n",
       "      <td>5</td>\n",
       "      <td>5</td>\n",
       "      <td>2010</td>\n",
       "      <td>56</td>\n",
       "      <td>S</td>\n",
       "    </tr>\n",
       "  </tbody>\n",
       "</table>\n",
       "</div>"
      ],
      "text/plain": [
       "   Unnamed: 0  Ozone  Solar.R  Wind Temp C Month  Day  Year  Temp Weather\n",
       "0           1   41.0    190.0   7.4     67     5    1  2010    67       S\n",
       "1           2   36.0    118.0   8.0     72     5    2  2010    72       C\n",
       "2           3   12.0    149.0  12.6     74     5    3  2010    74      PS\n",
       "3           4   18.0    313.0  11.5     62     5    4  2010    62       S\n",
       "4           5    NaN      NaN  14.3     56     5    5  2010    56       S"
      ]
     },
     "execution_count": 242,
     "metadata": {},
     "output_type": "execute_result"
    }
   ],
   "source": [
    "data.head()"
   ]
  },
  {
   "cell_type": "code",
   "execution_count": 243,
   "id": "96c1ac9a-7128-4711-a5e0-7bd3d0ff86aa",
   "metadata": {},
   "outputs": [
    {
     "data": {
      "text/html": [
       "<div>\n",
       "<style scoped>\n",
       "    .dataframe tbody tr th:only-of-type {\n",
       "        vertical-align: middle;\n",
       "    }\n",
       "\n",
       "    .dataframe tbody tr th {\n",
       "        vertical-align: top;\n",
       "    }\n",
       "\n",
       "    .dataframe thead th {\n",
       "        text-align: right;\n",
       "    }\n",
       "</style>\n",
       "<table border=\"1\" class=\"dataframe\">\n",
       "  <thead>\n",
       "    <tr style=\"text-align: right;\">\n",
       "      <th></th>\n",
       "      <th>Unnamed: 0</th>\n",
       "      <th>Ozone</th>\n",
       "      <th>Solar.R</th>\n",
       "      <th>Wind</th>\n",
       "      <th>Temp C</th>\n",
       "      <th>Month</th>\n",
       "      <th>Day</th>\n",
       "      <th>Year</th>\n",
       "      <th>Temp</th>\n",
       "      <th>Weather</th>\n",
       "    </tr>\n",
       "  </thead>\n",
       "  <tbody>\n",
       "    <tr>\n",
       "      <th>153</th>\n",
       "      <td>154</td>\n",
       "      <td>41.0</td>\n",
       "      <td>190.0</td>\n",
       "      <td>7.4</td>\n",
       "      <td>67</td>\n",
       "      <td>5</td>\n",
       "      <td>1</td>\n",
       "      <td>2010</td>\n",
       "      <td>67</td>\n",
       "      <td>C</td>\n",
       "    </tr>\n",
       "    <tr>\n",
       "      <th>154</th>\n",
       "      <td>155</td>\n",
       "      <td>30.0</td>\n",
       "      <td>193.0</td>\n",
       "      <td>6.9</td>\n",
       "      <td>70</td>\n",
       "      <td>9</td>\n",
       "      <td>26</td>\n",
       "      <td>2010</td>\n",
       "      <td>70</td>\n",
       "      <td>PS</td>\n",
       "    </tr>\n",
       "    <tr>\n",
       "      <th>155</th>\n",
       "      <td>156</td>\n",
       "      <td>NaN</td>\n",
       "      <td>145.0</td>\n",
       "      <td>13.2</td>\n",
       "      <td>77</td>\n",
       "      <td>9</td>\n",
       "      <td>27</td>\n",
       "      <td>2010</td>\n",
       "      <td>77</td>\n",
       "      <td>S</td>\n",
       "    </tr>\n",
       "    <tr>\n",
       "      <th>156</th>\n",
       "      <td>157</td>\n",
       "      <td>14.0</td>\n",
       "      <td>191.0</td>\n",
       "      <td>14.3</td>\n",
       "      <td>75</td>\n",
       "      <td>9</td>\n",
       "      <td>28</td>\n",
       "      <td>2010</td>\n",
       "      <td>75</td>\n",
       "      <td>S</td>\n",
       "    </tr>\n",
       "    <tr>\n",
       "      <th>157</th>\n",
       "      <td>158</td>\n",
       "      <td>18.0</td>\n",
       "      <td>131.0</td>\n",
       "      <td>8.0</td>\n",
       "      <td>76</td>\n",
       "      <td>9</td>\n",
       "      <td>29</td>\n",
       "      <td>2010</td>\n",
       "      <td>76</td>\n",
       "      <td>C</td>\n",
       "    </tr>\n",
       "  </tbody>\n",
       "</table>\n",
       "</div>"
      ],
      "text/plain": [
       "     Unnamed: 0  Ozone  Solar.R  Wind Temp C Month  Day  Year  Temp Weather\n",
       "153         154   41.0    190.0   7.4     67     5    1  2010    67       C\n",
       "154         155   30.0    193.0   6.9     70     9   26  2010    70      PS\n",
       "155         156    NaN    145.0  13.2     77     9   27  2010    77       S\n",
       "156         157   14.0    191.0  14.3     75     9   28  2010    75       S\n",
       "157         158   18.0    131.0   8.0     76     9   29  2010    76       C"
      ]
     },
     "execution_count": 243,
     "metadata": {},
     "output_type": "execute_result"
    }
   ],
   "source": [
    "data.tail()"
   ]
  },
  {
   "cell_type": "markdown",
   "id": "602ea9c7-bdb2-410a-81f6-c731d38ef837",
   "metadata": {},
   "source": [
    "# data type conversion"
   ]
  },
  {
   "cell_type": "code",
   "execution_count": 245,
   "id": "6cf668ab-56fd-4be8-810f-442131429162",
   "metadata": {},
   "outputs": [
    {
     "name": "stdout",
     "output_type": "stream",
     "text": [
      "<class 'pandas.core.frame.DataFrame'>\n",
      "RangeIndex: 158 entries, 0 to 157\n",
      "Data columns (total 10 columns):\n",
      " #   Column      Non-Null Count  Dtype  \n",
      "---  ------      --------------  -----  \n",
      " 0   Unnamed: 0  158 non-null    int64  \n",
      " 1   Ozone       120 non-null    float64\n",
      " 2   Solar.R     151 non-null    float64\n",
      " 3   Wind        158 non-null    float64\n",
      " 4   Temp C      158 non-null    object \n",
      " 5   Month       158 non-null    object \n",
      " 6   Day         158 non-null    int64  \n",
      " 7   Year        158 non-null    int64  \n",
      " 8   Temp        158 non-null    int64  \n",
      " 9   Weather     155 non-null    object \n",
      "dtypes: float64(3), int64(4), object(3)\n",
      "memory usage: 12.5+ KB\n"
     ]
    }
   ],
   "source": [
    "data.info()"
   ]
  },
  {
   "cell_type": "code",
   "execution_count": 246,
   "id": "40918620-af8b-457b-9d9d-4180308c1c48",
   "metadata": {},
   "outputs": [
    {
     "data": {
      "text/plain": [
       "array(['67', '72', '74', '62', '56', '66', '65', '59', '61', '69', 'C',\n",
       "       '68', '58', '64', '57', '73', '81', '79', '76', '78', '84', '85',\n",
       "       '82', '87', '90', '93', '92', '80', '77', '75', '83', '88', '89',\n",
       "       '91', '86', '97', '94', '96', '71', '63', '70'], dtype=object)"
      ]
     },
     "execution_count": 246,
     "metadata": {},
     "output_type": "execute_result"
    }
   ],
   "source": [
    "data['Temp C'].unique()"
   ]
  },
  {
   "cell_type": "code",
   "execution_count": 247,
   "id": "391628e4-e98a-491d-a5bb-bdde239fe6bd",
   "metadata": {},
   "outputs": [
    {
     "data": {
      "text/plain": [
       "array(['5', 'May', '6', '7', '8', '9'], dtype=object)"
      ]
     },
     "execution_count": 247,
     "metadata": {},
     "output_type": "execute_result"
    }
   ],
   "source": [
    "data.Month.unique()"
   ]
  },
  {
   "cell_type": "code",
   "execution_count": 248,
   "id": "871c242c-9f1d-4c03-88aa-02cafb7a2444",
   "metadata": {},
   "outputs": [
    {
     "data": {
      "text/plain": [
       "Unnamed: 0      int64\n",
       "Ozone         float64\n",
       "Solar.R       float64\n",
       "Wind          float64\n",
       "Temp C         object\n",
       "Month          object\n",
       "Day             int64\n",
       "Year            int64\n",
       "Temp            int64\n",
       "Weather        object\n",
       "dtype: object"
      ]
     },
     "execution_count": 248,
     "metadata": {},
     "output_type": "execute_result"
    }
   ],
   "source": [
    "data.dtypes"
   ]
  },
  {
   "cell_type": "code",
   "execution_count": 249,
   "id": "08c77333-827d-4219-a34b-bac4f15f4c4b",
   "metadata": {},
   "outputs": [],
   "source": [
    "data.Month=pd.to_numeric(data.Month,errors=\"coerce\")\n",
    "data[\"Temp C\"]=pd.to_numeric(data['Temp C'],errors=\"coerce\")\n",
    "data.Weather=data.Weather.astype(\"category\")\n",
    "data.Wind=data.Wind.astype(\"int64\")"
   ]
  },
  {
   "cell_type": "code",
   "execution_count": 250,
   "id": "caf0dc1f-4374-413b-9fdd-6e3c15babccb",
   "metadata": {},
   "outputs": [
    {
     "data": {
      "text/plain": [
       "Unnamed: 0       int64\n",
       "Ozone          float64\n",
       "Solar.R        float64\n",
       "Wind             int64\n",
       "Temp C         float64\n",
       "Month          float64\n",
       "Day              int64\n",
       "Year             int64\n",
       "Temp             int64\n",
       "Weather       category\n",
       "dtype: object"
      ]
     },
     "execution_count": 250,
     "metadata": {},
     "output_type": "execute_result"
    }
   ],
   "source": [
    "data.dtypes"
   ]
  },
  {
   "cell_type": "code",
   "execution_count": 251,
   "id": "99eb1b80-9703-4602-84dd-585ecde16f6c",
   "metadata": {},
   "outputs": [
    {
     "data": {
      "text/plain": [
       "array([2010], dtype=int64)"
      ]
     },
     "execution_count": 251,
     "metadata": {},
     "output_type": "execute_result"
    }
   ],
   "source": [
    "data.Year.unique()"
   ]
  },
  {
   "cell_type": "markdown",
   "id": "bc9e23c5-1dc6-4734-93a6-341ba4d2eeeb",
   "metadata": {},
   "source": [
    "# duplicates"
   ]
  },
  {
   "cell_type": "code",
   "execution_count": 253,
   "id": "00e886af-6ae7-46c8-80de-ab7e77857f0b",
   "metadata": {},
   "outputs": [
    {
     "data": {
      "text/plain": [
       "0      False\n",
       "1      False\n",
       "2      False\n",
       "3      False\n",
       "4      False\n",
       "       ...  \n",
       "153    False\n",
       "154    False\n",
       "155    False\n",
       "156    False\n",
       "157    False\n",
       "Length: 158, dtype: bool"
      ]
     },
     "execution_count": 253,
     "metadata": {},
     "output_type": "execute_result"
    }
   ],
   "source": [
    "data.duplicated()"
   ]
  },
  {
   "cell_type": "code",
   "execution_count": 254,
   "id": "619bdd1d-93e6-42ec-8aed-a6c9e8fdd319",
   "metadata": {},
   "outputs": [
    {
     "data": {
      "text/html": [
       "<div>\n",
       "<style scoped>\n",
       "    .dataframe tbody tr th:only-of-type {\n",
       "        vertical-align: middle;\n",
       "    }\n",
       "\n",
       "    .dataframe tbody tr th {\n",
       "        vertical-align: top;\n",
       "    }\n",
       "\n",
       "    .dataframe thead th {\n",
       "        text-align: right;\n",
       "    }\n",
       "</style>\n",
       "<table border=\"1\" class=\"dataframe\">\n",
       "  <thead>\n",
       "    <tr style=\"text-align: right;\">\n",
       "      <th></th>\n",
       "      <th>Unnamed: 0</th>\n",
       "      <th>Ozone</th>\n",
       "      <th>Solar.R</th>\n",
       "      <th>Wind</th>\n",
       "      <th>Temp C</th>\n",
       "      <th>Month</th>\n",
       "      <th>Day</th>\n",
       "      <th>Year</th>\n",
       "      <th>Temp</th>\n",
       "      <th>Weather</th>\n",
       "    </tr>\n",
       "  </thead>\n",
       "  <tbody>\n",
       "  </tbody>\n",
       "</table>\n",
       "</div>"
      ],
      "text/plain": [
       "Empty DataFrame\n",
       "Columns: [Unnamed: 0, Ozone, Solar.R, Wind, Temp C, Month, Day, Year, Temp, Weather]\n",
       "Index: []"
      ]
     },
     "execution_count": 254,
     "metadata": {},
     "output_type": "execute_result"
    }
   ],
   "source": [
    "data[data.duplicated()]"
   ]
  },
  {
   "cell_type": "code",
   "execution_count": 255,
   "id": "b924feab-e9be-4956-a1f5-92d308b154b0",
   "metadata": {},
   "outputs": [
    {
     "data": {
      "text/plain": [
       "0"
      ]
     },
     "execution_count": 255,
     "metadata": {},
     "output_type": "execute_result"
    }
   ],
   "source": [
    "data[data.duplicated()].shape[0]"
   ]
  },
  {
   "cell_type": "code",
   "execution_count": 256,
   "id": "5e98e4b4-67bf-4672-804d-49fa39370695",
   "metadata": {},
   "outputs": [
    {
     "data": {
      "text/plain": [
       "10"
      ]
     },
     "execution_count": 256,
     "metadata": {},
     "output_type": "execute_result"
    }
   ],
   "source": [
    "data[data.duplicated()].shape[1]"
   ]
  },
  {
   "cell_type": "code",
   "execution_count": 257,
   "id": "0c42334c-51d4-4472-940e-776089002ae1",
   "metadata": {},
   "outputs": [
    {
     "data": {
      "text/plain": [
       "Index([], dtype='object')"
      ]
     },
     "execution_count": 257,
     "metadata": {},
     "output_type": "execute_result"
    }
   ],
   "source": [
    "data.columns[data.columns.duplicated()]"
   ]
  },
  {
   "cell_type": "code",
   "execution_count": 258,
   "id": "049cf9f4-35e9-4bb1-9e47-2f88bfc89cdb",
   "metadata": {},
   "outputs": [],
   "source": [
    "data_cleaned1=data.drop_duplicates()"
   ]
  },
  {
   "cell_type": "code",
   "execution_count": 259,
   "id": "2eacf7d1-868c-47cd-9726-6c6f389c9751",
   "metadata": {},
   "outputs": [
    {
     "name": "stdout",
     "output_type": "stream",
     "text": [
      "   a  b  c\n",
      "0  1  2  5\n",
      "1  2  3  6\n",
      "2  3  4  7\n",
      "3  3  3  3\n",
      "4  3  3  3\n",
      "5  5  6  6\n"
     ]
    },
    {
     "data": {
      "text/html": [
       "<div>\n",
       "<style scoped>\n",
       "    .dataframe tbody tr th:only-of-type {\n",
       "        vertical-align: middle;\n",
       "    }\n",
       "\n",
       "    .dataframe tbody tr th {\n",
       "        vertical-align: top;\n",
       "    }\n",
       "\n",
       "    .dataframe thead th {\n",
       "        text-align: right;\n",
       "    }\n",
       "</style>\n",
       "<table border=\"1\" class=\"dataframe\">\n",
       "  <thead>\n",
       "    <tr style=\"text-align: right;\">\n",
       "      <th></th>\n",
       "      <th>a</th>\n",
       "      <th>b</th>\n",
       "      <th>c</th>\n",
       "    </tr>\n",
       "  </thead>\n",
       "  <tbody>\n",
       "    <tr>\n",
       "      <th>4</th>\n",
       "      <td>3</td>\n",
       "      <td>3</td>\n",
       "      <td>3</td>\n",
       "    </tr>\n",
       "  </tbody>\n",
       "</table>\n",
       "</div>"
      ],
      "text/plain": [
       "   a  b  c\n",
       "4  3  3  3"
      ]
     },
     "execution_count": 259,
     "metadata": {},
     "output_type": "execute_result"
    }
   ],
   "source": [
    "dict1={'a':[1,2,3,3,3,5],'b':[2,3,4,3,3,6],'c':[5,6,7,3,3,6]}\n",
    "df=pd.DataFrame(dict1)\n",
    "print(df)\n",
    "df[df.duplicated()]\n"
   ]
  },
  {
   "cell_type": "code",
   "execution_count": 260,
   "id": "3075d634-6412-4a3b-92c9-b1a56d9b0edf",
   "metadata": {},
   "outputs": [],
   "source": [
    "df1=df.drop_duplicates()"
   ]
  },
  {
   "cell_type": "code",
   "execution_count": 261,
   "id": "3d1c9e48-4402-4cfe-9a15-b010b7814beb",
   "metadata": {},
   "outputs": [
    {
     "data": {
      "text/html": [
       "<div>\n",
       "<style scoped>\n",
       "    .dataframe tbody tr th:only-of-type {\n",
       "        vertical-align: middle;\n",
       "    }\n",
       "\n",
       "    .dataframe tbody tr th {\n",
       "        vertical-align: top;\n",
       "    }\n",
       "\n",
       "    .dataframe thead th {\n",
       "        text-align: right;\n",
       "    }\n",
       "</style>\n",
       "<table border=\"1\" class=\"dataframe\">\n",
       "  <thead>\n",
       "    <tr style=\"text-align: right;\">\n",
       "      <th></th>\n",
       "      <th>a</th>\n",
       "      <th>b</th>\n",
       "      <th>c</th>\n",
       "    </tr>\n",
       "  </thead>\n",
       "  <tbody>\n",
       "    <tr>\n",
       "      <th>0</th>\n",
       "      <td>1</td>\n",
       "      <td>2</td>\n",
       "      <td>5</td>\n",
       "    </tr>\n",
       "    <tr>\n",
       "      <th>1</th>\n",
       "      <td>2</td>\n",
       "      <td>3</td>\n",
       "      <td>6</td>\n",
       "    </tr>\n",
       "    <tr>\n",
       "      <th>2</th>\n",
       "      <td>3</td>\n",
       "      <td>4</td>\n",
       "      <td>7</td>\n",
       "    </tr>\n",
       "    <tr>\n",
       "      <th>3</th>\n",
       "      <td>3</td>\n",
       "      <td>3</td>\n",
       "      <td>3</td>\n",
       "    </tr>\n",
       "    <tr>\n",
       "      <th>5</th>\n",
       "      <td>5</td>\n",
       "      <td>6</td>\n",
       "      <td>6</td>\n",
       "    </tr>\n",
       "  </tbody>\n",
       "</table>\n",
       "</div>"
      ],
      "text/plain": [
       "   a  b  c\n",
       "0  1  2  5\n",
       "1  2  3  6\n",
       "2  3  4  7\n",
       "3  3  3  3\n",
       "5  5  6  6"
      ]
     },
     "execution_count": 261,
     "metadata": {},
     "output_type": "execute_result"
    }
   ],
   "source": [
    "df1"
   ]
  },
  {
   "cell_type": "code",
   "execution_count": 262,
   "id": "90b960b0-17d0-4cac-ae77-69c8e0b67419",
   "metadata": {},
   "outputs": [
    {
     "data": {
      "text/html": [
       "<div>\n",
       "<style scoped>\n",
       "    .dataframe tbody tr th:only-of-type {\n",
       "        vertical-align: middle;\n",
       "    }\n",
       "\n",
       "    .dataframe tbody tr th {\n",
       "        vertical-align: top;\n",
       "    }\n",
       "\n",
       "    .dataframe thead th {\n",
       "        text-align: right;\n",
       "    }\n",
       "</style>\n",
       "<table border=\"1\" class=\"dataframe\">\n",
       "  <thead>\n",
       "    <tr style=\"text-align: right;\">\n",
       "      <th></th>\n",
       "      <th>index</th>\n",
       "      <th>a</th>\n",
       "      <th>b</th>\n",
       "      <th>c</th>\n",
       "    </tr>\n",
       "  </thead>\n",
       "  <tbody>\n",
       "    <tr>\n",
       "      <th>0</th>\n",
       "      <td>0</td>\n",
       "      <td>1</td>\n",
       "      <td>2</td>\n",
       "      <td>5</td>\n",
       "    </tr>\n",
       "    <tr>\n",
       "      <th>1</th>\n",
       "      <td>1</td>\n",
       "      <td>2</td>\n",
       "      <td>3</td>\n",
       "      <td>6</td>\n",
       "    </tr>\n",
       "    <tr>\n",
       "      <th>2</th>\n",
       "      <td>2</td>\n",
       "      <td>3</td>\n",
       "      <td>4</td>\n",
       "      <td>7</td>\n",
       "    </tr>\n",
       "    <tr>\n",
       "      <th>3</th>\n",
       "      <td>3</td>\n",
       "      <td>3</td>\n",
       "      <td>3</td>\n",
       "      <td>3</td>\n",
       "    </tr>\n",
       "    <tr>\n",
       "      <th>4</th>\n",
       "      <td>5</td>\n",
       "      <td>5</td>\n",
       "      <td>6</td>\n",
       "      <td>6</td>\n",
       "    </tr>\n",
       "  </tbody>\n",
       "</table>\n",
       "</div>"
      ],
      "text/plain": [
       "   index  a  b  c\n",
       "0      0  1  2  5\n",
       "1      1  2  3  6\n",
       "2      2  3  4  7\n",
       "3      3  3  3  3\n",
       "4      5  5  6  6"
      ]
     },
     "execution_count": 262,
     "metadata": {},
     "output_type": "execute_result"
    }
   ],
   "source": [
    "df1.reset_index()"
   ]
  },
  {
   "cell_type": "code",
   "execution_count": 263,
   "id": "7604b23a-962a-4d27-a864-c6e00dd55755",
   "metadata": {},
   "outputs": [],
   "source": [
    "df.drop_duplicates(inplace=True)"
   ]
  },
  {
   "cell_type": "code",
   "execution_count": 264,
   "id": "0dbf4ff8-1847-4afb-af56-174963af0123",
   "metadata": {},
   "outputs": [
    {
     "data": {
      "text/html": [
       "<div>\n",
       "<style scoped>\n",
       "    .dataframe tbody tr th:only-of-type {\n",
       "        vertical-align: middle;\n",
       "    }\n",
       "\n",
       "    .dataframe tbody tr th {\n",
       "        vertical-align: top;\n",
       "    }\n",
       "\n",
       "    .dataframe thead th {\n",
       "        text-align: right;\n",
       "    }\n",
       "</style>\n",
       "<table border=\"1\" class=\"dataframe\">\n",
       "  <thead>\n",
       "    <tr style=\"text-align: right;\">\n",
       "      <th></th>\n",
       "      <th>a</th>\n",
       "      <th>b</th>\n",
       "      <th>c</th>\n",
       "    </tr>\n",
       "  </thead>\n",
       "  <tbody>\n",
       "    <tr>\n",
       "      <th>0</th>\n",
       "      <td>1</td>\n",
       "      <td>2</td>\n",
       "      <td>5</td>\n",
       "    </tr>\n",
       "    <tr>\n",
       "      <th>1</th>\n",
       "      <td>2</td>\n",
       "      <td>3</td>\n",
       "      <td>6</td>\n",
       "    </tr>\n",
       "    <tr>\n",
       "      <th>2</th>\n",
       "      <td>3</td>\n",
       "      <td>4</td>\n",
       "      <td>7</td>\n",
       "    </tr>\n",
       "    <tr>\n",
       "      <th>3</th>\n",
       "      <td>3</td>\n",
       "      <td>3</td>\n",
       "      <td>3</td>\n",
       "    </tr>\n",
       "    <tr>\n",
       "      <th>5</th>\n",
       "      <td>5</td>\n",
       "      <td>6</td>\n",
       "      <td>6</td>\n",
       "    </tr>\n",
       "  </tbody>\n",
       "</table>\n",
       "</div>"
      ],
      "text/plain": [
       "   a  b  c\n",
       "0  1  2  5\n",
       "1  2  3  6\n",
       "2  3  4  7\n",
       "3  3  3  3\n",
       "5  5  6  6"
      ]
     },
     "execution_count": 264,
     "metadata": {},
     "output_type": "execute_result"
    }
   ],
   "source": [
    "df\n"
   ]
  },
  {
   "cell_type": "code",
   "execution_count": 265,
   "id": "2995e3cb-1bdf-42c7-92e5-1271d8a580ed",
   "metadata": {},
   "outputs": [
    {
     "data": {
      "text/html": [
       "<div>\n",
       "<style scoped>\n",
       "    .dataframe tbody tr th:only-of-type {\n",
       "        vertical-align: middle;\n",
       "    }\n",
       "\n",
       "    .dataframe tbody tr th {\n",
       "        vertical-align: top;\n",
       "    }\n",
       "\n",
       "    .dataframe thead th {\n",
       "        text-align: right;\n",
       "    }\n",
       "</style>\n",
       "<table border=\"1\" class=\"dataframe\">\n",
       "  <thead>\n",
       "    <tr style=\"text-align: right;\">\n",
       "      <th></th>\n",
       "      <th>Unnamed: 0</th>\n",
       "      <th>Ozone</th>\n",
       "      <th>Solar.R</th>\n",
       "      <th>Wind</th>\n",
       "      <th>Temp C</th>\n",
       "      <th>Month</th>\n",
       "      <th>Day</th>\n",
       "      <th>Year</th>\n",
       "      <th>Temp</th>\n",
       "      <th>Weather</th>\n",
       "    </tr>\n",
       "  </thead>\n",
       "  <tbody>\n",
       "    <tr>\n",
       "      <th>0</th>\n",
       "      <td>1</td>\n",
       "      <td>41.0</td>\n",
       "      <td>190.0</td>\n",
       "      <td>7</td>\n",
       "      <td>67.0</td>\n",
       "      <td>5.0</td>\n",
       "      <td>1</td>\n",
       "      <td>2010</td>\n",
       "      <td>67</td>\n",
       "      <td>S</td>\n",
       "    </tr>\n",
       "    <tr>\n",
       "      <th>1</th>\n",
       "      <td>2</td>\n",
       "      <td>36.0</td>\n",
       "      <td>118.0</td>\n",
       "      <td>8</td>\n",
       "      <td>72.0</td>\n",
       "      <td>5.0</td>\n",
       "      <td>2</td>\n",
       "      <td>2010</td>\n",
       "      <td>72</td>\n",
       "      <td>C</td>\n",
       "    </tr>\n",
       "    <tr>\n",
       "      <th>2</th>\n",
       "      <td>3</td>\n",
       "      <td>12.0</td>\n",
       "      <td>149.0</td>\n",
       "      <td>12</td>\n",
       "      <td>74.0</td>\n",
       "      <td>5.0</td>\n",
       "      <td>3</td>\n",
       "      <td>2010</td>\n",
       "      <td>74</td>\n",
       "      <td>PS</td>\n",
       "    </tr>\n",
       "    <tr>\n",
       "      <th>3</th>\n",
       "      <td>4</td>\n",
       "      <td>18.0</td>\n",
       "      <td>313.0</td>\n",
       "      <td>11</td>\n",
       "      <td>62.0</td>\n",
       "      <td>5.0</td>\n",
       "      <td>4</td>\n",
       "      <td>2010</td>\n",
       "      <td>62</td>\n",
       "      <td>S</td>\n",
       "    </tr>\n",
       "    <tr>\n",
       "      <th>4</th>\n",
       "      <td>5</td>\n",
       "      <td>NaN</td>\n",
       "      <td>NaN</td>\n",
       "      <td>14</td>\n",
       "      <td>56.0</td>\n",
       "      <td>5.0</td>\n",
       "      <td>5</td>\n",
       "      <td>2010</td>\n",
       "      <td>56</td>\n",
       "      <td>S</td>\n",
       "    </tr>\n",
       "  </tbody>\n",
       "</table>\n",
       "</div>"
      ],
      "text/plain": [
       "   Unnamed: 0  Ozone  Solar.R  Wind  Temp C  Month  Day  Year  Temp Weather\n",
       "0           1   41.0    190.0     7    67.0    5.0    1  2010    67       S\n",
       "1           2   36.0    118.0     8    72.0    5.0    2  2010    72       C\n",
       "2           3   12.0    149.0    12    74.0    5.0    3  2010    74      PS\n",
       "3           4   18.0    313.0    11    62.0    5.0    4  2010    62       S\n",
       "4           5    NaN      NaN    14    56.0    5.0    5  2010    56       S"
      ]
     },
     "execution_count": 265,
     "metadata": {},
     "output_type": "execute_result"
    }
   ],
   "source": [
    "data_cleaned1.head()"
   ]
  },
  {
   "cell_type": "code",
   "execution_count": 266,
   "id": "2a17aefa-8a6e-45e4-b9d8-669f2f73569f",
   "metadata": {},
   "outputs": [
    {
     "data": {
      "text/html": [
       "<div>\n",
       "<style scoped>\n",
       "    .dataframe tbody tr th:only-of-type {\n",
       "        vertical-align: middle;\n",
       "    }\n",
       "\n",
       "    .dataframe tbody tr th {\n",
       "        vertical-align: top;\n",
       "    }\n",
       "\n",
       "    .dataframe thead th {\n",
       "        text-align: right;\n",
       "    }\n",
       "</style>\n",
       "<table border=\"1\" class=\"dataframe\">\n",
       "  <thead>\n",
       "    <tr style=\"text-align: right;\">\n",
       "      <th></th>\n",
       "      <th>Unnamed: 0</th>\n",
       "      <th>Ozone</th>\n",
       "      <th>Solar.R</th>\n",
       "      <th>Wind</th>\n",
       "      <th>Temp C</th>\n",
       "      <th>Month</th>\n",
       "      <th>Day</th>\n",
       "      <th>Year</th>\n",
       "      <th>Temp</th>\n",
       "      <th>Weather</th>\n",
       "    </tr>\n",
       "  </thead>\n",
       "  <tbody>\n",
       "    <tr>\n",
       "      <th>153</th>\n",
       "      <td>154</td>\n",
       "      <td>41.0</td>\n",
       "      <td>190.0</td>\n",
       "      <td>7</td>\n",
       "      <td>67.0</td>\n",
       "      <td>5.0</td>\n",
       "      <td>1</td>\n",
       "      <td>2010</td>\n",
       "      <td>67</td>\n",
       "      <td>C</td>\n",
       "    </tr>\n",
       "    <tr>\n",
       "      <th>154</th>\n",
       "      <td>155</td>\n",
       "      <td>30.0</td>\n",
       "      <td>193.0</td>\n",
       "      <td>6</td>\n",
       "      <td>70.0</td>\n",
       "      <td>9.0</td>\n",
       "      <td>26</td>\n",
       "      <td>2010</td>\n",
       "      <td>70</td>\n",
       "      <td>PS</td>\n",
       "    </tr>\n",
       "    <tr>\n",
       "      <th>155</th>\n",
       "      <td>156</td>\n",
       "      <td>NaN</td>\n",
       "      <td>145.0</td>\n",
       "      <td>13</td>\n",
       "      <td>77.0</td>\n",
       "      <td>9.0</td>\n",
       "      <td>27</td>\n",
       "      <td>2010</td>\n",
       "      <td>77</td>\n",
       "      <td>S</td>\n",
       "    </tr>\n",
       "    <tr>\n",
       "      <th>156</th>\n",
       "      <td>157</td>\n",
       "      <td>14.0</td>\n",
       "      <td>191.0</td>\n",
       "      <td>14</td>\n",
       "      <td>75.0</td>\n",
       "      <td>9.0</td>\n",
       "      <td>28</td>\n",
       "      <td>2010</td>\n",
       "      <td>75</td>\n",
       "      <td>S</td>\n",
       "    </tr>\n",
       "    <tr>\n",
       "      <th>157</th>\n",
       "      <td>158</td>\n",
       "      <td>18.0</td>\n",
       "      <td>131.0</td>\n",
       "      <td>8</td>\n",
       "      <td>76.0</td>\n",
       "      <td>9.0</td>\n",
       "      <td>29</td>\n",
       "      <td>2010</td>\n",
       "      <td>76</td>\n",
       "      <td>C</td>\n",
       "    </tr>\n",
       "  </tbody>\n",
       "</table>\n",
       "</div>"
      ],
      "text/plain": [
       "     Unnamed: 0  Ozone  Solar.R  Wind  Temp C  Month  Day  Year  Temp Weather\n",
       "153         154   41.0    190.0     7    67.0    5.0    1  2010    67       C\n",
       "154         155   30.0    193.0     6    70.0    9.0   26  2010    70      PS\n",
       "155         156    NaN    145.0    13    77.0    9.0   27  2010    77       S\n",
       "156         157   14.0    191.0    14    75.0    9.0   28  2010    75       S\n",
       "157         158   18.0    131.0     8    76.0    9.0   29  2010    76       C"
      ]
     },
     "execution_count": 266,
     "metadata": {},
     "output_type": "execute_result"
    }
   ],
   "source": [
    "data_cleaned1.tail()"
   ]
  },
  {
   "cell_type": "code",
   "execution_count": 267,
   "id": "d4e50521-b44c-48cc-8d02-b43920cee5c0",
   "metadata": {},
   "outputs": [
    {
     "data": {
      "text/html": [
       "<div>\n",
       "<style scoped>\n",
       "    .dataframe tbody tr th:only-of-type {\n",
       "        vertical-align: middle;\n",
       "    }\n",
       "\n",
       "    .dataframe tbody tr th {\n",
       "        vertical-align: top;\n",
       "    }\n",
       "\n",
       "    .dataframe thead th {\n",
       "        text-align: right;\n",
       "    }\n",
       "</style>\n",
       "<table border=\"1\" class=\"dataframe\">\n",
       "  <thead>\n",
       "    <tr style=\"text-align: right;\">\n",
       "      <th></th>\n",
       "      <th>index</th>\n",
       "      <th>Unnamed: 0</th>\n",
       "      <th>Ozone</th>\n",
       "      <th>Solar.R</th>\n",
       "      <th>Wind</th>\n",
       "      <th>Temp C</th>\n",
       "      <th>Month</th>\n",
       "      <th>Day</th>\n",
       "      <th>Year</th>\n",
       "      <th>Temp</th>\n",
       "      <th>Weather</th>\n",
       "    </tr>\n",
       "  </thead>\n",
       "  <tbody>\n",
       "    <tr>\n",
       "      <th>0</th>\n",
       "      <td>0</td>\n",
       "      <td>1</td>\n",
       "      <td>41.0</td>\n",
       "      <td>190.0</td>\n",
       "      <td>7</td>\n",
       "      <td>67.0</td>\n",
       "      <td>5.0</td>\n",
       "      <td>1</td>\n",
       "      <td>2010</td>\n",
       "      <td>67</td>\n",
       "      <td>S</td>\n",
       "    </tr>\n",
       "    <tr>\n",
       "      <th>1</th>\n",
       "      <td>1</td>\n",
       "      <td>2</td>\n",
       "      <td>36.0</td>\n",
       "      <td>118.0</td>\n",
       "      <td>8</td>\n",
       "      <td>72.0</td>\n",
       "      <td>5.0</td>\n",
       "      <td>2</td>\n",
       "      <td>2010</td>\n",
       "      <td>72</td>\n",
       "      <td>C</td>\n",
       "    </tr>\n",
       "    <tr>\n",
       "      <th>2</th>\n",
       "      <td>2</td>\n",
       "      <td>3</td>\n",
       "      <td>12.0</td>\n",
       "      <td>149.0</td>\n",
       "      <td>12</td>\n",
       "      <td>74.0</td>\n",
       "      <td>5.0</td>\n",
       "      <td>3</td>\n",
       "      <td>2010</td>\n",
       "      <td>74</td>\n",
       "      <td>PS</td>\n",
       "    </tr>\n",
       "    <tr>\n",
       "      <th>3</th>\n",
       "      <td>3</td>\n",
       "      <td>4</td>\n",
       "      <td>18.0</td>\n",
       "      <td>313.0</td>\n",
       "      <td>11</td>\n",
       "      <td>62.0</td>\n",
       "      <td>5.0</td>\n",
       "      <td>4</td>\n",
       "      <td>2010</td>\n",
       "      <td>62</td>\n",
       "      <td>S</td>\n",
       "    </tr>\n",
       "    <tr>\n",
       "      <th>4</th>\n",
       "      <td>4</td>\n",
       "      <td>5</td>\n",
       "      <td>NaN</td>\n",
       "      <td>NaN</td>\n",
       "      <td>14</td>\n",
       "      <td>56.0</td>\n",
       "      <td>5.0</td>\n",
       "      <td>5</td>\n",
       "      <td>2010</td>\n",
       "      <td>56</td>\n",
       "      <td>S</td>\n",
       "    </tr>\n",
       "    <tr>\n",
       "      <th>...</th>\n",
       "      <td>...</td>\n",
       "      <td>...</td>\n",
       "      <td>...</td>\n",
       "      <td>...</td>\n",
       "      <td>...</td>\n",
       "      <td>...</td>\n",
       "      <td>...</td>\n",
       "      <td>...</td>\n",
       "      <td>...</td>\n",
       "      <td>...</td>\n",
       "      <td>...</td>\n",
       "    </tr>\n",
       "    <tr>\n",
       "      <th>153</th>\n",
       "      <td>153</td>\n",
       "      <td>154</td>\n",
       "      <td>41.0</td>\n",
       "      <td>190.0</td>\n",
       "      <td>7</td>\n",
       "      <td>67.0</td>\n",
       "      <td>5.0</td>\n",
       "      <td>1</td>\n",
       "      <td>2010</td>\n",
       "      <td>67</td>\n",
       "      <td>C</td>\n",
       "    </tr>\n",
       "    <tr>\n",
       "      <th>154</th>\n",
       "      <td>154</td>\n",
       "      <td>155</td>\n",
       "      <td>30.0</td>\n",
       "      <td>193.0</td>\n",
       "      <td>6</td>\n",
       "      <td>70.0</td>\n",
       "      <td>9.0</td>\n",
       "      <td>26</td>\n",
       "      <td>2010</td>\n",
       "      <td>70</td>\n",
       "      <td>PS</td>\n",
       "    </tr>\n",
       "    <tr>\n",
       "      <th>155</th>\n",
       "      <td>155</td>\n",
       "      <td>156</td>\n",
       "      <td>NaN</td>\n",
       "      <td>145.0</td>\n",
       "      <td>13</td>\n",
       "      <td>77.0</td>\n",
       "      <td>9.0</td>\n",
       "      <td>27</td>\n",
       "      <td>2010</td>\n",
       "      <td>77</td>\n",
       "      <td>S</td>\n",
       "    </tr>\n",
       "    <tr>\n",
       "      <th>156</th>\n",
       "      <td>156</td>\n",
       "      <td>157</td>\n",
       "      <td>14.0</td>\n",
       "      <td>191.0</td>\n",
       "      <td>14</td>\n",
       "      <td>75.0</td>\n",
       "      <td>9.0</td>\n",
       "      <td>28</td>\n",
       "      <td>2010</td>\n",
       "      <td>75</td>\n",
       "      <td>S</td>\n",
       "    </tr>\n",
       "    <tr>\n",
       "      <th>157</th>\n",
       "      <td>157</td>\n",
       "      <td>158</td>\n",
       "      <td>18.0</td>\n",
       "      <td>131.0</td>\n",
       "      <td>8</td>\n",
       "      <td>76.0</td>\n",
       "      <td>9.0</td>\n",
       "      <td>29</td>\n",
       "      <td>2010</td>\n",
       "      <td>76</td>\n",
       "      <td>C</td>\n",
       "    </tr>\n",
       "  </tbody>\n",
       "</table>\n",
       "<p>158 rows × 11 columns</p>\n",
       "</div>"
      ],
      "text/plain": [
       "     index  Unnamed: 0  Ozone  Solar.R  Wind  Temp C  Month  Day  Year  Temp  \\\n",
       "0        0           1   41.0    190.0     7    67.0    5.0    1  2010    67   \n",
       "1        1           2   36.0    118.0     8    72.0    5.0    2  2010    72   \n",
       "2        2           3   12.0    149.0    12    74.0    5.0    3  2010    74   \n",
       "3        3           4   18.0    313.0    11    62.0    5.0    4  2010    62   \n",
       "4        4           5    NaN      NaN    14    56.0    5.0    5  2010    56   \n",
       "..     ...         ...    ...      ...   ...     ...    ...  ...   ...   ...   \n",
       "153    153         154   41.0    190.0     7    67.0    5.0    1  2010    67   \n",
       "154    154         155   30.0    193.0     6    70.0    9.0   26  2010    70   \n",
       "155    155         156    NaN    145.0    13    77.0    9.0   27  2010    77   \n",
       "156    156         157   14.0    191.0    14    75.0    9.0   28  2010    75   \n",
       "157    157         158   18.0    131.0     8    76.0    9.0   29  2010    76   \n",
       "\n",
       "    Weather  \n",
       "0         S  \n",
       "1         C  \n",
       "2        PS  \n",
       "3         S  \n",
       "4         S  \n",
       "..      ...  \n",
       "153       C  \n",
       "154      PS  \n",
       "155       S  \n",
       "156       S  \n",
       "157       C  \n",
       "\n",
       "[158 rows x 11 columns]"
      ]
     },
     "execution_count": 267,
     "metadata": {},
     "output_type": "execute_result"
    }
   ],
   "source": [
    "data_cleaned1.reset_index(inplace=True)\n",
    "data_cleaned1"
   ]
  },
  {
   "cell_type": "markdown",
   "id": "d8c07ea4-e0e0-4691-bbd3-14b5e089c851",
   "metadata": {},
   "source": [
    "# drop columns"
   ]
  },
  {
   "cell_type": "code",
   "execution_count": 269,
   "id": "f5f34cf4-f0d3-4531-abdb-8ae4b7eeb2e1",
   "metadata": {},
   "outputs": [],
   "source": [
    "data_cleaned1.drop(['Unnamed: 0','index','Temp C','Year'],axis=1,inplace=True)\n"
   ]
  },
  {
   "cell_type": "code",
   "execution_count": 270,
   "id": "7dd400ad-e542-4097-bc45-07fe861a4c32",
   "metadata": {},
   "outputs": [
    {
     "data": {
      "text/html": [
       "<div>\n",
       "<style scoped>\n",
       "    .dataframe tbody tr th:only-of-type {\n",
       "        vertical-align: middle;\n",
       "    }\n",
       "\n",
       "    .dataframe tbody tr th {\n",
       "        vertical-align: top;\n",
       "    }\n",
       "\n",
       "    .dataframe thead th {\n",
       "        text-align: right;\n",
       "    }\n",
       "</style>\n",
       "<table border=\"1\" class=\"dataframe\">\n",
       "  <thead>\n",
       "    <tr style=\"text-align: right;\">\n",
       "      <th></th>\n",
       "      <th>Ozone</th>\n",
       "      <th>Solar.R</th>\n",
       "      <th>Wind</th>\n",
       "      <th>Month</th>\n",
       "      <th>Day</th>\n",
       "      <th>Temp</th>\n",
       "      <th>Weather</th>\n",
       "    </tr>\n",
       "  </thead>\n",
       "  <tbody>\n",
       "    <tr>\n",
       "      <th>0</th>\n",
       "      <td>41.0</td>\n",
       "      <td>190.0</td>\n",
       "      <td>7</td>\n",
       "      <td>5.0</td>\n",
       "      <td>1</td>\n",
       "      <td>67</td>\n",
       "      <td>S</td>\n",
       "    </tr>\n",
       "    <tr>\n",
       "      <th>1</th>\n",
       "      <td>36.0</td>\n",
       "      <td>118.0</td>\n",
       "      <td>8</td>\n",
       "      <td>5.0</td>\n",
       "      <td>2</td>\n",
       "      <td>72</td>\n",
       "      <td>C</td>\n",
       "    </tr>\n",
       "    <tr>\n",
       "      <th>2</th>\n",
       "      <td>12.0</td>\n",
       "      <td>149.0</td>\n",
       "      <td>12</td>\n",
       "      <td>5.0</td>\n",
       "      <td>3</td>\n",
       "      <td>74</td>\n",
       "      <td>PS</td>\n",
       "    </tr>\n",
       "    <tr>\n",
       "      <th>3</th>\n",
       "      <td>18.0</td>\n",
       "      <td>313.0</td>\n",
       "      <td>11</td>\n",
       "      <td>5.0</td>\n",
       "      <td>4</td>\n",
       "      <td>62</td>\n",
       "      <td>S</td>\n",
       "    </tr>\n",
       "    <tr>\n",
       "      <th>4</th>\n",
       "      <td>NaN</td>\n",
       "      <td>NaN</td>\n",
       "      <td>14</td>\n",
       "      <td>5.0</td>\n",
       "      <td>5</td>\n",
       "      <td>56</td>\n",
       "      <td>S</td>\n",
       "    </tr>\n",
       "    <tr>\n",
       "      <th>...</th>\n",
       "      <td>...</td>\n",
       "      <td>...</td>\n",
       "      <td>...</td>\n",
       "      <td>...</td>\n",
       "      <td>...</td>\n",
       "      <td>...</td>\n",
       "      <td>...</td>\n",
       "    </tr>\n",
       "    <tr>\n",
       "      <th>153</th>\n",
       "      <td>41.0</td>\n",
       "      <td>190.0</td>\n",
       "      <td>7</td>\n",
       "      <td>5.0</td>\n",
       "      <td>1</td>\n",
       "      <td>67</td>\n",
       "      <td>C</td>\n",
       "    </tr>\n",
       "    <tr>\n",
       "      <th>154</th>\n",
       "      <td>30.0</td>\n",
       "      <td>193.0</td>\n",
       "      <td>6</td>\n",
       "      <td>9.0</td>\n",
       "      <td>26</td>\n",
       "      <td>70</td>\n",
       "      <td>PS</td>\n",
       "    </tr>\n",
       "    <tr>\n",
       "      <th>155</th>\n",
       "      <td>NaN</td>\n",
       "      <td>145.0</td>\n",
       "      <td>13</td>\n",
       "      <td>9.0</td>\n",
       "      <td>27</td>\n",
       "      <td>77</td>\n",
       "      <td>S</td>\n",
       "    </tr>\n",
       "    <tr>\n",
       "      <th>156</th>\n",
       "      <td>14.0</td>\n",
       "      <td>191.0</td>\n",
       "      <td>14</td>\n",
       "      <td>9.0</td>\n",
       "      <td>28</td>\n",
       "      <td>75</td>\n",
       "      <td>S</td>\n",
       "    </tr>\n",
       "    <tr>\n",
       "      <th>157</th>\n",
       "      <td>18.0</td>\n",
       "      <td>131.0</td>\n",
       "      <td>8</td>\n",
       "      <td>9.0</td>\n",
       "      <td>29</td>\n",
       "      <td>76</td>\n",
       "      <td>C</td>\n",
       "    </tr>\n",
       "  </tbody>\n",
       "</table>\n",
       "<p>158 rows × 7 columns</p>\n",
       "</div>"
      ],
      "text/plain": [
       "     Ozone  Solar.R  Wind  Month  Day  Temp Weather\n",
       "0     41.0    190.0     7    5.0    1    67       S\n",
       "1     36.0    118.0     8    5.0    2    72       C\n",
       "2     12.0    149.0    12    5.0    3    74      PS\n",
       "3     18.0    313.0    11    5.0    4    62       S\n",
       "4      NaN      NaN    14    5.0    5    56       S\n",
       "..     ...      ...   ...    ...  ...   ...     ...\n",
       "153   41.0    190.0     7    5.0    1    67       C\n",
       "154   30.0    193.0     6    9.0   26    70      PS\n",
       "155    NaN    145.0    13    9.0   27    77       S\n",
       "156   14.0    191.0    14    9.0   28    75       S\n",
       "157   18.0    131.0     8    9.0   29    76       C\n",
       "\n",
       "[158 rows x 7 columns]"
      ]
     },
     "execution_count": 270,
     "metadata": {},
     "output_type": "execute_result"
    }
   ],
   "source": [
    "data_cleaned1"
   ]
  },
  {
   "cell_type": "markdown",
   "id": "3aaca292-547e-4a99-972f-337a479396e2",
   "metadata": {},
   "source": [
    "# rename colmns"
   ]
  },
  {
   "cell_type": "code",
   "execution_count": 272,
   "id": "eabf5f46-038d-4065-8523-879eea25fc11",
   "metadata": {},
   "outputs": [],
   "source": [
    "data_cleaned1.rename({'Solar.R':'Solar','Temp':'Temperature'},axis=1,inplace=True)"
   ]
  },
  {
   "cell_type": "code",
   "execution_count": 273,
   "id": "52f9af4f-bf00-4d7e-8676-b03d1e4e8cb5",
   "metadata": {},
   "outputs": [
    {
     "data": {
      "text/html": [
       "<div>\n",
       "<style scoped>\n",
       "    .dataframe tbody tr th:only-of-type {\n",
       "        vertical-align: middle;\n",
       "    }\n",
       "\n",
       "    .dataframe tbody tr th {\n",
       "        vertical-align: top;\n",
       "    }\n",
       "\n",
       "    .dataframe thead th {\n",
       "        text-align: right;\n",
       "    }\n",
       "</style>\n",
       "<table border=\"1\" class=\"dataframe\">\n",
       "  <thead>\n",
       "    <tr style=\"text-align: right;\">\n",
       "      <th></th>\n",
       "      <th>Ozone</th>\n",
       "      <th>Solar</th>\n",
       "      <th>Wind</th>\n",
       "      <th>Month</th>\n",
       "      <th>Day</th>\n",
       "      <th>Temperature</th>\n",
       "      <th>Weather</th>\n",
       "    </tr>\n",
       "  </thead>\n",
       "  <tbody>\n",
       "    <tr>\n",
       "      <th>0</th>\n",
       "      <td>41.0</td>\n",
       "      <td>190.0</td>\n",
       "      <td>7</td>\n",
       "      <td>5.0</td>\n",
       "      <td>1</td>\n",
       "      <td>67</td>\n",
       "      <td>S</td>\n",
       "    </tr>\n",
       "    <tr>\n",
       "      <th>1</th>\n",
       "      <td>36.0</td>\n",
       "      <td>118.0</td>\n",
       "      <td>8</td>\n",
       "      <td>5.0</td>\n",
       "      <td>2</td>\n",
       "      <td>72</td>\n",
       "      <td>C</td>\n",
       "    </tr>\n",
       "    <tr>\n",
       "      <th>2</th>\n",
       "      <td>12.0</td>\n",
       "      <td>149.0</td>\n",
       "      <td>12</td>\n",
       "      <td>5.0</td>\n",
       "      <td>3</td>\n",
       "      <td>74</td>\n",
       "      <td>PS</td>\n",
       "    </tr>\n",
       "    <tr>\n",
       "      <th>3</th>\n",
       "      <td>18.0</td>\n",
       "      <td>313.0</td>\n",
       "      <td>11</td>\n",
       "      <td>5.0</td>\n",
       "      <td>4</td>\n",
       "      <td>62</td>\n",
       "      <td>S</td>\n",
       "    </tr>\n",
       "    <tr>\n",
       "      <th>4</th>\n",
       "      <td>NaN</td>\n",
       "      <td>NaN</td>\n",
       "      <td>14</td>\n",
       "      <td>5.0</td>\n",
       "      <td>5</td>\n",
       "      <td>56</td>\n",
       "      <td>S</td>\n",
       "    </tr>\n",
       "    <tr>\n",
       "      <th>...</th>\n",
       "      <td>...</td>\n",
       "      <td>...</td>\n",
       "      <td>...</td>\n",
       "      <td>...</td>\n",
       "      <td>...</td>\n",
       "      <td>...</td>\n",
       "      <td>...</td>\n",
       "    </tr>\n",
       "    <tr>\n",
       "      <th>153</th>\n",
       "      <td>41.0</td>\n",
       "      <td>190.0</td>\n",
       "      <td>7</td>\n",
       "      <td>5.0</td>\n",
       "      <td>1</td>\n",
       "      <td>67</td>\n",
       "      <td>C</td>\n",
       "    </tr>\n",
       "    <tr>\n",
       "      <th>154</th>\n",
       "      <td>30.0</td>\n",
       "      <td>193.0</td>\n",
       "      <td>6</td>\n",
       "      <td>9.0</td>\n",
       "      <td>26</td>\n",
       "      <td>70</td>\n",
       "      <td>PS</td>\n",
       "    </tr>\n",
       "    <tr>\n",
       "      <th>155</th>\n",
       "      <td>NaN</td>\n",
       "      <td>145.0</td>\n",
       "      <td>13</td>\n",
       "      <td>9.0</td>\n",
       "      <td>27</td>\n",
       "      <td>77</td>\n",
       "      <td>S</td>\n",
       "    </tr>\n",
       "    <tr>\n",
       "      <th>156</th>\n",
       "      <td>14.0</td>\n",
       "      <td>191.0</td>\n",
       "      <td>14</td>\n",
       "      <td>9.0</td>\n",
       "      <td>28</td>\n",
       "      <td>75</td>\n",
       "      <td>S</td>\n",
       "    </tr>\n",
       "    <tr>\n",
       "      <th>157</th>\n",
       "      <td>18.0</td>\n",
       "      <td>131.0</td>\n",
       "      <td>8</td>\n",
       "      <td>9.0</td>\n",
       "      <td>29</td>\n",
       "      <td>76</td>\n",
       "      <td>C</td>\n",
       "    </tr>\n",
       "  </tbody>\n",
       "</table>\n",
       "<p>158 rows × 7 columns</p>\n",
       "</div>"
      ],
      "text/plain": [
       "     Ozone  Solar  Wind  Month  Day  Temperature Weather\n",
       "0     41.0  190.0     7    5.0    1           67       S\n",
       "1     36.0  118.0     8    5.0    2           72       C\n",
       "2     12.0  149.0    12    5.0    3           74      PS\n",
       "3     18.0  313.0    11    5.0    4           62       S\n",
       "4      NaN    NaN    14    5.0    5           56       S\n",
       "..     ...    ...   ...    ...  ...          ...     ...\n",
       "153   41.0  190.0     7    5.0    1           67       C\n",
       "154   30.0  193.0     6    9.0   26           70      PS\n",
       "155    NaN  145.0    13    9.0   27           77       S\n",
       "156   14.0  191.0    14    9.0   28           75       S\n",
       "157   18.0  131.0     8    9.0   29           76       C\n",
       "\n",
       "[158 rows x 7 columns]"
      ]
     },
     "execution_count": 273,
     "metadata": {},
     "output_type": "execute_result"
    }
   ],
   "source": [
    "data_cleaned1"
   ]
  },
  {
   "cell_type": "markdown",
   "id": "9e5fa1f1-8f3f-4dc8-b408-e66a0cea826a",
   "metadata": {},
   "source": [
    "# missing valus and imputation"
   ]
  },
  {
   "cell_type": "code",
   "execution_count": 275,
   "id": "7ec4615b-01cc-471f-9e0c-4efbeb00779d",
   "metadata": {},
   "outputs": [
    {
     "data": {
      "text/html": [
       "<div>\n",
       "<style scoped>\n",
       "    .dataframe tbody tr th:only-of-type {\n",
       "        vertical-align: middle;\n",
       "    }\n",
       "\n",
       "    .dataframe tbody tr th {\n",
       "        vertical-align: top;\n",
       "    }\n",
       "\n",
       "    .dataframe thead th {\n",
       "        text-align: right;\n",
       "    }\n",
       "</style>\n",
       "<table border=\"1\" class=\"dataframe\">\n",
       "  <thead>\n",
       "    <tr style=\"text-align: right;\">\n",
       "      <th></th>\n",
       "      <th>Ozone</th>\n",
       "      <th>Solar</th>\n",
       "      <th>Wind</th>\n",
       "      <th>Month</th>\n",
       "      <th>Day</th>\n",
       "      <th>Temperature</th>\n",
       "      <th>Weather</th>\n",
       "    </tr>\n",
       "  </thead>\n",
       "  <tbody>\n",
       "    <tr>\n",
       "      <th>0</th>\n",
       "      <td>False</td>\n",
       "      <td>False</td>\n",
       "      <td>False</td>\n",
       "      <td>False</td>\n",
       "      <td>False</td>\n",
       "      <td>False</td>\n",
       "      <td>False</td>\n",
       "    </tr>\n",
       "    <tr>\n",
       "      <th>1</th>\n",
       "      <td>False</td>\n",
       "      <td>False</td>\n",
       "      <td>False</td>\n",
       "      <td>False</td>\n",
       "      <td>False</td>\n",
       "      <td>False</td>\n",
       "      <td>False</td>\n",
       "    </tr>\n",
       "    <tr>\n",
       "      <th>2</th>\n",
       "      <td>False</td>\n",
       "      <td>False</td>\n",
       "      <td>False</td>\n",
       "      <td>False</td>\n",
       "      <td>False</td>\n",
       "      <td>False</td>\n",
       "      <td>False</td>\n",
       "    </tr>\n",
       "    <tr>\n",
       "      <th>3</th>\n",
       "      <td>False</td>\n",
       "      <td>False</td>\n",
       "      <td>False</td>\n",
       "      <td>False</td>\n",
       "      <td>False</td>\n",
       "      <td>False</td>\n",
       "      <td>False</td>\n",
       "    </tr>\n",
       "    <tr>\n",
       "      <th>4</th>\n",
       "      <td>True</td>\n",
       "      <td>True</td>\n",
       "      <td>False</td>\n",
       "      <td>False</td>\n",
       "      <td>False</td>\n",
       "      <td>False</td>\n",
       "      <td>False</td>\n",
       "    </tr>\n",
       "    <tr>\n",
       "      <th>...</th>\n",
       "      <td>...</td>\n",
       "      <td>...</td>\n",
       "      <td>...</td>\n",
       "      <td>...</td>\n",
       "      <td>...</td>\n",
       "      <td>...</td>\n",
       "      <td>...</td>\n",
       "    </tr>\n",
       "    <tr>\n",
       "      <th>153</th>\n",
       "      <td>False</td>\n",
       "      <td>False</td>\n",
       "      <td>False</td>\n",
       "      <td>False</td>\n",
       "      <td>False</td>\n",
       "      <td>False</td>\n",
       "      <td>False</td>\n",
       "    </tr>\n",
       "    <tr>\n",
       "      <th>154</th>\n",
       "      <td>False</td>\n",
       "      <td>False</td>\n",
       "      <td>False</td>\n",
       "      <td>False</td>\n",
       "      <td>False</td>\n",
       "      <td>False</td>\n",
       "      <td>False</td>\n",
       "    </tr>\n",
       "    <tr>\n",
       "      <th>155</th>\n",
       "      <td>True</td>\n",
       "      <td>False</td>\n",
       "      <td>False</td>\n",
       "      <td>False</td>\n",
       "      <td>False</td>\n",
       "      <td>False</td>\n",
       "      <td>False</td>\n",
       "    </tr>\n",
       "    <tr>\n",
       "      <th>156</th>\n",
       "      <td>False</td>\n",
       "      <td>False</td>\n",
       "      <td>False</td>\n",
       "      <td>False</td>\n",
       "      <td>False</td>\n",
       "      <td>False</td>\n",
       "      <td>False</td>\n",
       "    </tr>\n",
       "    <tr>\n",
       "      <th>157</th>\n",
       "      <td>False</td>\n",
       "      <td>False</td>\n",
       "      <td>False</td>\n",
       "      <td>False</td>\n",
       "      <td>False</td>\n",
       "      <td>False</td>\n",
       "      <td>False</td>\n",
       "    </tr>\n",
       "  </tbody>\n",
       "</table>\n",
       "<p>158 rows × 7 columns</p>\n",
       "</div>"
      ],
      "text/plain": [
       "     Ozone  Solar   Wind  Month    Day  Temperature  Weather\n",
       "0    False  False  False  False  False        False    False\n",
       "1    False  False  False  False  False        False    False\n",
       "2    False  False  False  False  False        False    False\n",
       "3    False  False  False  False  False        False    False\n",
       "4     True   True  False  False  False        False    False\n",
       "..     ...    ...    ...    ...    ...          ...      ...\n",
       "153  False  False  False  False  False        False    False\n",
       "154  False  False  False  False  False        False    False\n",
       "155   True  False  False  False  False        False    False\n",
       "156  False  False  False  False  False        False    False\n",
       "157  False  False  False  False  False        False    False\n",
       "\n",
       "[158 rows x 7 columns]"
      ]
     },
     "execution_count": 275,
     "metadata": {},
     "output_type": "execute_result"
    }
   ],
   "source": [
    "data_cleaned1.isnull()"
   ]
  },
  {
   "cell_type": "code",
   "execution_count": 276,
   "id": "f9e2f785-57d8-464e-b3c0-41da63e851e5",
   "metadata": {},
   "outputs": [
    {
     "data": {
      "text/html": [
       "<div>\n",
       "<style scoped>\n",
       "    .dataframe tbody tr th:only-of-type {\n",
       "        vertical-align: middle;\n",
       "    }\n",
       "\n",
       "    .dataframe tbody tr th {\n",
       "        vertical-align: top;\n",
       "    }\n",
       "\n",
       "    .dataframe thead th {\n",
       "        text-align: right;\n",
       "    }\n",
       "</style>\n",
       "<table border=\"1\" class=\"dataframe\">\n",
       "  <thead>\n",
       "    <tr style=\"text-align: right;\">\n",
       "      <th></th>\n",
       "      <th>Ozone</th>\n",
       "      <th>Solar</th>\n",
       "      <th>Wind</th>\n",
       "      <th>Month</th>\n",
       "      <th>Day</th>\n",
       "      <th>Temperature</th>\n",
       "      <th>Weather</th>\n",
       "    </tr>\n",
       "  </thead>\n",
       "  <tbody>\n",
       "    <tr>\n",
       "      <th>0</th>\n",
       "      <td>True</td>\n",
       "      <td>True</td>\n",
       "      <td>True</td>\n",
       "      <td>True</td>\n",
       "      <td>True</td>\n",
       "      <td>True</td>\n",
       "      <td>True</td>\n",
       "    </tr>\n",
       "    <tr>\n",
       "      <th>1</th>\n",
       "      <td>True</td>\n",
       "      <td>True</td>\n",
       "      <td>True</td>\n",
       "      <td>True</td>\n",
       "      <td>True</td>\n",
       "      <td>True</td>\n",
       "      <td>True</td>\n",
       "    </tr>\n",
       "    <tr>\n",
       "      <th>2</th>\n",
       "      <td>True</td>\n",
       "      <td>True</td>\n",
       "      <td>True</td>\n",
       "      <td>True</td>\n",
       "      <td>True</td>\n",
       "      <td>True</td>\n",
       "      <td>True</td>\n",
       "    </tr>\n",
       "    <tr>\n",
       "      <th>3</th>\n",
       "      <td>True</td>\n",
       "      <td>True</td>\n",
       "      <td>True</td>\n",
       "      <td>True</td>\n",
       "      <td>True</td>\n",
       "      <td>True</td>\n",
       "      <td>True</td>\n",
       "    </tr>\n",
       "    <tr>\n",
       "      <th>4</th>\n",
       "      <td>False</td>\n",
       "      <td>False</td>\n",
       "      <td>True</td>\n",
       "      <td>True</td>\n",
       "      <td>True</td>\n",
       "      <td>True</td>\n",
       "      <td>True</td>\n",
       "    </tr>\n",
       "    <tr>\n",
       "      <th>...</th>\n",
       "      <td>...</td>\n",
       "      <td>...</td>\n",
       "      <td>...</td>\n",
       "      <td>...</td>\n",
       "      <td>...</td>\n",
       "      <td>...</td>\n",
       "      <td>...</td>\n",
       "    </tr>\n",
       "    <tr>\n",
       "      <th>153</th>\n",
       "      <td>True</td>\n",
       "      <td>True</td>\n",
       "      <td>True</td>\n",
       "      <td>True</td>\n",
       "      <td>True</td>\n",
       "      <td>True</td>\n",
       "      <td>True</td>\n",
       "    </tr>\n",
       "    <tr>\n",
       "      <th>154</th>\n",
       "      <td>True</td>\n",
       "      <td>True</td>\n",
       "      <td>True</td>\n",
       "      <td>True</td>\n",
       "      <td>True</td>\n",
       "      <td>True</td>\n",
       "      <td>True</td>\n",
       "    </tr>\n",
       "    <tr>\n",
       "      <th>155</th>\n",
       "      <td>False</td>\n",
       "      <td>True</td>\n",
       "      <td>True</td>\n",
       "      <td>True</td>\n",
       "      <td>True</td>\n",
       "      <td>True</td>\n",
       "      <td>True</td>\n",
       "    </tr>\n",
       "    <tr>\n",
       "      <th>156</th>\n",
       "      <td>True</td>\n",
       "      <td>True</td>\n",
       "      <td>True</td>\n",
       "      <td>True</td>\n",
       "      <td>True</td>\n",
       "      <td>True</td>\n",
       "      <td>True</td>\n",
       "    </tr>\n",
       "    <tr>\n",
       "      <th>157</th>\n",
       "      <td>True</td>\n",
       "      <td>True</td>\n",
       "      <td>True</td>\n",
       "      <td>True</td>\n",
       "      <td>True</td>\n",
       "      <td>True</td>\n",
       "      <td>True</td>\n",
       "    </tr>\n",
       "  </tbody>\n",
       "</table>\n",
       "<p>158 rows × 7 columns</p>\n",
       "</div>"
      ],
      "text/plain": [
       "     Ozone  Solar  Wind  Month   Day  Temperature  Weather\n",
       "0     True   True  True   True  True         True     True\n",
       "1     True   True  True   True  True         True     True\n",
       "2     True   True  True   True  True         True     True\n",
       "3     True   True  True   True  True         True     True\n",
       "4    False  False  True   True  True         True     True\n",
       "..     ...    ...   ...    ...   ...          ...      ...\n",
       "153   True   True  True   True  True         True     True\n",
       "154   True   True  True   True  True         True     True\n",
       "155  False   True  True   True  True         True     True\n",
       "156   True   True  True   True  True         True     True\n",
       "157   True   True  True   True  True         True     True\n",
       "\n",
       "[158 rows x 7 columns]"
      ]
     },
     "execution_count": 276,
     "metadata": {},
     "output_type": "execute_result"
    }
   ],
   "source": [
    "data_cleaned1.notnull()"
   ]
  },
  {
   "cell_type": "code",
   "execution_count": 277,
   "id": "6bae1fc4-4a3c-4986-be06-a82bf4335b40",
   "metadata": {},
   "outputs": [
    {
     "data": {
      "text/plain": [
       "Ozone          38\n",
       "Solar           7\n",
       "Wind            0\n",
       "Month           1\n",
       "Day             0\n",
       "Temperature     0\n",
       "Weather         3\n",
       "dtype: int64"
      ]
     },
     "execution_count": 277,
     "metadata": {},
     "output_type": "execute_result"
    }
   ],
   "source": [
    "data_cleaned1.isnull().sum()"
   ]
  },
  {
   "cell_type": "code",
   "execution_count": 278,
   "id": "e4974a24-ea02-40c4-989a-16ccf448aff3",
   "metadata": {},
   "outputs": [
    {
     "data": {
      "text/plain": [
       "49"
      ]
     },
     "execution_count": 278,
     "metadata": {},
     "output_type": "execute_result"
    }
   ],
   "source": [
    "data_cleaned1.isnull().sum().sum()"
   ]
  },
  {
   "cell_type": "code",
   "execution_count": 279,
   "id": "fb02a321-e76a-4ba9-a0a6-3a7649251b0e",
   "metadata": {},
   "outputs": [
    {
     "data": {
      "text/html": [
       "<svg  width=\"495\" height=\"55\"><rect x=\"0\" y=\"0\" width=\"55\" height=\"55\" style=\"fill:#e41a1c;stroke-width:2;stroke:rgb(255,255,255)\"/><rect x=\"55\" y=\"0\" width=\"55\" height=\"55\" style=\"fill:#377eb8;stroke-width:2;stroke:rgb(255,255,255)\"/><rect x=\"110\" y=\"0\" width=\"55\" height=\"55\" style=\"fill:#4daf4a;stroke-width:2;stroke:rgb(255,255,255)\"/><rect x=\"165\" y=\"0\" width=\"55\" height=\"55\" style=\"fill:#984ea3;stroke-width:2;stroke:rgb(255,255,255)\"/><rect x=\"220\" y=\"0\" width=\"55\" height=\"55\" style=\"fill:#ff7f00;stroke-width:2;stroke:rgb(255,255,255)\"/><rect x=\"275\" y=\"0\" width=\"55\" height=\"55\" style=\"fill:#ffff33;stroke-width:2;stroke:rgb(255,255,255)\"/><rect x=\"330\" y=\"0\" width=\"55\" height=\"55\" style=\"fill:#a65628;stroke-width:2;stroke:rgb(255,255,255)\"/><rect x=\"385\" y=\"0\" width=\"55\" height=\"55\" style=\"fill:#f781bf;stroke-width:2;stroke:rgb(255,255,255)\"/><rect x=\"440\" y=\"0\" width=\"55\" height=\"55\" style=\"fill:#999999;stroke-width:2;stroke:rgb(255,255,255)\"/></svg>"
      ],
      "text/plain": [
       "[(0.8941176470588236, 0.10196078431372549, 0.10980392156862745),\n",
       " (0.21568627450980393, 0.49411764705882355, 0.7215686274509804),\n",
       " (0.30196078431372547, 0.6862745098039216, 0.2901960784313726),\n",
       " (0.596078431372549, 0.3058823529411765, 0.6392156862745098),\n",
       " (1.0, 0.4980392156862745, 0.0),\n",
       " (1.0, 1.0, 0.2),\n",
       " (0.6509803921568628, 0.33725490196078434, 0.1568627450980392),\n",
       " (0.9686274509803922, 0.5058823529411764, 0.7490196078431373),\n",
       " (0.6, 0.6, 0.6)]"
      ]
     },
     "execution_count": 279,
     "metadata": {},
     "output_type": "execute_result"
    }
   ],
   "source": [
    "import seaborn as sns \n",
    "sns.color_palette('Set1')"
   ]
  },
  {
   "cell_type": "code",
   "execution_count": 280,
   "id": "b7f828ef-3254-4062-87c3-1609cdce748e",
   "metadata": {},
   "outputs": [
    {
     "data": {
      "text/html": [
       "<svg  width=\"440\" height=\"55\"><rect x=\"0\" y=\"0\" width=\"55\" height=\"55\" style=\"fill:#66c2a5;stroke-width:2;stroke:rgb(255,255,255)\"/><rect x=\"55\" y=\"0\" width=\"55\" height=\"55\" style=\"fill:#fc8d62;stroke-width:2;stroke:rgb(255,255,255)\"/><rect x=\"110\" y=\"0\" width=\"55\" height=\"55\" style=\"fill:#8da0cb;stroke-width:2;stroke:rgb(255,255,255)\"/><rect x=\"165\" y=\"0\" width=\"55\" height=\"55\" style=\"fill:#e78ac3;stroke-width:2;stroke:rgb(255,255,255)\"/><rect x=\"220\" y=\"0\" width=\"55\" height=\"55\" style=\"fill:#a6d854;stroke-width:2;stroke:rgb(255,255,255)\"/><rect x=\"275\" y=\"0\" width=\"55\" height=\"55\" style=\"fill:#ffd92f;stroke-width:2;stroke:rgb(255,255,255)\"/><rect x=\"330\" y=\"0\" width=\"55\" height=\"55\" style=\"fill:#e5c494;stroke-width:2;stroke:rgb(255,255,255)\"/><rect x=\"385\" y=\"0\" width=\"55\" height=\"55\" style=\"fill:#b3b3b3;stroke-width:2;stroke:rgb(255,255,255)\"/></svg>"
      ],
      "text/plain": [
       "[(0.4, 0.7607843137254902, 0.6470588235294118),\n",
       " (0.9882352941176471, 0.5529411764705883, 0.3843137254901961),\n",
       " (0.5529411764705883, 0.6274509803921569, 0.796078431372549),\n",
       " (0.9058823529411765, 0.5411764705882353, 0.7647058823529411),\n",
       " (0.6509803921568628, 0.8470588235294118, 0.32941176470588235),\n",
       " (1.0, 0.8509803921568627, 0.1843137254901961),\n",
       " (0.8980392156862745, 0.7686274509803922, 0.5803921568627451),\n",
       " (0.7019607843137254, 0.7019607843137254, 0.7019607843137254)]"
      ]
     },
     "execution_count": 280,
     "metadata": {},
     "output_type": "execute_result"
    }
   ],
   "source": [
    "sns.color_palette('Set2')"
   ]
  },
  {
   "cell_type": "code",
   "execution_count": 281,
   "id": "2ebcc555-bb64-48ed-9786-8468f6434a54",
   "metadata": {},
   "outputs": [
    {
     "data": {
      "text/html": [
       "<svg  width=\"660\" height=\"55\"><rect x=\"0\" y=\"0\" width=\"55\" height=\"55\" style=\"fill:#8dd3c7;stroke-width:2;stroke:rgb(255,255,255)\"/><rect x=\"55\" y=\"0\" width=\"55\" height=\"55\" style=\"fill:#ffffb3;stroke-width:2;stroke:rgb(255,255,255)\"/><rect x=\"110\" y=\"0\" width=\"55\" height=\"55\" style=\"fill:#bebada;stroke-width:2;stroke:rgb(255,255,255)\"/><rect x=\"165\" y=\"0\" width=\"55\" height=\"55\" style=\"fill:#fb8072;stroke-width:2;stroke:rgb(255,255,255)\"/><rect x=\"220\" y=\"0\" width=\"55\" height=\"55\" style=\"fill:#80b1d3;stroke-width:2;stroke:rgb(255,255,255)\"/><rect x=\"275\" y=\"0\" width=\"55\" height=\"55\" style=\"fill:#fdb462;stroke-width:2;stroke:rgb(255,255,255)\"/><rect x=\"330\" y=\"0\" width=\"55\" height=\"55\" style=\"fill:#b3de69;stroke-width:2;stroke:rgb(255,255,255)\"/><rect x=\"385\" y=\"0\" width=\"55\" height=\"55\" style=\"fill:#fccde5;stroke-width:2;stroke:rgb(255,255,255)\"/><rect x=\"440\" y=\"0\" width=\"55\" height=\"55\" style=\"fill:#d9d9d9;stroke-width:2;stroke:rgb(255,255,255)\"/><rect x=\"495\" y=\"0\" width=\"55\" height=\"55\" style=\"fill:#bc80bd;stroke-width:2;stroke:rgb(255,255,255)\"/><rect x=\"550\" y=\"0\" width=\"55\" height=\"55\" style=\"fill:#ccebc5;stroke-width:2;stroke:rgb(255,255,255)\"/><rect x=\"605\" y=\"0\" width=\"55\" height=\"55\" style=\"fill:#ffed6f;stroke-width:2;stroke:rgb(255,255,255)\"/></svg>"
      ],
      "text/plain": [
       "[(0.5529411764705883, 0.8274509803921568, 0.7803921568627451),\n",
       " (1.0, 1.0, 0.7019607843137254),\n",
       " (0.7450980392156863, 0.7294117647058823, 0.8549019607843137),\n",
       " (0.984313725490196, 0.5019607843137255, 0.4470588235294118),\n",
       " (0.5019607843137255, 0.6941176470588235, 0.8274509803921568),\n",
       " (0.9921568627450981, 0.7058823529411765, 0.3843137254901961),\n",
       " (0.7019607843137254, 0.8705882352941177, 0.4117647058823529),\n",
       " (0.9882352941176471, 0.803921568627451, 0.8980392156862745),\n",
       " (0.8509803921568627, 0.8509803921568627, 0.8509803921568627),\n",
       " (0.7372549019607844, 0.5019607843137255, 0.7411764705882353),\n",
       " (0.8, 0.9215686274509803, 0.7725490196078432),\n",
       " (1.0, 0.9294117647058824, 0.43529411764705883)]"
      ]
     },
     "execution_count": 281,
     "metadata": {},
     "output_type": "execute_result"
    }
   ],
   "source": [
    "sns.color_palette('Set3')"
   ]
  },
  {
   "cell_type": "code",
   "execution_count": 282,
   "id": "53d783af-bb73-43fa-8859-1a449da78a29",
   "metadata": {},
   "outputs": [
    {
     "data": {
      "text/html": [
       "<svg  width=\"330\" height=\"55\"><rect x=\"0\" y=\"0\" width=\"55\" height=\"55\" style=\"fill:#0024ed;stroke-width:2;stroke:rgb(255,255,255)\"/><rect x=\"55\" y=\"0\" width=\"55\" height=\"55\" style=\"fill:#0049db;stroke-width:2;stroke:rgb(255,255,255)\"/><rect x=\"110\" y=\"0\" width=\"55\" height=\"55\" style=\"fill:#006dc8;stroke-width:2;stroke:rgb(255,255,255)\"/><rect x=\"165\" y=\"0\" width=\"55\" height=\"55\" style=\"fill:#0092b6;stroke-width:2;stroke:rgb(255,255,255)\"/><rect x=\"220\" y=\"0\" width=\"55\" height=\"55\" style=\"fill:#00b6a4;stroke-width:2;stroke:rgb(255,255,255)\"/><rect x=\"275\" y=\"0\" width=\"55\" height=\"55\" style=\"fill:#00db92;stroke-width:2;stroke:rgb(255,255,255)\"/></svg>"
      ],
      "text/plain": [
       "[(0.0, 0.1411764705882353, 0.9294117647058824),\n",
       " (0.0, 0.28627450980392155, 0.8568627450980393),\n",
       " (0.0, 0.42745098039215684, 0.7862745098039216),\n",
       " (0.0, 0.5725490196078431, 0.7137254901960784),\n",
       " (0.0, 0.7137254901960784, 0.6431372549019607),\n",
       " (0.0, 0.8588235294117647, 0.5705882352941176)]"
      ]
     },
     "execution_count": 282,
     "metadata": {},
     "output_type": "execute_result"
    }
   ],
   "source": [
    "sns.color_palette('winter')"
   ]
  },
  {
   "cell_type": "code",
   "execution_count": 283,
   "id": "079e6b26-9fd5-40a1-8fbb-9f115c12d15b",
   "metadata": {},
   "outputs": [
    {
     "data": {
      "text/html": [
       "<svg  width=\"330\" height=\"55\"><rect x=\"0\" y=\"0\" width=\"55\" height=\"55\" style=\"fill:#46327e;stroke-width:2;stroke:rgb(255,255,255)\"/><rect x=\"55\" y=\"0\" width=\"55\" height=\"55\" style=\"fill:#365c8d;stroke-width:2;stroke:rgb(255,255,255)\"/><rect x=\"110\" y=\"0\" width=\"55\" height=\"55\" style=\"fill:#277f8e;stroke-width:2;stroke:rgb(255,255,255)\"/><rect x=\"165\" y=\"0\" width=\"55\" height=\"55\" style=\"fill:#1fa187;stroke-width:2;stroke:rgb(255,255,255)\"/><rect x=\"220\" y=\"0\" width=\"55\" height=\"55\" style=\"fill:#4ac16d;stroke-width:2;stroke:rgb(255,255,255)\"/><rect x=\"275\" y=\"0\" width=\"55\" height=\"55\" style=\"fill:#a0da39;stroke-width:2;stroke:rgb(255,255,255)\"/></svg>"
      ],
      "text/plain": [
       "[(0.275191, 0.194905, 0.496005),\n",
       " (0.212395, 0.359683, 0.55171),\n",
       " (0.153364, 0.497, 0.557724),\n",
       " (0.122312, 0.633153, 0.530398),\n",
       " (0.288921, 0.758394, 0.428426),\n",
       " (0.626579, 0.854645, 0.223353)]"
      ]
     },
     "execution_count": 283,
     "metadata": {},
     "output_type": "execute_result"
    }
   ],
   "source": [
    "sns.color_palette('viridis')"
   ]
  },
  {
   "cell_type": "code",
   "execution_count": 284,
   "id": "fc024d35-dafc-459c-a3a7-40e04300792f",
   "metadata": {
    "scrolled": true
   },
   "outputs": [
    {
     "name": "stdout",
     "output_type": "stream",
     "text": [
      "Help on module seaborn.palettes in seaborn:\n",
      "\n",
      "NAME\n",
      "    seaborn.palettes\n",
      "\n",
      "FUNCTIONS\n",
      "    blend_palette(colors, n_colors=6, as_cmap=False, input='rgb')\n",
      "        Make a palette that blends between a list of colors.\n",
      "\n",
      "        Parameters\n",
      "        ----------\n",
      "        colors : sequence of colors in various formats interpreted by `input`\n",
      "            hex code, html color name, or tuple in `input` space.\n",
      "        n_colors : int, optional\n",
      "            Number of colors in the palette.\n",
      "        as_cmap : bool, optional\n",
      "            If True, return a :class:`matplotlib.colors.ListedColormap`.\n",
      "\n",
      "        Returns\n",
      "        -------\n",
      "        palette\n",
      "            list of RGB tuples or :class:`matplotlib.colors.ListedColormap`\n",
      "\n",
      "        Examples\n",
      "        --------\n",
      "        .. include: ../docstrings/blend_palette.rst\n",
      "\n",
      "    color_palette(palette=None, n_colors=None, desat=None, as_cmap=False)\n",
      "        Return a list of colors or continuous colormap defining a palette.\n",
      "\n",
      "        Possible ``palette`` values include:\n",
      "            - Name of a seaborn palette (deep, muted, bright, pastel, dark, colorblind)\n",
      "            - Name of matplotlib colormap\n",
      "            - 'husl' or 'hls'\n",
      "            - 'ch:<cubehelix arguments>'\n",
      "            - 'light:<color>', 'dark:<color>', 'blend:<color>,<color>',\n",
      "            - A sequence of colors in any format matplotlib accepts\n",
      "\n",
      "        Calling this function with ``palette=None`` will return the current\n",
      "        matplotlib color cycle.\n",
      "\n",
      "        This function can also be used in a ``with`` statement to temporarily\n",
      "        set the color cycle for a plot or set of plots.\n",
      "\n",
      "        See the :ref:`tutorial <palette_tutorial>` for more information.\n",
      "\n",
      "        Parameters\n",
      "        ----------\n",
      "        palette : None, string, or sequence, optional\n",
      "            Name of palette or None to return current palette. If a sequence, input\n",
      "            colors are used but possibly cycled and desaturated.\n",
      "        n_colors : int, optional\n",
      "            Number of colors in the palette. If ``None``, the default will depend\n",
      "            on how ``palette`` is specified. Named palettes default to 6 colors,\n",
      "            but grabbing the current palette or passing in a list of colors will\n",
      "            not change the number of colors unless this is specified. Asking for\n",
      "            more colors than exist in the palette will cause it to cycle. Ignored\n",
      "            when ``as_cmap`` is True.\n",
      "        desat : float, optional\n",
      "            Proportion to desaturate each color by.\n",
      "        as_cmap : bool\n",
      "            If True, return a :class:`matplotlib.colors.ListedColormap`.\n",
      "\n",
      "        Returns\n",
      "        -------\n",
      "        list of RGB tuples or :class:`matplotlib.colors.ListedColormap`\n",
      "\n",
      "        See Also\n",
      "        --------\n",
      "        set_palette : Set the default color cycle for all plots.\n",
      "        set_color_codes : Reassign color codes like ``\"b\"``, ``\"g\"``, etc. to\n",
      "                          colors from one of the seaborn palettes.\n",
      "\n",
      "        Examples\n",
      "        --------\n",
      "\n",
      "        .. include:: ../docstrings/color_palette.rst\n",
      "\n",
      "    crayon_palette(colors)\n",
      "        Make a palette with color names from Crayola crayons.\n",
      "\n",
      "        Colors are taken from here:\n",
      "        https://en.wikipedia.org/wiki/List_of_Crayola_crayon_colors\n",
      "\n",
      "        This is just a simple wrapper around the `seaborn.crayons` dictionary.\n",
      "\n",
      "        Parameters\n",
      "        ----------\n",
      "        colors : list of strings\n",
      "            List of keys in the `seaborn.crayons` dictionary.\n",
      "\n",
      "        Returns\n",
      "        -------\n",
      "        palette\n",
      "            A list of colors as RGB tuples.\n",
      "\n",
      "        See Also\n",
      "        --------\n",
      "        xkcd_palette : Make a palette with named colors from the XKCD color survey.\n",
      "\n",
      "    cubehelix_palette(n_colors=6, start=0, rot=0.4, gamma=1.0, hue=0.8, light=0.85, dark=0.15, reverse=False, as_cmap=False)\n",
      "        Make a sequential palette from the cubehelix system.\n",
      "\n",
      "        This produces a colormap with linearly-decreasing (or increasing)\n",
      "        brightness. That means that information will be preserved if printed to\n",
      "        black and white or viewed by someone who is colorblind.  \"cubehelix\" is\n",
      "        also available as a matplotlib-based palette, but this function gives the\n",
      "        user more control over the look of the palette and has a different set of\n",
      "        defaults.\n",
      "\n",
      "        In addition to using this function, it is also possible to generate a\n",
      "        cubehelix palette generally in seaborn using a string starting with\n",
      "        `ch:` and containing other parameters (e.g. `\"ch:s=.25,r=-.5\"`).\n",
      "\n",
      "        Parameters\n",
      "        ----------\n",
      "        n_colors : int\n",
      "            Number of colors in the palette.\n",
      "        start : float, 0 <= start <= 3\n",
      "            The hue value at the start of the helix.\n",
      "        rot : float\n",
      "            Rotations around the hue wheel over the range of the palette.\n",
      "        gamma : float 0 <= gamma\n",
      "            Nonlinearity to emphasize dark (gamma < 1) or light (gamma > 1) colors.\n",
      "        hue : float, 0 <= hue <= 1\n",
      "            Saturation of the colors.\n",
      "        dark : float 0 <= dark <= 1\n",
      "            Intensity of the darkest color in the palette.\n",
      "        light : float 0 <= light <= 1\n",
      "            Intensity of the lightest color in the palette.\n",
      "        reverse : bool\n",
      "            If True, the palette will go from dark to light.\n",
      "        as_cmap : bool\n",
      "            If True, return a :class:`matplotlib.colors.ListedColormap`.\n",
      "\n",
      "        Returns\n",
      "        -------\n",
      "        palette\n",
      "            list of RGB tuples or :class:`matplotlib.colors.ListedColormap`\n",
      "\n",
      "        See Also\n",
      "        --------\n",
      "        choose_cubehelix_palette : Launch an interactive widget to select cubehelix\n",
      "                                   palette parameters.\n",
      "        dark_palette : Create a sequential palette with dark low values.\n",
      "        light_palette : Create a sequential palette with bright low values.\n",
      "\n",
      "        References\n",
      "        ----------\n",
      "        Green, D. A. (2011). \"A colour scheme for the display of astronomical\n",
      "        intensity images\". Bulletin of the Astromical Society of India, Vol. 39,\n",
      "        p. 289-295.\n",
      "\n",
      "        Examples\n",
      "        --------\n",
      "        .. include:: ../docstrings/cubehelix_palette.rst\n",
      "\n",
      "    dark_palette(color, n_colors=6, reverse=False, as_cmap=False, input='rgb')\n",
      "        Make a sequential palette that blends from dark to ``color``.\n",
      "\n",
      "        This kind of palette is good for data that range between relatively\n",
      "        uninteresting low values and interesting high values.\n",
      "\n",
      "        The ``color`` parameter can be specified in a number of ways, including\n",
      "        all options for defining a color in matplotlib and several additional\n",
      "        color spaces that are handled by seaborn. You can also use the database\n",
      "        of named colors from the XKCD color survey.\n",
      "\n",
      "        If you are using the IPython notebook, you can also choose this palette\n",
      "        interactively with the :func:`choose_dark_palette` function.\n",
      "\n",
      "        Parameters\n",
      "        ----------\n",
      "        color : base color for high values\n",
      "            hex, rgb-tuple, or html color name\n",
      "        n_colors : int, optional\n",
      "            number of colors in the palette\n",
      "        reverse : bool, optional\n",
      "            if True, reverse the direction of the blend\n",
      "        as_cmap : bool, optional\n",
      "            If True, return a :class:`matplotlib.colors.ListedColormap`.\n",
      "        input : {'rgb', 'hls', 'husl', xkcd'}\n",
      "            Color space to interpret the input color. The first three options\n",
      "            apply to tuple inputs and the latter applies to string inputs.\n",
      "\n",
      "        Returns\n",
      "        -------\n",
      "        palette\n",
      "            list of RGB tuples or :class:`matplotlib.colors.ListedColormap`\n",
      "\n",
      "        See Also\n",
      "        --------\n",
      "        light_palette : Create a sequential palette with bright low values.\n",
      "        diverging_palette : Create a diverging palette with two colors.\n",
      "\n",
      "        Examples\n",
      "        --------\n",
      "        .. include:: ../docstrings/dark_palette.rst\n",
      "\n",
      "    diverging_palette(h_neg, h_pos, s=75, l=50, sep=1, n=6, center='light', as_cmap=False)\n",
      "        Make a diverging palette between two HUSL colors.\n",
      "\n",
      "        If you are using the IPython notebook, you can also choose this palette\n",
      "        interactively with the :func:`choose_diverging_palette` function.\n",
      "\n",
      "        Parameters\n",
      "        ----------\n",
      "        h_neg, h_pos : float in [0, 359]\n",
      "            Anchor hues for negative and positive extents of the map.\n",
      "        s : float in [0, 100], optional\n",
      "            Anchor saturation for both extents of the map.\n",
      "        l : float in [0, 100], optional\n",
      "            Anchor lightness for both extents of the map.\n",
      "        sep : int, optional\n",
      "            Size of the intermediate region.\n",
      "        n : int, optional\n",
      "            Number of colors in the palette (if not returning a cmap)\n",
      "        center : {\"light\", \"dark\"}, optional\n",
      "            Whether the center of the palette is light or dark\n",
      "        as_cmap : bool, optional\n",
      "            If True, return a :class:`matplotlib.colors.ListedColormap`.\n",
      "\n",
      "        Returns\n",
      "        -------\n",
      "        palette\n",
      "            list of RGB tuples or :class:`matplotlib.colors.ListedColormap`\n",
      "\n",
      "        See Also\n",
      "        --------\n",
      "        dark_palette : Create a sequential palette with dark values.\n",
      "        light_palette : Create a sequential palette with light values.\n",
      "\n",
      "        Examples\n",
      "        --------\n",
      "        .. include: ../docstrings/diverging_palette.rst\n",
      "\n",
      "    hls_palette(n_colors=6, h=0.01, l=0.6, s=0.65, as_cmap=False)\n",
      "        Return hues with constant lightness and saturation in the HLS system.\n",
      "\n",
      "        The hues are evenly sampled along a circular path. The resulting palette will be\n",
      "        appropriate for categorical or cyclical data.\n",
      "\n",
      "        The `h`, `l`, and `s` values should be between 0 and 1.\n",
      "\n",
      "        .. note::\n",
      "            While the separation of the resulting colors will be mathematically\n",
      "            constant, the HLS system does not construct a perceptually-uniform space,\n",
      "            so their apparent intensity will vary.\n",
      "\n",
      "        Parameters\n",
      "        ----------\n",
      "        n_colors : int\n",
      "            Number of colors in the palette.\n",
      "        h : float\n",
      "            The value of the first hue.\n",
      "        l : float\n",
      "            The lightness value.\n",
      "        s : float\n",
      "            The saturation intensity.\n",
      "        as_cmap : bool\n",
      "            If True, return a matplotlib colormap object.\n",
      "\n",
      "        Returns\n",
      "        -------\n",
      "        palette\n",
      "            list of RGB tuples or :class:`matplotlib.colors.ListedColormap`\n",
      "\n",
      "        See Also\n",
      "        --------\n",
      "        husl_palette : Make a palette using evenly spaced hues in the HUSL system.\n",
      "\n",
      "        Examples\n",
      "        --------\n",
      "        .. include:: ../docstrings/hls_palette.rst\n",
      "\n",
      "    husl_palette(n_colors=6, h=0.01, s=0.9, l=0.65, as_cmap=False)\n",
      "        Return hues with constant lightness and saturation in the HUSL system.\n",
      "\n",
      "        The hues are evenly sampled along a circular path. The resulting palette will be\n",
      "        appropriate for categorical or cyclical data.\n",
      "\n",
      "        The `h`, `l`, and `s` values should be between 0 and 1.\n",
      "\n",
      "        This function is similar to :func:`hls_palette`, but it uses a nonlinear color\n",
      "        space that is more perceptually uniform.\n",
      "\n",
      "        Parameters\n",
      "        ----------\n",
      "        n_colors : int\n",
      "            Number of colors in the palette.\n",
      "        h : float\n",
      "            The value of the first hue.\n",
      "        l : float\n",
      "            The lightness value.\n",
      "        s : float\n",
      "            The saturation intensity.\n",
      "        as_cmap : bool\n",
      "            If True, return a matplotlib colormap object.\n",
      "\n",
      "        Returns\n",
      "        -------\n",
      "        palette\n",
      "            list of RGB tuples or :class:`matplotlib.colors.ListedColormap`\n",
      "\n",
      "        See Also\n",
      "        --------\n",
      "        hls_palette : Make a palette using evenly spaced hues in the HSL system.\n",
      "\n",
      "        Examples\n",
      "        --------\n",
      "        .. include:: ../docstrings/husl_palette.rst\n",
      "\n",
      "    light_palette(color, n_colors=6, reverse=False, as_cmap=False, input='rgb')\n",
      "        Make a sequential palette that blends from light to ``color``.\n",
      "\n",
      "        The ``color`` parameter can be specified in a number of ways, including\n",
      "        all options for defining a color in matplotlib and several additional\n",
      "        color spaces that are handled by seaborn. You can also use the database\n",
      "        of named colors from the XKCD color survey.\n",
      "\n",
      "        If you are using a Jupyter notebook, you can also choose this palette\n",
      "        interactively with the :func:`choose_light_palette` function.\n",
      "\n",
      "        Parameters\n",
      "        ----------\n",
      "        color : base color for high values\n",
      "            hex code, html color name, or tuple in `input` space.\n",
      "        n_colors : int, optional\n",
      "            number of colors in the palette\n",
      "        reverse : bool, optional\n",
      "            if True, reverse the direction of the blend\n",
      "        as_cmap : bool, optional\n",
      "            If True, return a :class:`matplotlib.colors.ListedColormap`.\n",
      "        input : {'rgb', 'hls', 'husl', xkcd'}\n",
      "            Color space to interpret the input color. The first three options\n",
      "            apply to tuple inputs and the latter applies to string inputs.\n",
      "\n",
      "        Returns\n",
      "        -------\n",
      "        palette\n",
      "            list of RGB tuples or :class:`matplotlib.colors.ListedColormap`\n",
      "\n",
      "        See Also\n",
      "        --------\n",
      "        dark_palette : Create a sequential palette with dark low values.\n",
      "        diverging_palette : Create a diverging palette with two colors.\n",
      "\n",
      "        Examples\n",
      "        --------\n",
      "        .. include:: ../docstrings/light_palette.rst\n",
      "\n",
      "    mpl_palette(name, n_colors=6, as_cmap=False)\n",
      "        Return a palette or colormap from the matplotlib registry.\n",
      "\n",
      "        For continuous palettes, evenly-spaced discrete samples are chosen while\n",
      "        excluding the minimum and maximum value in the colormap to provide better\n",
      "        contrast at the extremes.\n",
      "\n",
      "        For qualitative palettes (e.g. those from colorbrewer), exact values are\n",
      "        indexed (rather than interpolated), but fewer than `n_colors` can be returned\n",
      "        if the palette does not define that many.\n",
      "\n",
      "        Parameters\n",
      "        ----------\n",
      "        name : string\n",
      "            Name of the palette. This should be a named matplotlib colormap.\n",
      "        n_colors : int\n",
      "            Number of discrete colors in the palette.\n",
      "\n",
      "        Returns\n",
      "        -------\n",
      "        list of RGB tuples or :class:`matplotlib.colors.ListedColormap`\n",
      "\n",
      "        Examples\n",
      "        --------\n",
      "        .. include:: ../docstrings/mpl_palette.rst\n",
      "\n",
      "    set_color_codes(palette='deep')\n",
      "        Change how matplotlib color shorthands are interpreted.\n",
      "\n",
      "        Calling this will change how shorthand codes like \"b\" or \"g\"\n",
      "        are interpreted by matplotlib in subsequent plots.\n",
      "\n",
      "        Parameters\n",
      "        ----------\n",
      "        palette : {deep, muted, pastel, dark, bright, colorblind}\n",
      "            Named seaborn palette to use as the source of colors.\n",
      "\n",
      "        See Also\n",
      "        --------\n",
      "        set : Color codes can be set through the high-level seaborn style\n",
      "              manager.\n",
      "        set_palette : Color codes can also be set through the function that\n",
      "                      sets the matplotlib color cycle.\n",
      "\n",
      "    xkcd_palette(colors)\n",
      "        Make a palette with color names from the xkcd color survey.\n",
      "\n",
      "        See xkcd for the full list of colors: https://xkcd.com/color/rgb/\n",
      "\n",
      "        This is just a simple wrapper around the `seaborn.xkcd_rgb` dictionary.\n",
      "\n",
      "        Parameters\n",
      "        ----------\n",
      "        colors : list of strings\n",
      "            List of keys in the `seaborn.xkcd_rgb` dictionary.\n",
      "\n",
      "        Returns\n",
      "        -------\n",
      "        palette\n",
      "            A list of colors as RGB tuples.\n",
      "\n",
      "        See Also\n",
      "        --------\n",
      "        crayon_palette : Make a palette with Crayola crayon colors.\n",
      "\n",
      "DATA\n",
      "    __all__ = ['color_palette', 'hls_palette', 'husl_palette', 'mpl_palett...\n",
      "\n",
      "FILE\n",
      "    c:\\users\\user2\\anaconda3\\lib\\site-packages\\seaborn\\palettes.py\n",
      "\n",
      "\n"
     ]
    }
   ],
   "source": [
    "import seaborn \n",
    "help(seaborn.palettes)"
   ]
  },
  {
   "cell_type": "code",
   "execution_count": 285,
   "id": "f5fa0d9b-4119-4ab8-8a02-21fd358b6426",
   "metadata": {},
   "outputs": [
    {
     "data": {
      "text/plain": [
       "<Axes: >"
      ]
     },
     "execution_count": 285,
     "metadata": {},
     "output_type": "execute_result"
    },
    {
     "data": {
      "image/png": "[encoded data removed]",
      "text/plain": [
       "<Figure size 640x480 with 2 Axes>"
      ]
     },
     "metadata": {},
     "output_type": "display_data"
    }
   ],
   "source": [
    "import seaborn as sns\n",
    "cols=data_cleaned1.columns\n",
    "sns.heatmap(data_cleaned1[cols].isnull())"
   ]
  },
  {
   "cell_type": "code",
   "execution_count": 286,
   "id": "add69cee-cdb4-4ae6-a2a2-1b245da2587c",
   "metadata": {},
   "outputs": [
    {
     "data": {
      "text/plain": [
       "<Axes: >"
      ]
     },
     "execution_count": 286,
     "metadata": {},
     "output_type": "execute_result"
    },
    {
     "data": {
      "image/png": "[encoded data removed]",
      "text/plain": [
       "<Figure size 640x480 with 2 Axes>"
      ]
     },
     "metadata": {},
     "output_type": "display_data"
    }
   ],
   "source": [
    "import seaborn as sns \n",
    "cols=data_cleaned1.columns\n",
    "colours=['blue','yellow']  # yellow is missing,blue is not missig\n",
    "sns.heatmap(data_cleaned1[cols].isna(),cmap=colours)"
   ]
  },
  {
   "cell_type": "code",
   "execution_count": 287,
   "id": "90ceb6ef-b80c-43d0-b485-1fc4c01b1323",
   "metadata": {},
   "outputs": [
    {
     "data": {
      "text/plain": [
       "<Axes: >"
      ]
     },
     "execution_count": 287,
     "metadata": {},
     "output_type": "execute_result"
    },
    {
     "data": {
      "image/png": "[encoded data removed]",
      "text/plain": [
       "<Figure size 640x480 with 2 Axes>"
      ]
     },
     "metadata": {},
     "output_type": "display_data"
    }
   ],
   "source": [
    "import seaborn as sns\n",
    "cols=data_cleaned1.columns\n",
    "colours=['blue','yellow']\n",
    "sns.heatmap(data_cleaned1[cols].isnull(),cmap=colours)"
   ]
  },
  {
   "cell_type": "code",
   "execution_count": 288,
   "id": "4257bb02-17a8-4334-bb3a-c96927b0ffb9",
   "metadata": {},
   "outputs": [
    {
     "data": {
      "text/html": [
       "<div>\n",
       "<style scoped>\n",
       "    .dataframe tbody tr th:only-of-type {\n",
       "        vertical-align: middle;\n",
       "    }\n",
       "\n",
       "    .dataframe tbody tr th {\n",
       "        vertical-align: top;\n",
       "    }\n",
       "\n",
       "    .dataframe thead th {\n",
       "        text-align: right;\n",
       "    }\n",
       "</style>\n",
       "<table border=\"1\" class=\"dataframe\">\n",
       "  <thead>\n",
       "    <tr style=\"text-align: right;\">\n",
       "      <th></th>\n",
       "      <th>Ozone</th>\n",
       "      <th>Solar</th>\n",
       "      <th>Wind</th>\n",
       "      <th>Month</th>\n",
       "      <th>Day</th>\n",
       "      <th>Temperature</th>\n",
       "      <th>Weather</th>\n",
       "    </tr>\n",
       "  </thead>\n",
       "  <tbody>\n",
       "    <tr>\n",
       "      <th>4</th>\n",
       "      <td>NaN</td>\n",
       "      <td>NaN</td>\n",
       "      <td>14</td>\n",
       "      <td>5.0</td>\n",
       "      <td>5</td>\n",
       "      <td>56</td>\n",
       "      <td>S</td>\n",
       "    </tr>\n",
       "    <tr>\n",
       "      <th>5</th>\n",
       "      <td>28.0</td>\n",
       "      <td>NaN</td>\n",
       "      <td>14</td>\n",
       "      <td>5.0</td>\n",
       "      <td>6</td>\n",
       "      <td>66</td>\n",
       "      <td>C</td>\n",
       "    </tr>\n",
       "    <tr>\n",
       "      <th>9</th>\n",
       "      <td>NaN</td>\n",
       "      <td>194.0</td>\n",
       "      <td>8</td>\n",
       "      <td>5.0</td>\n",
       "      <td>10</td>\n",
       "      <td>69</td>\n",
       "      <td>S</td>\n",
       "    </tr>\n",
       "    <tr>\n",
       "      <th>10</th>\n",
       "      <td>7.0</td>\n",
       "      <td>NaN</td>\n",
       "      <td>6</td>\n",
       "      <td>5.0</td>\n",
       "      <td>11</td>\n",
       "      <td>74</td>\n",
       "      <td>C</td>\n",
       "    </tr>\n",
       "    <tr>\n",
       "      <th>23</th>\n",
       "      <td>32.0</td>\n",
       "      <td>92.0</td>\n",
       "      <td>12</td>\n",
       "      <td>NaN</td>\n",
       "      <td>24</td>\n",
       "      <td>61</td>\n",
       "      <td>C</td>\n",
       "    </tr>\n",
       "    <tr>\n",
       "      <th>24</th>\n",
       "      <td>NaN</td>\n",
       "      <td>66.0</td>\n",
       "      <td>16</td>\n",
       "      <td>5.0</td>\n",
       "      <td>25</td>\n",
       "      <td>57</td>\n",
       "      <td>PS</td>\n",
       "    </tr>\n",
       "    <tr>\n",
       "      <th>25</th>\n",
       "      <td>NaN</td>\n",
       "      <td>266.0</td>\n",
       "      <td>14</td>\n",
       "      <td>5.0</td>\n",
       "      <td>26</td>\n",
       "      <td>58</td>\n",
       "      <td>C</td>\n",
       "    </tr>\n",
       "    <tr>\n",
       "      <th>26</th>\n",
       "      <td>NaN</td>\n",
       "      <td>NaN</td>\n",
       "      <td>8</td>\n",
       "      <td>5.0</td>\n",
       "      <td>27</td>\n",
       "      <td>57</td>\n",
       "      <td>PS</td>\n",
       "    </tr>\n",
       "    <tr>\n",
       "      <th>31</th>\n",
       "      <td>NaN</td>\n",
       "      <td>286.0</td>\n",
       "      <td>8</td>\n",
       "      <td>6.0</td>\n",
       "      <td>1</td>\n",
       "      <td>78</td>\n",
       "      <td>S</td>\n",
       "    </tr>\n",
       "    <tr>\n",
       "      <th>32</th>\n",
       "      <td>NaN</td>\n",
       "      <td>287.0</td>\n",
       "      <td>9</td>\n",
       "      <td>6.0</td>\n",
       "      <td>2</td>\n",
       "      <td>74</td>\n",
       "      <td>C</td>\n",
       "    </tr>\n",
       "    <tr>\n",
       "      <th>33</th>\n",
       "      <td>NaN</td>\n",
       "      <td>242.0</td>\n",
       "      <td>16</td>\n",
       "      <td>6.0</td>\n",
       "      <td>3</td>\n",
       "      <td>67</td>\n",
       "      <td>PS</td>\n",
       "    </tr>\n",
       "    <tr>\n",
       "      <th>34</th>\n",
       "      <td>NaN</td>\n",
       "      <td>186.0</td>\n",
       "      <td>9</td>\n",
       "      <td>6.0</td>\n",
       "      <td>4</td>\n",
       "      <td>84</td>\n",
       "      <td>C</td>\n",
       "    </tr>\n",
       "    <tr>\n",
       "      <th>35</th>\n",
       "      <td>NaN</td>\n",
       "      <td>220.0</td>\n",
       "      <td>8</td>\n",
       "      <td>6.0</td>\n",
       "      <td>5</td>\n",
       "      <td>85</td>\n",
       "      <td>PS</td>\n",
       "    </tr>\n",
       "    <tr>\n",
       "      <th>36</th>\n",
       "      <td>NaN</td>\n",
       "      <td>264.0</td>\n",
       "      <td>14</td>\n",
       "      <td>6.0</td>\n",
       "      <td>6</td>\n",
       "      <td>79</td>\n",
       "      <td>C</td>\n",
       "    </tr>\n",
       "    <tr>\n",
       "      <th>38</th>\n",
       "      <td>NaN</td>\n",
       "      <td>273.0</td>\n",
       "      <td>6</td>\n",
       "      <td>6.0</td>\n",
       "      <td>8</td>\n",
       "      <td>87</td>\n",
       "      <td>S</td>\n",
       "    </tr>\n",
       "    <tr>\n",
       "      <th>41</th>\n",
       "      <td>NaN</td>\n",
       "      <td>259.0</td>\n",
       "      <td>10</td>\n",
       "      <td>6.0</td>\n",
       "      <td>11</td>\n",
       "      <td>93</td>\n",
       "      <td>C</td>\n",
       "    </tr>\n",
       "    <tr>\n",
       "      <th>42</th>\n",
       "      <td>NaN</td>\n",
       "      <td>250.0</td>\n",
       "      <td>9</td>\n",
       "      <td>6.0</td>\n",
       "      <td>12</td>\n",
       "      <td>92</td>\n",
       "      <td>PS</td>\n",
       "    </tr>\n",
       "    <tr>\n",
       "      <th>44</th>\n",
       "      <td>NaN</td>\n",
       "      <td>332.0</td>\n",
       "      <td>13</td>\n",
       "      <td>6.0</td>\n",
       "      <td>14</td>\n",
       "      <td>80</td>\n",
       "      <td>S</td>\n",
       "    </tr>\n",
       "    <tr>\n",
       "      <th>45</th>\n",
       "      <td>NaN</td>\n",
       "      <td>322.0</td>\n",
       "      <td>11</td>\n",
       "      <td>6.0</td>\n",
       "      <td>15</td>\n",
       "      <td>79</td>\n",
       "      <td>C</td>\n",
       "    </tr>\n",
       "    <tr>\n",
       "      <th>51</th>\n",
       "      <td>NaN</td>\n",
       "      <td>150.0</td>\n",
       "      <td>6</td>\n",
       "      <td>6.0</td>\n",
       "      <td>21</td>\n",
       "      <td>77</td>\n",
       "      <td>S</td>\n",
       "    </tr>\n",
       "    <tr>\n",
       "      <th>52</th>\n",
       "      <td>NaN</td>\n",
       "      <td>59.0</td>\n",
       "      <td>1</td>\n",
       "      <td>6.0</td>\n",
       "      <td>22</td>\n",
       "      <td>76</td>\n",
       "      <td>C</td>\n",
       "    </tr>\n",
       "    <tr>\n",
       "      <th>53</th>\n",
       "      <td>NaN</td>\n",
       "      <td>91.0</td>\n",
       "      <td>4</td>\n",
       "      <td>6.0</td>\n",
       "      <td>23</td>\n",
       "      <td>76</td>\n",
       "      <td>PS</td>\n",
       "    </tr>\n",
       "    <tr>\n",
       "      <th>54</th>\n",
       "      <td>NaN</td>\n",
       "      <td>250.0</td>\n",
       "      <td>6</td>\n",
       "      <td>6.0</td>\n",
       "      <td>24</td>\n",
       "      <td>76</td>\n",
       "      <td>S</td>\n",
       "    </tr>\n",
       "    <tr>\n",
       "      <th>55</th>\n",
       "      <td>NaN</td>\n",
       "      <td>135.0</td>\n",
       "      <td>8</td>\n",
       "      <td>6.0</td>\n",
       "      <td>25</td>\n",
       "      <td>75</td>\n",
       "      <td>C</td>\n",
       "    </tr>\n",
       "    <tr>\n",
       "      <th>56</th>\n",
       "      <td>NaN</td>\n",
       "      <td>127.0</td>\n",
       "      <td>8</td>\n",
       "      <td>6.0</td>\n",
       "      <td>26</td>\n",
       "      <td>78</td>\n",
       "      <td>PS</td>\n",
       "    </tr>\n",
       "    <tr>\n",
       "      <th>57</th>\n",
       "      <td>NaN</td>\n",
       "      <td>47.0</td>\n",
       "      <td>10</td>\n",
       "      <td>6.0</td>\n",
       "      <td>27</td>\n",
       "      <td>73</td>\n",
       "      <td>C</td>\n",
       "    </tr>\n",
       "    <tr>\n",
       "      <th>58</th>\n",
       "      <td>NaN</td>\n",
       "      <td>98.0</td>\n",
       "      <td>11</td>\n",
       "      <td>6.0</td>\n",
       "      <td>28</td>\n",
       "      <td>80</td>\n",
       "      <td>PS</td>\n",
       "    </tr>\n",
       "    <tr>\n",
       "      <th>59</th>\n",
       "      <td>NaN</td>\n",
       "      <td>31.0</td>\n",
       "      <td>14</td>\n",
       "      <td>6.0</td>\n",
       "      <td>29</td>\n",
       "      <td>77</td>\n",
       "      <td>S</td>\n",
       "    </tr>\n",
       "    <tr>\n",
       "      <th>60</th>\n",
       "      <td>NaN</td>\n",
       "      <td>138.0</td>\n",
       "      <td>8</td>\n",
       "      <td>6.0</td>\n",
       "      <td>30</td>\n",
       "      <td>83</td>\n",
       "      <td>S</td>\n",
       "    </tr>\n",
       "    <tr>\n",
       "      <th>64</th>\n",
       "      <td>NaN</td>\n",
       "      <td>101.0</td>\n",
       "      <td>10</td>\n",
       "      <td>7.0</td>\n",
       "      <td>4</td>\n",
       "      <td>84</td>\n",
       "      <td>S</td>\n",
       "    </tr>\n",
       "    <tr>\n",
       "      <th>71</th>\n",
       "      <td>NaN</td>\n",
       "      <td>139.0</td>\n",
       "      <td>8</td>\n",
       "      <td>7.0</td>\n",
       "      <td>11</td>\n",
       "      <td>82</td>\n",
       "      <td>S</td>\n",
       "    </tr>\n",
       "    <tr>\n",
       "      <th>74</th>\n",
       "      <td>NaN</td>\n",
       "      <td>291.0</td>\n",
       "      <td>14</td>\n",
       "      <td>7.0</td>\n",
       "      <td>14</td>\n",
       "      <td>91</td>\n",
       "      <td>C</td>\n",
       "    </tr>\n",
       "    <tr>\n",
       "      <th>82</th>\n",
       "      <td>NaN</td>\n",
       "      <td>258.0</td>\n",
       "      <td>9</td>\n",
       "      <td>7.0</td>\n",
       "      <td>22</td>\n",
       "      <td>81</td>\n",
       "      <td>S</td>\n",
       "    </tr>\n",
       "    <tr>\n",
       "      <th>83</th>\n",
       "      <td>NaN</td>\n",
       "      <td>295.0</td>\n",
       "      <td>11</td>\n",
       "      <td>7.0</td>\n",
       "      <td>23</td>\n",
       "      <td>82</td>\n",
       "      <td>C</td>\n",
       "    </tr>\n",
       "    <tr>\n",
       "      <th>87</th>\n",
       "      <td>52.0</td>\n",
       "      <td>82.0</td>\n",
       "      <td>12</td>\n",
       "      <td>7.0</td>\n",
       "      <td>27</td>\n",
       "      <td>86</td>\n",
       "      <td>NaN</td>\n",
       "    </tr>\n",
       "    <tr>\n",
       "      <th>93</th>\n",
       "      <td>9.0</td>\n",
       "      <td>24.0</td>\n",
       "      <td>13</td>\n",
       "      <td>8.0</td>\n",
       "      <td>2</td>\n",
       "      <td>81</td>\n",
       "      <td>NaN</td>\n",
       "    </tr>\n",
       "    <tr>\n",
       "      <th>95</th>\n",
       "      <td>78.0</td>\n",
       "      <td>NaN</td>\n",
       "      <td>6</td>\n",
       "      <td>8.0</td>\n",
       "      <td>4</td>\n",
       "      <td>86</td>\n",
       "      <td>NaN</td>\n",
       "    </tr>\n",
       "    <tr>\n",
       "      <th>96</th>\n",
       "      <td>35.0</td>\n",
       "      <td>NaN</td>\n",
       "      <td>7</td>\n",
       "      <td>8.0</td>\n",
       "      <td>5</td>\n",
       "      <td>85</td>\n",
       "      <td>S</td>\n",
       "    </tr>\n",
       "    <tr>\n",
       "      <th>97</th>\n",
       "      <td>66.0</td>\n",
       "      <td>NaN</td>\n",
       "      <td>4</td>\n",
       "      <td>8.0</td>\n",
       "      <td>6</td>\n",
       "      <td>87</td>\n",
       "      <td>C</td>\n",
       "    </tr>\n",
       "    <tr>\n",
       "      <th>101</th>\n",
       "      <td>NaN</td>\n",
       "      <td>222.0</td>\n",
       "      <td>8</td>\n",
       "      <td>8.0</td>\n",
       "      <td>10</td>\n",
       "      <td>92</td>\n",
       "      <td>PS</td>\n",
       "    </tr>\n",
       "    <tr>\n",
       "      <th>102</th>\n",
       "      <td>NaN</td>\n",
       "      <td>137.0</td>\n",
       "      <td>11</td>\n",
       "      <td>8.0</td>\n",
       "      <td>11</td>\n",
       "      <td>86</td>\n",
       "      <td>S</td>\n",
       "    </tr>\n",
       "    <tr>\n",
       "      <th>106</th>\n",
       "      <td>NaN</td>\n",
       "      <td>64.0</td>\n",
       "      <td>11</td>\n",
       "      <td>8.0</td>\n",
       "      <td>15</td>\n",
       "      <td>79</td>\n",
       "      <td>C</td>\n",
       "    </tr>\n",
       "    <tr>\n",
       "      <th>114</th>\n",
       "      <td>NaN</td>\n",
       "      <td>255.0</td>\n",
       "      <td>12</td>\n",
       "      <td>8.0</td>\n",
       "      <td>23</td>\n",
       "      <td>75</td>\n",
       "      <td>PS</td>\n",
       "    </tr>\n",
       "    <tr>\n",
       "      <th>118</th>\n",
       "      <td>NaN</td>\n",
       "      <td>153.0</td>\n",
       "      <td>5</td>\n",
       "      <td>8.0</td>\n",
       "      <td>27</td>\n",
       "      <td>88</td>\n",
       "      <td>S</td>\n",
       "    </tr>\n",
       "    <tr>\n",
       "      <th>149</th>\n",
       "      <td>NaN</td>\n",
       "      <td>145.0</td>\n",
       "      <td>13</td>\n",
       "      <td>9.0</td>\n",
       "      <td>27</td>\n",
       "      <td>77</td>\n",
       "      <td>PS</td>\n",
       "    </tr>\n",
       "    <tr>\n",
       "      <th>155</th>\n",
       "      <td>NaN</td>\n",
       "      <td>145.0</td>\n",
       "      <td>13</td>\n",
       "      <td>9.0</td>\n",
       "      <td>27</td>\n",
       "      <td>77</td>\n",
       "      <td>S</td>\n",
       "    </tr>\n",
       "  </tbody>\n",
       "</table>\n",
       "</div>"
      ],
      "text/plain": [
       "     Ozone  Solar  Wind  Month  Day  Temperature Weather\n",
       "4      NaN    NaN    14    5.0    5           56       S\n",
       "5     28.0    NaN    14    5.0    6           66       C\n",
       "9      NaN  194.0     8    5.0   10           69       S\n",
       "10     7.0    NaN     6    5.0   11           74       C\n",
       "23    32.0   92.0    12    NaN   24           61       C\n",
       "24     NaN   66.0    16    5.0   25           57      PS\n",
       "25     NaN  266.0    14    5.0   26           58       C\n",
       "26     NaN    NaN     8    5.0   27           57      PS\n",
       "31     NaN  286.0     8    6.0    1           78       S\n",
       "32     NaN  287.0     9    6.0    2           74       C\n",
       "33     NaN  242.0    16    6.0    3           67      PS\n",
       "34     NaN  186.0     9    6.0    4           84       C\n",
       "35     NaN  220.0     8    6.0    5           85      PS\n",
       "36     NaN  264.0    14    6.0    6           79       C\n",
       "38     NaN  273.0     6    6.0    8           87       S\n",
       "41     NaN  259.0    10    6.0   11           93       C\n",
       "42     NaN  250.0     9    6.0   12           92      PS\n",
       "44     NaN  332.0    13    6.0   14           80       S\n",
       "45     NaN  322.0    11    6.0   15           79       C\n",
       "51     NaN  150.0     6    6.0   21           77       S\n",
       "52     NaN   59.0     1    6.0   22           76       C\n",
       "53     NaN   91.0     4    6.0   23           76      PS\n",
       "54     NaN  250.0     6    6.0   24           76       S\n",
       "55     NaN  135.0     8    6.0   25           75       C\n",
       "56     NaN  127.0     8    6.0   26           78      PS\n",
       "57     NaN   47.0    10    6.0   27           73       C\n",
       "58     NaN   98.0    11    6.0   28           80      PS\n",
       "59     NaN   31.0    14    6.0   29           77       S\n",
       "60     NaN  138.0     8    6.0   30           83       S\n",
       "64     NaN  101.0    10    7.0    4           84       S\n",
       "71     NaN  139.0     8    7.0   11           82       S\n",
       "74     NaN  291.0    14    7.0   14           91       C\n",
       "82     NaN  258.0     9    7.0   22           81       S\n",
       "83     NaN  295.0    11    7.0   23           82       C\n",
       "87    52.0   82.0    12    7.0   27           86     NaN\n",
       "93     9.0   24.0    13    8.0    2           81     NaN\n",
       "95    78.0    NaN     6    8.0    4           86     NaN\n",
       "96    35.0    NaN     7    8.0    5           85       S\n",
       "97    66.0    NaN     4    8.0    6           87       C\n",
       "101    NaN  222.0     8    8.0   10           92      PS\n",
       "102    NaN  137.0    11    8.0   11           86       S\n",
       "106    NaN   64.0    11    8.0   15           79       C\n",
       "114    NaN  255.0    12    8.0   23           75      PS\n",
       "118    NaN  153.0     5    8.0   27           88       S\n",
       "149    NaN  145.0    13    9.0   27           77      PS\n",
       "155    NaN  145.0    13    9.0   27           77       S"
      ]
     },
     "execution_count": 288,
     "metadata": {},
     "output_type": "execute_result"
    }
   ],
   "source": [
    "data_cleaned1[data_cleaned1.isnull().any(axis=1)]   #those records only with null values"
   ]
  },
  {
   "cell_type": "code",
   "execution_count": 289,
   "id": "472ea09e-851b-4734-8045-8038ba5a5b80",
   "metadata": {},
   "outputs": [],
   "source": [
    "data_cleaned2=data_cleaned1.dropna()"
   ]
  },
  {
   "cell_type": "code",
   "execution_count": 290,
   "id": "b496b7d7-933f-460f-ab74-26841f1663e0",
   "metadata": {},
   "outputs": [],
   "source": [
    "data_cleaned2.reset_index(inplace=True)"
   ]
  },
  {
   "cell_type": "code",
   "execution_count": 291,
   "id": "741efb98-3d81-4c5b-b3af-8ed9101d5714",
   "metadata": {},
   "outputs": [
    {
     "data": {
      "text/plain": [
       "(112, 8)"
      ]
     },
     "execution_count": 291,
     "metadata": {},
     "output_type": "execute_result"
    }
   ],
   "source": [
    "data_cleaned2.shape"
   ]
  },
  {
   "cell_type": "code",
   "execution_count": 292,
   "id": "28f85375-8581-4846-a53f-b9a9b610fb7e",
   "metadata": {},
   "outputs": [
    {
     "data": {
      "text/plain": [
       "index          0\n",
       "Ozone          0\n",
       "Solar          0\n",
       "Wind           0\n",
       "Month          0\n",
       "Day            0\n",
       "Temperature    0\n",
       "Weather        0\n",
       "dtype: int64"
      ]
     },
     "execution_count": 292,
     "metadata": {},
     "output_type": "execute_result"
    }
   ],
   "source": [
    "data_cleaned2.isnull().sum()"
   ]
  },
  {
   "cell_type": "markdown",
   "id": "001c4459-3f81-48f1-b8ac-b7acb1d800b7",
   "metadata": {},
   "source": [
    "# for imputation methods , first check if there is OUTLIERS.\n",
    "#  if there is outliers go for median imputation else use mean imutation\n",
    "#   also if the datatype is category go for MODE"
   ]
  },
  {
   "cell_type": "code",
   "execution_count": 294,
   "id": "e243ba9b-7f08-4fa1-b79e-2d670d293255",
   "metadata": {},
   "outputs": [
    {
     "data": {
      "text/plain": [
       "Ozone           float64\n",
       "Solar           float64\n",
       "Wind              int64\n",
       "Month           float64\n",
       "Day               int64\n",
       "Temperature       int64\n",
       "Weather        category\n",
       "dtype: object"
      ]
     },
     "execution_count": 294,
     "metadata": {},
     "output_type": "execute_result"
    }
   ],
   "source": [
    "data_cleaned1.dtypes"
   ]
  },
  {
   "cell_type": "code",
   "execution_count": 295,
   "id": "94d9aa23-3d21-4015-827f-695a6006af95",
   "metadata": {},
   "outputs": [
    {
     "data": {
      "text/plain": [
       "<Axes: >"
      ]
     },
     "execution_count": 295,
     "metadata": {},
     "output_type": "execute_result"
    },
    {
     "data": {
      "image/png": "[encoded data removed]",
      "text/plain": [
       "<Figure size 640x480 with 1 Axes>"
      ]
     },
     "metadata": {},
     "output_type": "display_data"
    }
   ],
   "source": [
    "data_cleaned1.Ozone.plot(kind=\"box\")"
   ]
  },
  {
   "cell_type": "code",
   "execution_count": 296,
   "id": "a6044e6d-33b0-429c-a041-a795a38626c0",
   "metadata": {},
   "outputs": [
    {
     "data": {
      "text/plain": [
       "<Axes: >"
      ]
     },
     "execution_count": 296,
     "metadata": {},
     "output_type": "execute_result"
    },
    {
     "data": {
      "image/png": "[encoded data removed]",
      "text/plain": [
       "<Figure size 640x480 with 1 Axes>"
      ]
     },
     "metadata": {},
     "output_type": "display_data"
    }
   ],
   "source": [
    "data_cleaned1.Solar.plot(kind='box')"
   ]
  },
  {
   "cell_type": "code",
   "execution_count": 297,
   "id": "daa121b4-9dd5-4e1d-a8fb-4bdedc669e26",
   "metadata": {},
   "outputs": [
    {
     "name": "stdout",
     "output_type": "stream",
     "text": [
      "30.5\n"
     ]
    }
   ],
   "source": [
    "ozone_median=data_cleaned1.Ozone.median()\n",
    "print(ozone_median)\n",
    "data_cleaned1.Ozone=data_cleaned1.Ozone.fillna(ozone_median)"
   ]
  },
  {
   "cell_type": "code",
   "execution_count": 298,
   "id": "65112f75-46f9-4d33-954f-7178ba0634d0",
   "metadata": {},
   "outputs": [
    {
     "name": "stdout",
     "output_type": "stream",
     "text": [
      "185.40397350993376\n"
     ]
    }
   ],
   "source": [
    "solar_mean=data_cleaned1.Solar.mean()\n",
    "print(solar_mean)\n",
    "data_cleaned1.Solar=data_cleaned1.Solar.fillna(solar_mean)"
   ]
  },
  {
   "cell_type": "code",
   "execution_count": 299,
   "id": "f9b2af3e-427a-453c-aab9-2dddb27ec2d2",
   "metadata": {},
   "outputs": [
    {
     "name": "stdout",
     "output_type": "stream",
     "text": [
      "<class 'pandas.core.frame.DataFrame'>\n",
      "RangeIndex: 158 entries, 0 to 157\n",
      "Data columns (total 7 columns):\n",
      " #   Column       Non-Null Count  Dtype   \n",
      "---  ------       --------------  -----   \n",
      " 0   Ozone        158 non-null    float64 \n",
      " 1   Solar        158 non-null    float64 \n",
      " 2   Wind         158 non-null    int64   \n",
      " 3   Month        157 non-null    float64 \n",
      " 4   Day          158 non-null    int64   \n",
      " 5   Temperature  158 non-null    int64   \n",
      " 6   Weather      155 non-null    category\n",
      "dtypes: category(1), float64(3), int64(3)\n",
      "memory usage: 7.8 KB\n"
     ]
    }
   ],
   "source": [
    "data_cleaned1.info()"
   ]
  },
  {
   "cell_type": "code",
   "execution_count": 300,
   "id": "ab25db2c-d1ff-4f35-b238-b12e84cd3d76",
   "metadata": {},
   "outputs": [
    {
     "data": {
      "text/plain": [
       "Ozone          0\n",
       "Solar          0\n",
       "Wind           0\n",
       "Month          1\n",
       "Day            0\n",
       "Temperature    0\n",
       "Weather        3\n",
       "dtype: int64"
      ]
     },
     "execution_count": 300,
     "metadata": {},
     "output_type": "execute_result"
    }
   ],
   "source": [
    "data_cleaned1.isnull().sum()"
   ]
  },
  {
   "cell_type": "code",
   "execution_count": 301,
   "id": "ffabf872-8aeb-468e-9114-66830c3c339e",
   "metadata": {},
   "outputs": [
    {
     "data": {
      "text/plain": [
       "'S'"
      ]
     },
     "execution_count": 301,
     "metadata": {},
     "output_type": "execute_result"
    }
   ],
   "source": [
    "mode_weather=data_cleaned1.Weather.mode()[0]\n",
    "mode_weather"
   ]
  },
  {
   "cell_type": "code",
   "execution_count": 302,
   "id": "049c33f6-567f-443f-93a7-0ea6227c7373",
   "metadata": {},
   "outputs": [],
   "source": [
    "data_cleaned1.Weather=data_cleaned1.Weather.fillna(mode_weather)"
   ]
  },
  {
   "cell_type": "code",
   "execution_count": 303,
   "id": "47ce6bb4-578f-4e6b-8ba4-2a9abeca6730",
   "metadata": {},
   "outputs": [
    {
     "data": {
      "text/plain": [
       "Ozone          0\n",
       "Solar          0\n",
       "Wind           0\n",
       "Month          1\n",
       "Day            0\n",
       "Temperature    0\n",
       "Weather        0\n",
       "dtype: int64"
      ]
     },
     "execution_count": 303,
     "metadata": {},
     "output_type": "execute_result"
    }
   ],
   "source": [
    "data_cleaned1.isnull().sum()"
   ]
  },
  {
   "cell_type": "code",
   "execution_count": 304,
   "id": "22c2e2c2-96b0-4849-a850-cd1e3f896300",
   "metadata": {},
   "outputs": [],
   "source": [
    "data_cleaned1.dropna(inplace=True)"
   ]
  },
  {
   "cell_type": "code",
   "execution_count": 305,
   "id": "2b58fd3f-e624-43f7-9137-25b78077c2fb",
   "metadata": {},
   "outputs": [
    {
     "data": {
      "text/plain": [
       "Ozone          0\n",
       "Solar          0\n",
       "Wind           0\n",
       "Month          0\n",
       "Day            0\n",
       "Temperature    0\n",
       "Weather        0\n",
       "dtype: int64"
      ]
     },
     "execution_count": 305,
     "metadata": {},
     "output_type": "execute_result"
    }
   ],
   "source": [
    "data_cleaned1.isnull().sum()"
   ]
  },
  {
   "cell_type": "code",
   "execution_count": 306,
   "id": "5b8ba1d5-2024-4828-91e8-48995a807842",
   "metadata": {},
   "outputs": [
    {
     "data": {
      "text/html": [
       "<div>\n",
       "<style scoped>\n",
       "    .dataframe tbody tr th:only-of-type {\n",
       "        vertical-align: middle;\n",
       "    }\n",
       "\n",
       "    .dataframe tbody tr th {\n",
       "        vertical-align: top;\n",
       "    }\n",
       "\n",
       "    .dataframe thead th {\n",
       "        text-align: right;\n",
       "    }\n",
       "</style>\n",
       "<table border=\"1\" class=\"dataframe\">\n",
       "  <thead>\n",
       "    <tr style=\"text-align: right;\">\n",
       "      <th></th>\n",
       "      <th>Ozone</th>\n",
       "      <th>Solar</th>\n",
       "      <th>Wind</th>\n",
       "      <th>Month</th>\n",
       "      <th>Day</th>\n",
       "      <th>Temperature</th>\n",
       "      <th>Weather</th>\n",
       "    </tr>\n",
       "  </thead>\n",
       "  <tbody>\n",
       "    <tr>\n",
       "      <th>0</th>\n",
       "      <td>41.0</td>\n",
       "      <td>190.000000</td>\n",
       "      <td>7</td>\n",
       "      <td>5.0</td>\n",
       "      <td>1</td>\n",
       "      <td>67</td>\n",
       "      <td>S</td>\n",
       "    </tr>\n",
       "    <tr>\n",
       "      <th>1</th>\n",
       "      <td>36.0</td>\n",
       "      <td>118.000000</td>\n",
       "      <td>8</td>\n",
       "      <td>5.0</td>\n",
       "      <td>2</td>\n",
       "      <td>72</td>\n",
       "      <td>C</td>\n",
       "    </tr>\n",
       "    <tr>\n",
       "      <th>2</th>\n",
       "      <td>12.0</td>\n",
       "      <td>149.000000</td>\n",
       "      <td>12</td>\n",
       "      <td>5.0</td>\n",
       "      <td>3</td>\n",
       "      <td>74</td>\n",
       "      <td>PS</td>\n",
       "    </tr>\n",
       "    <tr>\n",
       "      <th>3</th>\n",
       "      <td>18.0</td>\n",
       "      <td>313.000000</td>\n",
       "      <td>11</td>\n",
       "      <td>5.0</td>\n",
       "      <td>4</td>\n",
       "      <td>62</td>\n",
       "      <td>S</td>\n",
       "    </tr>\n",
       "    <tr>\n",
       "      <th>4</th>\n",
       "      <td>30.5</td>\n",
       "      <td>185.403974</td>\n",
       "      <td>14</td>\n",
       "      <td>5.0</td>\n",
       "      <td>5</td>\n",
       "      <td>56</td>\n",
       "      <td>S</td>\n",
       "    </tr>\n",
       "    <tr>\n",
       "      <th>...</th>\n",
       "      <td>...</td>\n",
       "      <td>...</td>\n",
       "      <td>...</td>\n",
       "      <td>...</td>\n",
       "      <td>...</td>\n",
       "      <td>...</td>\n",
       "      <td>...</td>\n",
       "    </tr>\n",
       "    <tr>\n",
       "      <th>153</th>\n",
       "      <td>41.0</td>\n",
       "      <td>190.000000</td>\n",
       "      <td>7</td>\n",
       "      <td>5.0</td>\n",
       "      <td>1</td>\n",
       "      <td>67</td>\n",
       "      <td>C</td>\n",
       "    </tr>\n",
       "    <tr>\n",
       "      <th>154</th>\n",
       "      <td>30.0</td>\n",
       "      <td>193.000000</td>\n",
       "      <td>6</td>\n",
       "      <td>9.0</td>\n",
       "      <td>26</td>\n",
       "      <td>70</td>\n",
       "      <td>PS</td>\n",
       "    </tr>\n",
       "    <tr>\n",
       "      <th>155</th>\n",
       "      <td>30.5</td>\n",
       "      <td>145.000000</td>\n",
       "      <td>13</td>\n",
       "      <td>9.0</td>\n",
       "      <td>27</td>\n",
       "      <td>77</td>\n",
       "      <td>S</td>\n",
       "    </tr>\n",
       "    <tr>\n",
       "      <th>156</th>\n",
       "      <td>14.0</td>\n",
       "      <td>191.000000</td>\n",
       "      <td>14</td>\n",
       "      <td>9.0</td>\n",
       "      <td>28</td>\n",
       "      <td>75</td>\n",
       "      <td>S</td>\n",
       "    </tr>\n",
       "    <tr>\n",
       "      <th>157</th>\n",
       "      <td>18.0</td>\n",
       "      <td>131.000000</td>\n",
       "      <td>8</td>\n",
       "      <td>9.0</td>\n",
       "      <td>29</td>\n",
       "      <td>76</td>\n",
       "      <td>C</td>\n",
       "    </tr>\n",
       "  </tbody>\n",
       "</table>\n",
       "<p>157 rows × 7 columns</p>\n",
       "</div>"
      ],
      "text/plain": [
       "     Ozone       Solar  Wind  Month  Day  Temperature Weather\n",
       "0     41.0  190.000000     7    5.0    1           67       S\n",
       "1     36.0  118.000000     8    5.0    2           72       C\n",
       "2     12.0  149.000000    12    5.0    3           74      PS\n",
       "3     18.0  313.000000    11    5.0    4           62       S\n",
       "4     30.5  185.403974    14    5.0    5           56       S\n",
       "..     ...         ...   ...    ...  ...          ...     ...\n",
       "153   41.0  190.000000     7    5.0    1           67       C\n",
       "154   30.0  193.000000     6    9.0   26           70      PS\n",
       "155   30.5  145.000000    13    9.0   27           77       S\n",
       "156   14.0  191.000000    14    9.0   28           75       S\n",
       "157   18.0  131.000000     8    9.0   29           76       C\n",
       "\n",
       "[157 rows x 7 columns]"
      ]
     },
     "execution_count": 306,
     "metadata": {},
     "output_type": "execute_result"
    }
   ],
   "source": [
    "data_cleaned1"
   ]
  },
  {
   "cell_type": "markdown",
   "id": "97e404b9-fd49-441e-a9eb-608285b14077",
   "metadata": {},
   "source": [
    "# outlier detection and treatment"
   ]
  },
  {
   "cell_type": "markdown",
   "id": "8dcbb9e7-2904-45dc-a71b-5fa9d439bc39",
   "metadata": {},
   "source": [
    "# capping and Flooring\n",
    "# replacing all the upper values with the Upper Extreme\n",
    "# and replacing all the lower values with the Lower EXTREME"
   ]
  },
  {
   "cell_type": "code",
   "execution_count": 309,
   "id": "f88127f7-3e2d-4d37-a547-1234298b8cea",
   "metadata": {},
   "outputs": [
    {
     "data": {
      "text/plain": [
       "{'whiskers': [<matplotlib.lines.Line2D at 0x1ff0edceea0>,\n",
       "  <matplotlib.lines.Line2D at 0x1ff0edce9f0>],\n",
       " 'caps': [<matplotlib.lines.Line2D at 0x1ff0edcdfa0>,\n",
       "  <matplotlib.lines.Line2D at 0x1ff0edce450>],\n",
       " 'boxes': [<matplotlib.lines.Line2D at 0x1ff0edcf350>],\n",
       " 'medians': [<matplotlib.lines.Line2D at 0x1ff0edce960>],\n",
       " 'fliers': [<matplotlib.lines.Line2D at 0x1ff0edcdd00>],\n",
       " 'means': []}"
      ]
     },
     "execution_count": 309,
     "metadata": {},
     "output_type": "execute_result"
    },
    {
     "data": {
      "image/png": "[encoded data removed]",
      "text/plain": [
       "<Figure size 640x480 with 1 Axes>"
      ]
     },
     "metadata": {},
     "output_type": "display_data"
    }
   ],
   "source": [
    "box=plt.boxplot(data_cleaned1.Ozone)\n",
    "box"
   ]
  },
  {
   "cell_type": "code",
   "execution_count": 310,
   "id": "80be1158-b752-42d8-9071-73beb952464c",
   "metadata": {},
   "outputs": [
    {
     "name": "stdout",
     "output_type": "stream",
     "text": [
      "whiskers [<matplotlib.lines.Line2D object at 0x000001FF0EDCEEA0>, <matplotlib.lines.Line2D object at 0x000001FF0EDCE9F0>]\n",
      "caps [<matplotlib.lines.Line2D object at 0x000001FF0EDCDFA0>, <matplotlib.lines.Line2D object at 0x000001FF0EDCE450>]\n",
      "boxes [<matplotlib.lines.Line2D object at 0x000001FF0EDCF350>]\n",
      "medians [<matplotlib.lines.Line2D object at 0x000001FF0EDCE960>]\n",
      "fliers [<matplotlib.lines.Line2D object at 0x000001FF0EDCDD00>]\n",
      "means []\n"
     ]
    }
   ],
   "source": [
    "for i,j in box.items():\n",
    "    print(i,j)"
   ]
  },
  {
   "cell_type": "code",
   "execution_count": 311,
   "id": "0c170489-c7cf-4a0e-978f-7ec91a95859b",
   "metadata": {},
   "outputs": [],
   "source": [
    "# caps  --|---- extremes\n",
    "#filers ------ outliers"
   ]
  },
  {
   "cell_type": "code",
   "execution_count": 312,
   "id": "9e4d4b17-9a57-48f4-a074-283b76ff5177",
   "metadata": {},
   "outputs": [
    {
     "data": {
      "text/plain": [
       "[array([115., 135.,  97.,  97.,  85., 108.,  82., 122.,  89., 110., 168.,\n",
       "        118.,  84.,  85.,  96.,  91.])]"
      ]
     },
     "execution_count": 312,
     "metadata": {},
     "output_type": "execute_result"
    }
   ],
   "source": [
    "out=[]\n",
    "for items in box['fliers']:\n",
    "    out.append(items.get_ydata())\n",
    "\n",
    "out"
   ]
  },
  {
   "cell_type": "code",
   "execution_count": 313,
   "id": "0e3dacb5-081b-4bec-ae60-40dca4910132",
   "metadata": {},
   "outputs": [
    {
     "data": {
      "text/plain": [
       "[1.0, 80.0]"
      ]
     },
     "execution_count": 313,
     "metadata": {},
     "output_type": "execute_result"
    }
   ],
   "source": [
    "ext=[]\n",
    "\n",
    "for ex in box['caps']:\n",
    "    ext.append(ex.get_ydata()[1])\n",
    "\n",
    "ext"
   ]
  },
  {
   "cell_type": "code",
   "execution_count": 314,
   "id": "33d94b5b-1691-44fc-b87b-395e22c6782a",
   "metadata": {},
   "outputs": [
    {
     "data": {
      "text/plain": [
       "[array([115., 135.,  97.,  97.,  85., 108.,  82., 122.,  89., 110., 168.,\n",
       "        118.,  84.,  85.,  96.,  91.])]"
      ]
     },
     "execution_count": 314,
     "metadata": {},
     "output_type": "execute_result"
    }
   ],
   "source": [
    "[items.get_ydata() for items in box[\"fliers\"]]"
   ]
  },
  {
   "cell_type": "code",
   "execution_count": 315,
   "id": "1e727b63-f76b-446c-b4c8-0e0590314ccb",
   "metadata": {},
   "outputs": [
    {
     "data": {
      "text/plain": [
       "[1.0, 80.0]"
      ]
     },
     "execution_count": 315,
     "metadata": {},
     "output_type": "execute_result"
    }
   ],
   "source": [
    "[ext.get_ydata()[1] for ext in box['caps']]"
   ]
  },
  {
   "cell_type": "code",
   "execution_count": 316,
   "id": "491324d6-114d-4237-b2b3-55dd2efe3043",
   "metadata": {},
   "outputs": [
    {
     "data": {
      "text/html": [
       "<div>\n",
       "<style scoped>\n",
       "    .dataframe tbody tr th:only-of-type {\n",
       "        vertical-align: middle;\n",
       "    }\n",
       "\n",
       "    .dataframe tbody tr th {\n",
       "        vertical-align: top;\n",
       "    }\n",
       "\n",
       "    .dataframe thead th {\n",
       "        text-align: right;\n",
       "    }\n",
       "</style>\n",
       "<table border=\"1\" class=\"dataframe\">\n",
       "  <thead>\n",
       "    <tr style=\"text-align: right;\">\n",
       "      <th></th>\n",
       "      <th>Ozone</th>\n",
       "      <th>Solar</th>\n",
       "      <th>Wind</th>\n",
       "      <th>Month</th>\n",
       "      <th>Day</th>\n",
       "      <th>Temperature</th>\n",
       "      <th>Weather</th>\n",
       "    </tr>\n",
       "  </thead>\n",
       "  <tbody>\n",
       "    <tr>\n",
       "      <th>29</th>\n",
       "      <td>115.0</td>\n",
       "      <td>223.0</td>\n",
       "      <td>5</td>\n",
       "      <td>5.0</td>\n",
       "      <td>30</td>\n",
       "      <td>79</td>\n",
       "      <td>C</td>\n",
       "    </tr>\n",
       "    <tr>\n",
       "      <th>61</th>\n",
       "      <td>135.0</td>\n",
       "      <td>269.0</td>\n",
       "      <td>4</td>\n",
       "      <td>7.0</td>\n",
       "      <td>1</td>\n",
       "      <td>84</td>\n",
       "      <td>S</td>\n",
       "    </tr>\n",
       "    <tr>\n",
       "      <th>68</th>\n",
       "      <td>97.0</td>\n",
       "      <td>267.0</td>\n",
       "      <td>6</td>\n",
       "      <td>7.0</td>\n",
       "      <td>8</td>\n",
       "      <td>92</td>\n",
       "      <td>PS</td>\n",
       "    </tr>\n",
       "    <tr>\n",
       "      <th>69</th>\n",
       "      <td>97.0</td>\n",
       "      <td>272.0</td>\n",
       "      <td>5</td>\n",
       "      <td>7.0</td>\n",
       "      <td>9</td>\n",
       "      <td>92</td>\n",
       "      <td>C</td>\n",
       "    </tr>\n",
       "    <tr>\n",
       "      <th>70</th>\n",
       "      <td>85.0</td>\n",
       "      <td>175.0</td>\n",
       "      <td>7</td>\n",
       "      <td>7.0</td>\n",
       "      <td>10</td>\n",
       "      <td>89</td>\n",
       "      <td>PS</td>\n",
       "    </tr>\n",
       "    <tr>\n",
       "      <th>85</th>\n",
       "      <td>108.0</td>\n",
       "      <td>223.0</td>\n",
       "      <td>8</td>\n",
       "      <td>7.0</td>\n",
       "      <td>25</td>\n",
       "      <td>85</td>\n",
       "      <td>PS</td>\n",
       "    </tr>\n",
       "    <tr>\n",
       "      <th>88</th>\n",
       "      <td>82.0</td>\n",
       "      <td>213.0</td>\n",
       "      <td>7</td>\n",
       "      <td>7.0</td>\n",
       "      <td>28</td>\n",
       "      <td>88</td>\n",
       "      <td>S</td>\n",
       "    </tr>\n",
       "    <tr>\n",
       "      <th>98</th>\n",
       "      <td>122.0</td>\n",
       "      <td>255.0</td>\n",
       "      <td>4</td>\n",
       "      <td>8.0</td>\n",
       "      <td>7</td>\n",
       "      <td>89</td>\n",
       "      <td>C</td>\n",
       "    </tr>\n",
       "    <tr>\n",
       "      <th>99</th>\n",
       "      <td>89.0</td>\n",
       "      <td>229.0</td>\n",
       "      <td>10</td>\n",
       "      <td>8.0</td>\n",
       "      <td>8</td>\n",
       "      <td>90</td>\n",
       "      <td>PS</td>\n",
       "    </tr>\n",
       "    <tr>\n",
       "      <th>100</th>\n",
       "      <td>110.0</td>\n",
       "      <td>207.0</td>\n",
       "      <td>8</td>\n",
       "      <td>8.0</td>\n",
       "      <td>9</td>\n",
       "      <td>90</td>\n",
       "      <td>C</td>\n",
       "    </tr>\n",
       "    <tr>\n",
       "      <th>116</th>\n",
       "      <td>168.0</td>\n",
       "      <td>238.0</td>\n",
       "      <td>3</td>\n",
       "      <td>8.0</td>\n",
       "      <td>25</td>\n",
       "      <td>81</td>\n",
       "      <td>PS</td>\n",
       "    </tr>\n",
       "    <tr>\n",
       "      <th>120</th>\n",
       "      <td>118.0</td>\n",
       "      <td>225.0</td>\n",
       "      <td>2</td>\n",
       "      <td>8.0</td>\n",
       "      <td>29</td>\n",
       "      <td>94</td>\n",
       "      <td>S</td>\n",
       "    </tr>\n",
       "    <tr>\n",
       "      <th>121</th>\n",
       "      <td>84.0</td>\n",
       "      <td>237.0</td>\n",
       "      <td>6</td>\n",
       "      <td>8.0</td>\n",
       "      <td>30</td>\n",
       "      <td>96</td>\n",
       "      <td>S</td>\n",
       "    </tr>\n",
       "    <tr>\n",
       "      <th>122</th>\n",
       "      <td>85.0</td>\n",
       "      <td>188.0</td>\n",
       "      <td>6</td>\n",
       "      <td>8.0</td>\n",
       "      <td>31</td>\n",
       "      <td>94</td>\n",
       "      <td>C</td>\n",
       "    </tr>\n",
       "    <tr>\n",
       "      <th>123</th>\n",
       "      <td>96.0</td>\n",
       "      <td>167.0</td>\n",
       "      <td>6</td>\n",
       "      <td>9.0</td>\n",
       "      <td>1</td>\n",
       "      <td>91</td>\n",
       "      <td>C</td>\n",
       "    </tr>\n",
       "    <tr>\n",
       "      <th>126</th>\n",
       "      <td>91.0</td>\n",
       "      <td>189.0</td>\n",
       "      <td>4</td>\n",
       "      <td>9.0</td>\n",
       "      <td>4</td>\n",
       "      <td>93</td>\n",
       "      <td>PS</td>\n",
       "    </tr>\n",
       "  </tbody>\n",
       "</table>\n",
       "</div>"
      ],
      "text/plain": [
       "     Ozone  Solar  Wind  Month  Day  Temperature Weather\n",
       "29   115.0  223.0     5    5.0   30           79       C\n",
       "61   135.0  269.0     4    7.0    1           84       S\n",
       "68    97.0  267.0     6    7.0    8           92      PS\n",
       "69    97.0  272.0     5    7.0    9           92       C\n",
       "70    85.0  175.0     7    7.0   10           89      PS\n",
       "85   108.0  223.0     8    7.0   25           85      PS\n",
       "88    82.0  213.0     7    7.0   28           88       S\n",
       "98   122.0  255.0     4    8.0    7           89       C\n",
       "99    89.0  229.0    10    8.0    8           90      PS\n",
       "100  110.0  207.0     8    8.0    9           90       C\n",
       "116  168.0  238.0     3    8.0   25           81      PS\n",
       "120  118.0  225.0     2    8.0   29           94       S\n",
       "121   84.0  237.0     6    8.0   30           96       S\n",
       "122   85.0  188.0     6    8.0   31           94       C\n",
       "123   96.0  167.0     6    9.0    1           91       C\n",
       "126   91.0  189.0     4    9.0    4           93      PS"
      ]
     },
     "execution_count": 316,
     "metadata": {},
     "output_type": "execute_result"
    }
   ],
   "source": [
    "data_cleaned1.loc[(data_cleaned1.Ozone<1)| (data_cleaned1.Ozone > 80)]"
   ]
  },
  {
   "cell_type": "code",
   "execution_count": 317,
   "id": "7eff5d56-a446-4af4-94fb-31b183523d03",
   "metadata": {},
   "outputs": [
    {
     "data": {
      "text/plain": [
       "29     115.0\n",
       "61     135.0\n",
       "68      97.0\n",
       "69      97.0\n",
       "70      85.0\n",
       "85     108.0\n",
       "88      82.0\n",
       "98     122.0\n",
       "99      89.0\n",
       "100    110.0\n",
       "116    168.0\n",
       "120    118.0\n",
       "121     84.0\n",
       "122     85.0\n",
       "123     96.0\n",
       "126     91.0\n",
       "Name: Ozone, dtype: float64"
      ]
     },
     "execution_count": 317,
     "metadata": {},
     "output_type": "execute_result"
    }
   ],
   "source": [
    "data_cleaned1.loc[data_cleaned1.Ozone>80,\"Ozone\"]"
   ]
  },
  {
   "cell_type": "code",
   "execution_count": 318,
   "id": "72725134-9939-4511-a06e-315035fb25e6",
   "metadata": {},
   "outputs": [],
   "source": [
    "data_cleaned1.loc[data_cleaned1.Ozone>80,\"Ozone\"]=80"
   ]
  },
  {
   "cell_type": "code",
   "execution_count": 319,
   "id": "3bdaaf90-7947-43f1-b742-b157581655a6",
   "metadata": {},
   "outputs": [
    {
     "data": {
      "text/plain": [
       "<Axes: >"
      ]
     },
     "execution_count": 319,
     "metadata": {},
     "output_type": "execute_result"
    },
    {
     "data": {
      "image/png": "[encoded data removed]",
      "text/plain": [
       "<Figure size 640x480 with 1 Axes>"
      ]
     },
     "metadata": {},
     "output_type": "display_data"
    }
   ],
   "source": [
    "data_cleaned1.Ozone.plot(kind=\"box\")"
   ]
  },
  {
   "cell_type": "code",
   "execution_count": 320,
   "id": "e1240fa6-2387-40f4-971d-cd09f48fa793",
   "metadata": {},
   "outputs": [
    {
     "data": {
      "text/html": [
       "<div>\n",
       "<style scoped>\n",
       "    .dataframe tbody tr th:only-of-type {\n",
       "        vertical-align: middle;\n",
       "    }\n",
       "\n",
       "    .dataframe tbody tr th {\n",
       "        vertical-align: top;\n",
       "    }\n",
       "\n",
       "    .dataframe thead th {\n",
       "        text-align: right;\n",
       "    }\n",
       "</style>\n",
       "<table border=\"1\" class=\"dataframe\">\n",
       "  <thead>\n",
       "    <tr style=\"text-align: right;\">\n",
       "      <th></th>\n",
       "      <th>Ozone</th>\n",
       "      <th>Solar</th>\n",
       "      <th>Wind</th>\n",
       "      <th>Month</th>\n",
       "      <th>Day</th>\n",
       "      <th>Temperature</th>\n",
       "    </tr>\n",
       "  </thead>\n",
       "  <tbody>\n",
       "    <tr>\n",
       "      <th>count</th>\n",
       "      <td>157.000000</td>\n",
       "      <td>157.000000</td>\n",
       "      <td>157.000000</td>\n",
       "      <td>157.000000</td>\n",
       "      <td>157.000000</td>\n",
       "      <td>157.000000</td>\n",
       "    </tr>\n",
       "    <tr>\n",
       "      <th>mean</th>\n",
       "      <td>36.401274</td>\n",
       "      <td>185.998903</td>\n",
       "      <td>9.464968</td>\n",
       "      <td>7.044586</td>\n",
       "      <td>15.955414</td>\n",
       "      <td>77.834395</td>\n",
       "    </tr>\n",
       "    <tr>\n",
       "      <th>std</th>\n",
       "      <td>22.376473</td>\n",
       "      <td>86.676102</td>\n",
       "      <td>3.489046</td>\n",
       "      <td>1.433768</td>\n",
       "      <td>9.003093</td>\n",
       "      <td>9.311454</td>\n",
       "    </tr>\n",
       "    <tr>\n",
       "      <th>min</th>\n",
       "      <td>1.000000</td>\n",
       "      <td>7.000000</td>\n",
       "      <td>1.000000</td>\n",
       "      <td>5.000000</td>\n",
       "      <td>1.000000</td>\n",
       "      <td>56.000000</td>\n",
       "    </tr>\n",
       "    <tr>\n",
       "      <th>25%</th>\n",
       "      <td>21.000000</td>\n",
       "      <td>127.000000</td>\n",
       "      <td>7.000000</td>\n",
       "      <td>6.000000</td>\n",
       "      <td>8.000000</td>\n",
       "      <td>72.000000</td>\n",
       "    </tr>\n",
       "    <tr>\n",
       "      <th>50%</th>\n",
       "      <td>30.500000</td>\n",
       "      <td>193.000000</td>\n",
       "      <td>9.000000</td>\n",
       "      <td>7.000000</td>\n",
       "      <td>16.000000</td>\n",
       "      <td>79.000000</td>\n",
       "    </tr>\n",
       "    <tr>\n",
       "      <th>75%</th>\n",
       "      <td>45.000000</td>\n",
       "      <td>255.000000</td>\n",
       "      <td>11.000000</td>\n",
       "      <td>8.000000</td>\n",
       "      <td>24.000000</td>\n",
       "      <td>84.000000</td>\n",
       "    </tr>\n",
       "    <tr>\n",
       "      <th>max</th>\n",
       "      <td>80.000000</td>\n",
       "      <td>334.000000</td>\n",
       "      <td>20.000000</td>\n",
       "      <td>9.000000</td>\n",
       "      <td>31.000000</td>\n",
       "      <td>97.000000</td>\n",
       "    </tr>\n",
       "  </tbody>\n",
       "</table>\n",
       "</div>"
      ],
      "text/plain": [
       "            Ozone       Solar        Wind       Month         Day  Temperature\n",
       "count  157.000000  157.000000  157.000000  157.000000  157.000000   157.000000\n",
       "mean    36.401274  185.998903    9.464968    7.044586   15.955414    77.834395\n",
       "std     22.376473   86.676102    3.489046    1.433768    9.003093     9.311454\n",
       "min      1.000000    7.000000    1.000000    5.000000    1.000000    56.000000\n",
       "25%     21.000000  127.000000    7.000000    6.000000    8.000000    72.000000\n",
       "50%     30.500000  193.000000    9.000000    7.000000   16.000000    79.000000\n",
       "75%     45.000000  255.000000   11.000000    8.000000   24.000000    84.000000\n",
       "max     80.000000  334.000000   20.000000    9.000000   31.000000    97.000000"
      ]
     },
     "execution_count": 320,
     "metadata": {},
     "output_type": "execute_result"
    }
   ],
   "source": [
    "data_cleaned1.describe()"
   ]
  },
  {
   "cell_type": "code",
   "execution_count": 321,
   "id": "c5a1967f-6aaa-479f-8064-9aa649a56c55",
   "metadata": {},
   "outputs": [
    {
     "data": {
      "text/plain": [
       "{'whiskers': [<matplotlib.lines.Line2D at 0x1ff0bf87a70>,\n",
       "  <matplotlib.lines.Line2D at 0x1ff0bf874a0>],\n",
       " 'caps': [<matplotlib.lines.Line2D at 0x1ff0c83e840>,\n",
       "  <matplotlib.lines.Line2D at 0x1ff0ebdb1d0>],\n",
       " 'boxes': [<matplotlib.lines.Line2D at 0x1ff0c9d3dd0>],\n",
       " 'medians': [<matplotlib.lines.Line2D at 0x1ff0ebd9790>],\n",
       " 'fliers': [<matplotlib.lines.Line2D at 0x1ff0ebd9370>],\n",
       " 'means': []}"
      ]
     },
     "execution_count": 321,
     "metadata": {},
     "output_type": "execute_result"
    },
    {
     "data": {
      "image/png": "[encoded data removed]",
      "text/plain": [
       "<Figure size 640x480 with 1 Axes>"
      ]
     },
     "metadata": {},
     "output_type": "display_data"
    }
   ],
   "source": [
    "box_wind=plt.boxplot(data_cleaned1.Wind)\n",
    "box_wind"
   ]
  },
  {
   "cell_type": "code",
   "execution_count": 322,
   "id": "3c9524a8-4423-450a-9589-fd8b73b679cd",
   "metadata": {},
   "outputs": [
    {
     "data": {
      "text/plain": [
       "[array([20, 18, 20], dtype=int64)]"
      ]
     },
     "execution_count": 322,
     "metadata": {},
     "output_type": "execute_result"
    }
   ],
   "source": [
    "[items.get_ydata() for items in box_wind[\"fliers\"]]"
   ]
  },
  {
   "cell_type": "code",
   "execution_count": 323,
   "id": "2e3f3a22-f903-4545-a828-f209ab1e17c9",
   "metadata": {},
   "outputs": [
    {
     "data": {
      "text/plain": [
       "[1, 16]"
      ]
     },
     "execution_count": 323,
     "metadata": {},
     "output_type": "execute_result"
    }
   ],
   "source": [
    "[items.get_ydata()[1] for items in box_wind[\"caps\"]]"
   ]
  },
  {
   "cell_type": "code",
   "execution_count": 324,
   "id": "de3eea55-5e20-4dee-ad1e-e19b14d13901",
   "metadata": {},
   "outputs": [],
   "source": [
    "extremes=[items.get_ydata()[1] for items in box_wind['whiskers']]"
   ]
  },
  {
   "cell_type": "code",
   "execution_count": 325,
   "id": "ef3569c8-c74a-4a39-9800-0f6805403954",
   "metadata": {},
   "outputs": [
    {
     "name": "stdout",
     "output_type": "stream",
     "text": [
      "16.0 1.0\n"
     ]
    }
   ],
   "source": [
    "LE=extremes[0]\n",
    "UE=extremes[1]\n",
    "print(UE,LE)"
   ]
  },
  {
   "cell_type": "code",
   "execution_count": 327,
   "id": "662ef477-c8fb-4b16-992a-c3ca80f4cbc6",
   "metadata": {},
   "outputs": [],
   "source": [
    "data_cleaned1.loc[data_cleaned1.Wind>16]=16"
   ]
  },
  {
   "cell_type": "code",
   "execution_count": 329,
   "id": "48fd52eb-9ce0-45bb-9f4e-7c81a9f42ded",
   "metadata": {},
   "outputs": [
    {
     "data": {
      "text/plain": [
       "<function matplotlib.pyplot.show(close=None, block=None)>"
      ]
     },
     "execution_count": 329,
     "metadata": {},
     "output_type": "execute_result"
    },
    {
     "data": {
      "image/png": "[encoded data removed]",
      "text/plain": [
       "<Figure size 640x480 with 1 Axes>"
      ]
     },
     "metadata": {},
     "output_type": "display_data"
    }
   ],
   "source": [
    "plt.boxplot(data_cleaned1.Wind)\n",
    "plt.show"
   ]
  },
  {
   "cell_type": "code",
   "execution_count": null,
   "id": "91f4c420-6343-4ddf-8159-daf45f19cb0d",
   "metadata": {},
   "outputs": [],
   "source": [
    "## "
   ]
  },
  {
   "cell_type": "markdown",
   "id": "81f9f8db-df4b-4a25-887e-4b817a59a183",
   "metadata": {},
   "source": [
    "# Scatter plot and Correlation"
   ]
  },
  {
   "cell_type": "code",
   "execution_count": null,
   "id": "a11a1442-ef27-4a34-af8f-9d546b1a3368",
   "metadata": {},
   "outputs": [],
   "source": [
    "# scatter plot gives visualized ralationship between 2 variables(continuous)"
   ]
  },
  {
   "cell_type": "code",
   "execution_count": null,
   "id": "210a3384-86d1-4719-94aa-ef2983bedae3",
   "metadata": {},
   "outputs": [],
   "source": [
    "# correlation --degree of relation between continuous variables (linear relationship)"
   ]
  },
  {
   "cell_type": "code",
   "execution_count": 331,
   "id": "c3966107-b5f1-4530-8ebd-b29b736fe624",
   "metadata": {},
   "outputs": [
    {
     "data": {
      "text/plain": [
       "<matplotlib.collections.PathCollection at 0x1ff0f96e0c0>"
      ]
     },
     "execution_count": 331,
     "metadata": {},
     "output_type": "execute_result"
    },
    {
     "data": {
      "image/png": "[encoded data removed]",
      "text/plain": [
       "<Figure size 640x480 with 1 Axes>"
      ]
     },
     "metadata": {},
     "output_type": "display_data"
    }
   ],
   "source": [
    "plt.scatter(data_cleaned1.Ozone,data_cleaned1.Wind)"
   ]
  },
  {
   "cell_type": "code",
   "execution_count": 333,
   "id": "6d94fa2c-1252-4fc9-bbdf-41da4fb3c3dd",
   "metadata": {},
   "outputs": [
    {
     "data": {
      "text/plain": [
       "<function matplotlib.pyplot.show(close=None, block=None)>"
      ]
     },
     "execution_count": 333,
     "metadata": {},
     "output_type": "execute_result"
    },
    {
     "data": {
      "image/png": "[encoded data removed]",
      "text/plain": [
       "<Figure size 1500x1500 with 42 Axes>"
      ]
     },
     "metadata": {},
     "output_type": "display_data"
    }
   ],
   "source": [
    "import seaborn as sns\n",
    "sns.pairplot(data_cleaned1)\n",
    "plt.show"
   ]
  },
  {
   "cell_type": "code",
   "execution_count": 334,
   "id": "a2fd8280-6a09-4bbf-9262-6fc0ceaaff77",
   "metadata": {},
   "outputs": [],
   "source": [
    "# correlation"
   ]
  },
  {
   "cell_type": "code",
   "execution_count": 335,
   "id": "01ac9c16-3819-41f9-92c6-bb53052f356c",
   "metadata": {},
   "outputs": [
    {
     "data": {
      "text/html": [
       "<div>\n",
       "<style scoped>\n",
       "    .dataframe tbody tr th:only-of-type {\n",
       "        vertical-align: middle;\n",
       "    }\n",
       "\n",
       "    .dataframe tbody tr th {\n",
       "        vertical-align: top;\n",
       "    }\n",
       "\n",
       "    .dataframe thead th {\n",
       "        text-align: right;\n",
       "    }\n",
       "</style>\n",
       "<table border=\"1\" class=\"dataframe\">\n",
       "  <thead>\n",
       "    <tr style=\"text-align: right;\">\n",
       "      <th></th>\n",
       "      <th>Ozone</th>\n",
       "      <th>Solar</th>\n",
       "      <th>Wind</th>\n",
       "      <th>Month</th>\n",
       "      <th>Day</th>\n",
       "      <th>Temperature</th>\n",
       "    </tr>\n",
       "  </thead>\n",
       "  <tbody>\n",
       "    <tr>\n",
       "      <th>Ozone</th>\n",
       "      <td>1.000000</td>\n",
       "      <td>0.320222</td>\n",
       "      <td>-0.525089</td>\n",
       "      <td>0.031215</td>\n",
       "      <td>-0.055667</td>\n",
       "      <td>0.562366</td>\n",
       "    </tr>\n",
       "    <tr>\n",
       "      <th>Solar</th>\n",
       "      <td>0.320222</td>\n",
       "      <td>1.000000</td>\n",
       "      <td>-0.098789</td>\n",
       "      <td>-0.261007</td>\n",
       "      <td>-0.151031</td>\n",
       "      <td>0.342217</td>\n",
       "    </tr>\n",
       "    <tr>\n",
       "      <th>Wind</th>\n",
       "      <td>-0.525089</td>\n",
       "      <td>-0.098789</td>\n",
       "      <td>1.000000</td>\n",
       "      <td>0.110469</td>\n",
       "      <td>0.063434</td>\n",
       "      <td>-0.470969</td>\n",
       "    </tr>\n",
       "    <tr>\n",
       "      <th>Month</th>\n",
       "      <td>0.031215</td>\n",
       "      <td>-0.261007</td>\n",
       "      <td>0.110469</td>\n",
       "      <td>1.000000</td>\n",
       "      <td>0.043791</td>\n",
       "      <td>-0.247150</td>\n",
       "    </tr>\n",
       "    <tr>\n",
       "      <th>Day</th>\n",
       "      <td>-0.055667</td>\n",
       "      <td>-0.151031</td>\n",
       "      <td>0.063434</td>\n",
       "      <td>0.043791</td>\n",
       "      <td>1.000000</td>\n",
       "      <td>-0.091143</td>\n",
       "    </tr>\n",
       "    <tr>\n",
       "      <th>Temperature</th>\n",
       "      <td>0.562366</td>\n",
       "      <td>0.342217</td>\n",
       "      <td>-0.470969</td>\n",
       "      <td>-0.247150</td>\n",
       "      <td>-0.091143</td>\n",
       "      <td>1.000000</td>\n",
       "    </tr>\n",
       "  </tbody>\n",
       "</table>\n",
       "</div>"
      ],
      "text/plain": [
       "                Ozone     Solar      Wind     Month       Day  Temperature\n",
       "Ozone        1.000000  0.320222 -0.525089  0.031215 -0.055667     0.562366\n",
       "Solar        0.320222  1.000000 -0.098789 -0.261007 -0.151031     0.342217\n",
       "Wind        -0.525089 -0.098789  1.000000  0.110469  0.063434    -0.470969\n",
       "Month        0.031215 -0.261007  0.110469  1.000000  0.043791    -0.247150\n",
       "Day         -0.055667 -0.151031  0.063434  0.043791  1.000000    -0.091143\n",
       "Temperature  0.562366  0.342217 -0.470969 -0.247150 -0.091143     1.000000"
      ]
     },
     "execution_count": 335,
     "metadata": {},
     "output_type": "execute_result"
    }
   ],
   "source": [
    "df_num=data_cleaned1.select_dtypes('number')\n",
    "df_num.corr(method=\"pearson\")"
   ]
  },
  {
   "cell_type": "code",
   "execution_count": 336,
   "id": "3870e38c-9133-47a0-b135-e302219fda0b",
   "metadata": {},
   "outputs": [
    {
     "data": {
      "text/plain": [
       "<Axes: >"
      ]
     },
     "execution_count": 336,
     "metadata": {},
     "output_type": "execute_result"
    },
    {
     "data": {
      "image/png": "[encoded data removed]",
      "text/plain": [
       "<Figure size 640x480 with 2 Axes>"
      ]
     },
     "metadata": {},
     "output_type": "display_data"
    }
   ],
   "source": [
    "sns.heatmap(df_num.corr(),annot=True,cmap=\"coolwarm\")"
   ]
  },
  {
   "cell_type": "markdown",
   "id": "e920f781-6aa6-4980-87e6-c2e82a53258a",
   "metadata": {},
   "source": [
    "# Transformation"
   ]
  },
  {
   "cell_type": "markdown",
   "id": "b6bde81c-5815-4535-87f7-1593d2f23b88",
   "metadata": {},
   "source": [
    "## 1.dummy variable"
   ]
  },
  {
   "cell_type": "code",
   "execution_count": 339,
   "id": "20eb8833-2a02-47fe-8917-29b2fa266b82",
   "metadata": {},
   "outputs": [
    {
     "data": {
      "text/html": [
       "<div>\n",
       "<style scoped>\n",
       "    .dataframe tbody tr th:only-of-type {\n",
       "        vertical-align: middle;\n",
       "    }\n",
       "\n",
       "    .dataframe tbody tr th {\n",
       "        vertical-align: top;\n",
       "    }\n",
       "\n",
       "    .dataframe thead th {\n",
       "        text-align: right;\n",
       "    }\n",
       "</style>\n",
       "<table border=\"1\" class=\"dataframe\">\n",
       "  <thead>\n",
       "    <tr style=\"text-align: right;\">\n",
       "      <th></th>\n",
       "      <th>Ozone</th>\n",
       "      <th>Solar</th>\n",
       "      <th>Wind</th>\n",
       "      <th>Month</th>\n",
       "      <th>Day</th>\n",
       "      <th>Temperature</th>\n",
       "      <th>Weather</th>\n",
       "    </tr>\n",
       "  </thead>\n",
       "  <tbody>\n",
       "    <tr>\n",
       "      <th>0</th>\n",
       "      <td>41.0</td>\n",
       "      <td>190.000000</td>\n",
       "      <td>7</td>\n",
       "      <td>5.0</td>\n",
       "      <td>1</td>\n",
       "      <td>67</td>\n",
       "      <td>S</td>\n",
       "    </tr>\n",
       "    <tr>\n",
       "      <th>1</th>\n",
       "      <td>36.0</td>\n",
       "      <td>118.000000</td>\n",
       "      <td>8</td>\n",
       "      <td>5.0</td>\n",
       "      <td>2</td>\n",
       "      <td>72</td>\n",
       "      <td>C</td>\n",
       "    </tr>\n",
       "    <tr>\n",
       "      <th>2</th>\n",
       "      <td>12.0</td>\n",
       "      <td>149.000000</td>\n",
       "      <td>12</td>\n",
       "      <td>5.0</td>\n",
       "      <td>3</td>\n",
       "      <td>74</td>\n",
       "      <td>PS</td>\n",
       "    </tr>\n",
       "    <tr>\n",
       "      <th>3</th>\n",
       "      <td>18.0</td>\n",
       "      <td>313.000000</td>\n",
       "      <td>11</td>\n",
       "      <td>5.0</td>\n",
       "      <td>4</td>\n",
       "      <td>62</td>\n",
       "      <td>S</td>\n",
       "    </tr>\n",
       "    <tr>\n",
       "      <th>4</th>\n",
       "      <td>30.5</td>\n",
       "      <td>185.403974</td>\n",
       "      <td>14</td>\n",
       "      <td>5.0</td>\n",
       "      <td>5</td>\n",
       "      <td>56</td>\n",
       "      <td>S</td>\n",
       "    </tr>\n",
       "    <tr>\n",
       "      <th>...</th>\n",
       "      <td>...</td>\n",
       "      <td>...</td>\n",
       "      <td>...</td>\n",
       "      <td>...</td>\n",
       "      <td>...</td>\n",
       "      <td>...</td>\n",
       "      <td>...</td>\n",
       "    </tr>\n",
       "    <tr>\n",
       "      <th>153</th>\n",
       "      <td>41.0</td>\n",
       "      <td>190.000000</td>\n",
       "      <td>7</td>\n",
       "      <td>5.0</td>\n",
       "      <td>1</td>\n",
       "      <td>67</td>\n",
       "      <td>C</td>\n",
       "    </tr>\n",
       "    <tr>\n",
       "      <th>154</th>\n",
       "      <td>30.0</td>\n",
       "      <td>193.000000</td>\n",
       "      <td>6</td>\n",
       "      <td>9.0</td>\n",
       "      <td>26</td>\n",
       "      <td>70</td>\n",
       "      <td>PS</td>\n",
       "    </tr>\n",
       "    <tr>\n",
       "      <th>155</th>\n",
       "      <td>30.5</td>\n",
       "      <td>145.000000</td>\n",
       "      <td>13</td>\n",
       "      <td>9.0</td>\n",
       "      <td>27</td>\n",
       "      <td>77</td>\n",
       "      <td>S</td>\n",
       "    </tr>\n",
       "    <tr>\n",
       "      <th>156</th>\n",
       "      <td>14.0</td>\n",
       "      <td>191.000000</td>\n",
       "      <td>14</td>\n",
       "      <td>9.0</td>\n",
       "      <td>28</td>\n",
       "      <td>75</td>\n",
       "      <td>S</td>\n",
       "    </tr>\n",
       "    <tr>\n",
       "      <th>157</th>\n",
       "      <td>18.0</td>\n",
       "      <td>131.000000</td>\n",
       "      <td>8</td>\n",
       "      <td>9.0</td>\n",
       "      <td>29</td>\n",
       "      <td>76</td>\n",
       "      <td>C</td>\n",
       "    </tr>\n",
       "  </tbody>\n",
       "</table>\n",
       "<p>157 rows × 7 columns</p>\n",
       "</div>"
      ],
      "text/plain": [
       "     Ozone       Solar  Wind  Month  Day  Temperature Weather\n",
       "0     41.0  190.000000     7    5.0    1           67       S\n",
       "1     36.0  118.000000     8    5.0    2           72       C\n",
       "2     12.0  149.000000    12    5.0    3           74      PS\n",
       "3     18.0  313.000000    11    5.0    4           62       S\n",
       "4     30.5  185.403974    14    5.0    5           56       S\n",
       "..     ...         ...   ...    ...  ...          ...     ...\n",
       "153   41.0  190.000000     7    5.0    1           67       C\n",
       "154   30.0  193.000000     6    9.0   26           70      PS\n",
       "155   30.5  145.000000    13    9.0   27           77       S\n",
       "156   14.0  191.000000    14    9.0   28           75       S\n",
       "157   18.0  131.000000     8    9.0   29           76       C\n",
       "\n",
       "[157 rows x 7 columns]"
      ]
     },
     "execution_count": 339,
     "metadata": {},
     "output_type": "execute_result"
    }
   ],
   "source": [
    "data_cleaned1"
   ]
  },
  {
   "cell_type": "markdown",
   "id": "916e0f4c-f35b-42e6-8102-d9fc28c337d0",
   "metadata": {},
   "source": [
    "### categorical variables have to be converted to numerical (one hot encoding,label encoding)"
   ]
  },
  {
   "cell_type": "code",
   "execution_count": 341,
   "id": "6760aaf3-1088-4636-bbd3-5da6a0a7178a",
   "metadata": {},
   "outputs": [
    {
     "data": {
      "text/html": [
       "<div>\n",
       "<style scoped>\n",
       "    .dataframe tbody tr th:only-of-type {\n",
       "        vertical-align: middle;\n",
       "    }\n",
       "\n",
       "    .dataframe tbody tr th {\n",
       "        vertical-align: top;\n",
       "    }\n",
       "\n",
       "    .dataframe thead th {\n",
       "        text-align: right;\n",
       "    }\n",
       "</style>\n",
       "<table border=\"1\" class=\"dataframe\">\n",
       "  <thead>\n",
       "    <tr style=\"text-align: right;\">\n",
       "      <th></th>\n",
       "      <th>Ozone</th>\n",
       "      <th>Solar</th>\n",
       "      <th>Wind</th>\n",
       "      <th>Month</th>\n",
       "      <th>Day</th>\n",
       "      <th>Temperature</th>\n",
       "      <th>Weather_C</th>\n",
       "      <th>Weather_PS</th>\n",
       "      <th>Weather_S</th>\n",
       "    </tr>\n",
       "  </thead>\n",
       "  <tbody>\n",
       "    <tr>\n",
       "      <th>0</th>\n",
       "      <td>41.0</td>\n",
       "      <td>190.000000</td>\n",
       "      <td>7</td>\n",
       "      <td>5.0</td>\n",
       "      <td>1</td>\n",
       "      <td>67</td>\n",
       "      <td>0</td>\n",
       "      <td>0</td>\n",
       "      <td>1</td>\n",
       "    </tr>\n",
       "    <tr>\n",
       "      <th>1</th>\n",
       "      <td>36.0</td>\n",
       "      <td>118.000000</td>\n",
       "      <td>8</td>\n",
       "      <td>5.0</td>\n",
       "      <td>2</td>\n",
       "      <td>72</td>\n",
       "      <td>1</td>\n",
       "      <td>0</td>\n",
       "      <td>0</td>\n",
       "    </tr>\n",
       "    <tr>\n",
       "      <th>2</th>\n",
       "      <td>12.0</td>\n",
       "      <td>149.000000</td>\n",
       "      <td>12</td>\n",
       "      <td>5.0</td>\n",
       "      <td>3</td>\n",
       "      <td>74</td>\n",
       "      <td>0</td>\n",
       "      <td>1</td>\n",
       "      <td>0</td>\n",
       "    </tr>\n",
       "    <tr>\n",
       "      <th>3</th>\n",
       "      <td>18.0</td>\n",
       "      <td>313.000000</td>\n",
       "      <td>11</td>\n",
       "      <td>5.0</td>\n",
       "      <td>4</td>\n",
       "      <td>62</td>\n",
       "      <td>0</td>\n",
       "      <td>0</td>\n",
       "      <td>1</td>\n",
       "    </tr>\n",
       "    <tr>\n",
       "      <th>4</th>\n",
       "      <td>30.5</td>\n",
       "      <td>185.403974</td>\n",
       "      <td>14</td>\n",
       "      <td>5.0</td>\n",
       "      <td>5</td>\n",
       "      <td>56</td>\n",
       "      <td>0</td>\n",
       "      <td>0</td>\n",
       "      <td>1</td>\n",
       "    </tr>\n",
       "    <tr>\n",
       "      <th>...</th>\n",
       "      <td>...</td>\n",
       "      <td>...</td>\n",
       "      <td>...</td>\n",
       "      <td>...</td>\n",
       "      <td>...</td>\n",
       "      <td>...</td>\n",
       "      <td>...</td>\n",
       "      <td>...</td>\n",
       "      <td>...</td>\n",
       "    </tr>\n",
       "    <tr>\n",
       "      <th>153</th>\n",
       "      <td>41.0</td>\n",
       "      <td>190.000000</td>\n",
       "      <td>7</td>\n",
       "      <td>5.0</td>\n",
       "      <td>1</td>\n",
       "      <td>67</td>\n",
       "      <td>1</td>\n",
       "      <td>0</td>\n",
       "      <td>0</td>\n",
       "    </tr>\n",
       "    <tr>\n",
       "      <th>154</th>\n",
       "      <td>30.0</td>\n",
       "      <td>193.000000</td>\n",
       "      <td>6</td>\n",
       "      <td>9.0</td>\n",
       "      <td>26</td>\n",
       "      <td>70</td>\n",
       "      <td>0</td>\n",
       "      <td>1</td>\n",
       "      <td>0</td>\n",
       "    </tr>\n",
       "    <tr>\n",
       "      <th>155</th>\n",
       "      <td>30.5</td>\n",
       "      <td>145.000000</td>\n",
       "      <td>13</td>\n",
       "      <td>9.0</td>\n",
       "      <td>27</td>\n",
       "      <td>77</td>\n",
       "      <td>0</td>\n",
       "      <td>0</td>\n",
       "      <td>1</td>\n",
       "    </tr>\n",
       "    <tr>\n",
       "      <th>156</th>\n",
       "      <td>14.0</td>\n",
       "      <td>191.000000</td>\n",
       "      <td>14</td>\n",
       "      <td>9.0</td>\n",
       "      <td>28</td>\n",
       "      <td>75</td>\n",
       "      <td>0</td>\n",
       "      <td>0</td>\n",
       "      <td>1</td>\n",
       "    </tr>\n",
       "    <tr>\n",
       "      <th>157</th>\n",
       "      <td>18.0</td>\n",
       "      <td>131.000000</td>\n",
       "      <td>8</td>\n",
       "      <td>9.0</td>\n",
       "      <td>29</td>\n",
       "      <td>76</td>\n",
       "      <td>1</td>\n",
       "      <td>0</td>\n",
       "      <td>0</td>\n",
       "    </tr>\n",
       "  </tbody>\n",
       "</table>\n",
       "<p>157 rows × 9 columns</p>\n",
       "</div>"
      ],
      "text/plain": [
       "     Ozone       Solar  Wind  Month  Day  Temperature  Weather_C  Weather_PS  \\\n",
       "0     41.0  190.000000     7    5.0    1           67          0           0   \n",
       "1     36.0  118.000000     8    5.0    2           72          1           0   \n",
       "2     12.0  149.000000    12    5.0    3           74          0           1   \n",
       "3     18.0  313.000000    11    5.0    4           62          0           0   \n",
       "4     30.5  185.403974    14    5.0    5           56          0           0   \n",
       "..     ...         ...   ...    ...  ...          ...        ...         ...   \n",
       "153   41.0  190.000000     7    5.0    1           67          1           0   \n",
       "154   30.0  193.000000     6    9.0   26           70          0           1   \n",
       "155   30.5  145.000000    13    9.0   27           77          0           0   \n",
       "156   14.0  191.000000    14    9.0   28           75          0           0   \n",
       "157   18.0  131.000000     8    9.0   29           76          1           0   \n",
       "\n",
       "     Weather_S  \n",
       "0            1  \n",
       "1            0  \n",
       "2            0  \n",
       "3            1  \n",
       "4            1  \n",
       "..         ...  \n",
       "153          0  \n",
       "154          0  \n",
       "155          1  \n",
       "156          1  \n",
       "157          0  \n",
       "\n",
       "[157 rows x 9 columns]"
      ]
     },
     "execution_count": 341,
     "metadata": {},
     "output_type": "execute_result"
    }
   ],
   "source": [
    "import pandas as pd \n",
    "data_cleaned1=pd.get_dummies(data_cleaned1,dtype=int)\n",
    "data_cleaned1"
   ]
  },
  {
   "cell_type": "markdown",
   "id": "2a12225a-9b87-407e-8572-aad0a2619a45",
   "metadata": {},
   "source": [
    "### 2.feature scaling -- NORMALIZATION AND STANDARDIZATION"
   ]
  },
  {
   "cell_type": "markdown",
   "id": "6426bc05-7a88-486b-b441-bf7ee4ec9889",
   "metadata": {},
   "source": [
    "## standardization"
   ]
  },
  {
   "cell_type": "code",
   "execution_count": 344,
   "id": "ccf10ab1-81c9-4f49-be70-4eed0adb432e",
   "metadata": {},
   "outputs": [],
   "source": [
    "def get_stand(x):\n",
    "    return((x-x.mean())/x.std())"
   ]
  },
  {
   "cell_type": "code",
   "execution_count": 345,
   "id": "35ea0def-a190-4c9c-906a-4fe77b20a284",
   "metadata": {},
   "outputs": [],
   "source": [
    "# x=pd.Series([1500,1000,1200,1350,4400,500,300,200])\n",
    "\n",
    "# get_stand(x)"
   ]
  },
  {
   "cell_type": "code",
   "execution_count": 346,
   "id": "68694d64-6012-4e87-8ca0-84175ebc743f",
   "metadata": {},
   "outputs": [],
   "source": [
    "stand_data=get_stand(data_cleaned1)"
   ]
  },
  {
   "cell_type": "code",
   "execution_count": 347,
   "id": "410ba431-5c72-4512-aa68-68d29dba1df4",
   "metadata": {},
   "outputs": [
    {
     "data": {
      "text/html": [
       "<div>\n",
       "<style scoped>\n",
       "    .dataframe tbody tr th:only-of-type {\n",
       "        vertical-align: middle;\n",
       "    }\n",
       "\n",
       "    .dataframe tbody tr th {\n",
       "        vertical-align: top;\n",
       "    }\n",
       "\n",
       "    .dataframe thead th {\n",
       "        text-align: right;\n",
       "    }\n",
       "</style>\n",
       "<table border=\"1\" class=\"dataframe\">\n",
       "  <thead>\n",
       "    <tr style=\"text-align: right;\">\n",
       "      <th></th>\n",
       "      <th>Ozone</th>\n",
       "      <th>Solar</th>\n",
       "      <th>Wind</th>\n",
       "      <th>Month</th>\n",
       "      <th>Day</th>\n",
       "      <th>Temperature</th>\n",
       "      <th>Weather_C</th>\n",
       "      <th>Weather_PS</th>\n",
       "      <th>Weather_S</th>\n",
       "    </tr>\n",
       "  </thead>\n",
       "  <tbody>\n",
       "    <tr>\n",
       "      <th>0</th>\n",
       "      <td>0.207011</td>\n",
       "      <td>0.069548</td>\n",
       "      <td>-0.720718</td>\n",
       "      <td>-1.202582</td>\n",
       "      <td>-1.667519</td>\n",
       "      <td>-0.798646</td>\n",
       "      <td>-0.661485</td>\n",
       "      <td>-0.651576</td>\n",
       "      <td>1.233896</td>\n",
       "    </tr>\n",
       "    <tr>\n",
       "      <th>1</th>\n",
       "      <td>-0.017132</td>\n",
       "      <td>-0.748377</td>\n",
       "      <td>-0.420578</td>\n",
       "      <td>-1.202582</td>\n",
       "      <td>-1.556209</td>\n",
       "      <td>-0.396505</td>\n",
       "      <td>1.502122</td>\n",
       "      <td>-0.651576</td>\n",
       "      <td>-0.805279</td>\n",
       "    </tr>\n",
       "    <tr>\n",
       "      <th>2</th>\n",
       "      <td>-1.093016</td>\n",
       "      <td>-0.396215</td>\n",
       "      <td>0.779981</td>\n",
       "      <td>-1.202582</td>\n",
       "      <td>-1.444900</td>\n",
       "      <td>-0.235649</td>\n",
       "      <td>-0.661485</td>\n",
       "      <td>1.524965</td>\n",
       "      <td>-0.805279</td>\n",
       "    </tr>\n",
       "    <tr>\n",
       "      <th>3</th>\n",
       "      <td>-0.824045</td>\n",
       "      <td>1.466835</td>\n",
       "      <td>0.479841</td>\n",
       "      <td>-1.202582</td>\n",
       "      <td>-1.333590</td>\n",
       "      <td>-1.200786</td>\n",
       "      <td>-0.661485</td>\n",
       "      <td>-0.651576</td>\n",
       "      <td>1.233896</td>\n",
       "    </tr>\n",
       "    <tr>\n",
       "      <th>4</th>\n",
       "      <td>-0.263689</td>\n",
       "      <td>0.017336</td>\n",
       "      <td>1.380260</td>\n",
       "      <td>-1.202582</td>\n",
       "      <td>-1.222280</td>\n",
       "      <td>-1.683354</td>\n",
       "      <td>-0.661485</td>\n",
       "      <td>-0.651576</td>\n",
       "      <td>1.233896</td>\n",
       "    </tr>\n",
       "  </tbody>\n",
       "</table>\n",
       "</div>"
      ],
      "text/plain": [
       "      Ozone     Solar      Wind     Month       Day  Temperature  Weather_C  \\\n",
       "0  0.207011  0.069548 -0.720718 -1.202582 -1.667519    -0.798646  -0.661485   \n",
       "1 -0.017132 -0.748377 -0.420578 -1.202582 -1.556209    -0.396505   1.502122   \n",
       "2 -1.093016 -0.396215  0.779981 -1.202582 -1.444900    -0.235649  -0.661485   \n",
       "3 -0.824045  1.466835  0.479841 -1.202582 -1.333590    -1.200786  -0.661485   \n",
       "4 -0.263689  0.017336  1.380260 -1.202582 -1.222280    -1.683354  -0.661485   \n",
       "\n",
       "   Weather_PS  Weather_S  \n",
       "0   -0.651576   1.233896  \n",
       "1   -0.651576  -0.805279  \n",
       "2    1.524965  -0.805279  \n",
       "3   -0.651576   1.233896  \n",
       "4   -0.651576   1.233896  "
      ]
     },
     "execution_count": 347,
     "metadata": {},
     "output_type": "execute_result"
    }
   ],
   "source": [
    "stand_data.head()"
   ]
  },
  {
   "cell_type": "markdown",
   "id": "fd355bc9-8de3-4d3d-9eb4-0064ae0ce85c",
   "metadata": {},
   "source": [
    "## normalisation"
   ]
  },
  {
   "cell_type": "code",
   "execution_count": 349,
   "id": "4a0b2892-1536-4441-90f9-09a3ebf50e78",
   "metadata": {},
   "outputs": [],
   "source": [
    "def get_norm(x):\n",
    "    return((x-x.min())/(x.max()-x.min()))"
   ]
  },
  {
   "cell_type": "code",
   "execution_count": 350,
   "id": "efd36e13-4338-4109-a223-7f701a5d8fde",
   "metadata": {},
   "outputs": [],
   "source": [
    "# x=pd.Series([1500,1000,1200,1350,4400,500,300,200])\n",
    "\n",
    "# get_norm(x)"
   ]
  },
  {
   "cell_type": "code",
   "execution_count": 351,
   "id": "75f40795-52a2-4b00-b043-b0fec1479cbd",
   "metadata": {},
   "outputs": [],
   "source": [
    "norm_data=get_norm(data_cleaned1)"
   ]
  },
  {
   "cell_type": "code",
   "execution_count": 352,
   "id": "916ec4be-7b38-482d-b68b-de7848f698f9",
   "metadata": {},
   "outputs": [
    {
     "data": {
      "text/html": [
       "<div>\n",
       "<style scoped>\n",
       "    .dataframe tbody tr th:only-of-type {\n",
       "        vertical-align: middle;\n",
       "    }\n",
       "\n",
       "    .dataframe tbody tr th {\n",
       "        vertical-align: top;\n",
       "    }\n",
       "\n",
       "    .dataframe thead th {\n",
       "        text-align: right;\n",
       "    }\n",
       "</style>\n",
       "<table border=\"1\" class=\"dataframe\">\n",
       "  <thead>\n",
       "    <tr style=\"text-align: right;\">\n",
       "      <th></th>\n",
       "      <th>Ozone</th>\n",
       "      <th>Solar</th>\n",
       "      <th>Wind</th>\n",
       "      <th>Month</th>\n",
       "      <th>Day</th>\n",
       "      <th>Temperature</th>\n",
       "      <th>Weather_C</th>\n",
       "      <th>Weather_PS</th>\n",
       "      <th>Weather_S</th>\n",
       "    </tr>\n",
       "  </thead>\n",
       "  <tbody>\n",
       "    <tr>\n",
       "      <th>0</th>\n",
       "      <td>0.506329</td>\n",
       "      <td>0.559633</td>\n",
       "      <td>0.400000</td>\n",
       "      <td>0.0</td>\n",
       "      <td>0.000000</td>\n",
       "      <td>0.629630</td>\n",
       "      <td>0.0</td>\n",
       "      <td>0.0</td>\n",
       "      <td>1.0</td>\n",
       "    </tr>\n",
       "    <tr>\n",
       "      <th>1</th>\n",
       "      <td>0.443038</td>\n",
       "      <td>0.339450</td>\n",
       "      <td>0.466667</td>\n",
       "      <td>0.0</td>\n",
       "      <td>0.033333</td>\n",
       "      <td>0.691358</td>\n",
       "      <td>1.0</td>\n",
       "      <td>0.0</td>\n",
       "      <td>0.0</td>\n",
       "    </tr>\n",
       "    <tr>\n",
       "      <th>2</th>\n",
       "      <td>0.139241</td>\n",
       "      <td>0.434251</td>\n",
       "      <td>0.733333</td>\n",
       "      <td>0.0</td>\n",
       "      <td>0.066667</td>\n",
       "      <td>0.716049</td>\n",
       "      <td>0.0</td>\n",
       "      <td>1.0</td>\n",
       "      <td>0.0</td>\n",
       "    </tr>\n",
       "    <tr>\n",
       "      <th>3</th>\n",
       "      <td>0.215190</td>\n",
       "      <td>0.935780</td>\n",
       "      <td>0.666667</td>\n",
       "      <td>0.0</td>\n",
       "      <td>0.100000</td>\n",
       "      <td>0.567901</td>\n",
       "      <td>0.0</td>\n",
       "      <td>0.0</td>\n",
       "      <td>1.0</td>\n",
       "    </tr>\n",
       "    <tr>\n",
       "      <th>4</th>\n",
       "      <td>0.373418</td>\n",
       "      <td>0.545578</td>\n",
       "      <td>0.866667</td>\n",
       "      <td>0.0</td>\n",
       "      <td>0.133333</td>\n",
       "      <td>0.493827</td>\n",
       "      <td>0.0</td>\n",
       "      <td>0.0</td>\n",
       "      <td>1.0</td>\n",
       "    </tr>\n",
       "  </tbody>\n",
       "</table>\n",
       "</div>"
      ],
      "text/plain": [
       "      Ozone     Solar      Wind  Month       Day  Temperature  Weather_C  \\\n",
       "0  0.506329  0.559633  0.400000    0.0  0.000000     0.629630        0.0   \n",
       "1  0.443038  0.339450  0.466667    0.0  0.033333     0.691358        1.0   \n",
       "2  0.139241  0.434251  0.733333    0.0  0.066667     0.716049        0.0   \n",
       "3  0.215190  0.935780  0.666667    0.0  0.100000     0.567901        0.0   \n",
       "4  0.373418  0.545578  0.866667    0.0  0.133333     0.493827        0.0   \n",
       "\n",
       "   Weather_PS  Weather_S  \n",
       "0         0.0        1.0  \n",
       "1         0.0        0.0  \n",
       "2         1.0        0.0  \n",
       "3         0.0        1.0  \n",
       "4         0.0        1.0  "
      ]
     },
     "execution_count": 352,
     "metadata": {},
     "output_type": "execute_result"
    }
   ],
   "source": [
    "norm_data.head()"
   ]
  },
  {
   "cell_type": "markdown",
   "id": "c1a75604-a4e3-4eb0-9746-6bfcf24d9bff",
   "metadata": {},
   "source": [
    "#### using pre defined functions"
   ]
  },
  {
   "cell_type": "code",
   "execution_count": 354,
   "id": "c2d99d12-162f-45ec-b2f1-47cb7ceaeb0f",
   "metadata": {},
   "outputs": [
    {
     "data": {
      "text/plain": [
       "array([[ 41. , 190. ,   7. , ...,   0. ,   0. ,   1. ],\n",
       "       [ 36. , 118. ,   8. , ...,   1. ,   0. ,   0. ],\n",
       "       [ 12. , 149. ,  12. , ...,   0. ,   1. ,   0. ],\n",
       "       ...,\n",
       "       [ 30.5, 145. ,  13. , ...,   0. ,   0. ,   1. ],\n",
       "       [ 14. , 191. ,  14. , ...,   0. ,   0. ,   1. ],\n",
       "       [ 18. , 131. ,   8. , ...,   1. ,   0. ,   0. ]])"
      ]
     },
     "execution_count": 354,
     "metadata": {},
     "output_type": "execute_result"
    }
   ],
   "source": [
    "data_cleaned1.values"
   ]
  },
  {
   "cell_type": "code",
   "execution_count": 355,
   "id": "779a311d-405c-4677-94f9-07a53f162557",
   "metadata": {},
   "outputs": [],
   "source": [
    "from sklearn.preprocessing import MinMaxScaler\n",
    "array=data_cleaned1.values\n",
    "\n",
    "scaler=MinMaxScaler()\n",
    "rescaledX=scaler.fit_transform(array)"
   ]
  },
  {
   "cell_type": "code",
   "execution_count": 356,
   "id": "41bbaca3-5b72-439f-9fe2-0c3beaf4f1d0",
   "metadata": {},
   "outputs": [
    {
     "name": "stdout",
     "output_type": "stream",
     "text": [
      "            0         1         2         3         4         5    6    7    8\n",
      "0    0.506329  0.559633  0.400000  0.000000  0.000000  0.629630  0.0  0.0  1.0\n",
      "1    0.443038  0.339450  0.466667  0.000000  0.033333  0.691358  1.0  0.0  0.0\n",
      "2    0.139241  0.434251  0.733333  0.000000  0.066667  0.716049  0.0  1.0  0.0\n",
      "3    0.215190  0.935780  0.666667  0.000000  0.100000  0.567901  0.0  0.0  1.0\n",
      "4    0.373418  0.545578  0.866667  0.000000  0.133333  0.493827  0.0  0.0  1.0\n",
      "..        ...       ...       ...       ...       ...       ...  ...  ...  ...\n",
      "152  0.506329  0.559633  0.400000  0.000000  0.000000  0.629630  1.0  0.0  0.0\n",
      "153  0.367089  0.568807  0.333333  0.363636  0.833333  0.666667  0.0  1.0  0.0\n",
      "154  0.373418  0.422018  0.800000  0.363636  0.866667  0.753086  0.0  0.0  1.0\n",
      "155  0.164557  0.562691  0.866667  0.363636  0.900000  0.728395  0.0  0.0  1.0\n",
      "156  0.215190  0.379205  0.466667  0.363636  0.933333  0.740741  1.0  0.0  0.0\n",
      "\n",
      "[157 rows x 9 columns]\n"
     ]
    }
   ],
   "source": [
    "print(pd.DataFrame(rescaledX))"
   ]
  },
  {
   "cell_type": "code",
   "execution_count": 357,
   "id": "10b27950-823c-41b2-8c10-bd4ed1eb387e",
   "metadata": {},
   "outputs": [],
   "source": [
    "from sklearn.preprocessing import StandardScaler\n",
    "array=data_cleaned1.values\n",
    "\n",
    "scaler=StandardScaler()\n",
    "rescaledx=scaler.fit_transform(array)"
   ]
  },
  {
   "cell_type": "code",
   "execution_count": 358,
   "id": "dd2dfcfe-12c8-421e-b254-7c7aca71f049",
   "metadata": {
    "scrolled": true
   },
   "outputs": [
    {
     "name": "stdout",
     "output_type": "stream",
     "text": [
      "            0         1         2         3         4         5         6  \\\n",
      "0    0.207673  0.069770 -0.723024 -1.206431 -1.672855 -0.801201 -0.663602   \n",
      "1   -0.017187 -0.750772 -0.421924 -1.206431 -1.561189 -0.397774  1.506928   \n",
      "2   -1.096514 -0.397483  0.782477 -1.206431 -1.449523 -0.236403 -0.663602   \n",
      "3   -0.826682  1.471529  0.481377 -1.206431 -1.337857 -1.204628 -0.663602   \n",
      "4   -0.264533  0.017392  1.384677 -1.206431 -1.226192 -1.688741 -0.663602   \n",
      "..        ...       ...       ...       ...       ...       ...       ...   \n",
      "152  0.207673  0.069770 -0.723024 -1.206431 -1.672855 -0.801201  1.506928   \n",
      "153 -0.287019  0.103959 -1.024124  0.939854  1.118793 -0.559145 -0.663602   \n",
      "154 -0.264533 -0.443068  1.083577  0.939854  1.230459  0.005653 -0.663602   \n",
      "155 -1.006570  0.081167  1.384677  0.939854  1.342125 -0.155718 -0.663602   \n",
      "156 -0.826682 -0.602618 -0.421924  0.939854  1.453791 -0.075032  1.506928   \n",
      "\n",
      "            7         8  \n",
      "0   -0.653661  1.237844  \n",
      "1   -0.653661 -0.807856  \n",
      "2    1.529845 -0.807856  \n",
      "3   -0.653661  1.237844  \n",
      "4   -0.653661  1.237844  \n",
      "..        ...       ...  \n",
      "152 -0.653661 -0.807856  \n",
      "153  1.529845 -0.807856  \n",
      "154 -0.653661  1.237844  \n",
      "155 -0.653661  1.237844  \n",
      "156 -0.653661 -0.807856  \n",
      "\n",
      "[157 rows x 9 columns]\n"
     ]
    }
   ],
   "source": [
    "print(pd.DataFrame(rescaledx))"
   ]
  },
  {
   "cell_type": "code",
   "execution_count": 359,
   "id": "a36b72f5-1375-45d7-b450-7d23caa07900",
   "metadata": {},
   "outputs": [
    {
     "name": "stdout",
     "output_type": "stream",
     "text": [
      "[[ 0.20767307  0.06977016 -0.72302401 -1.20643051 -1.67285527 -0.80120119\n",
      "  -0.66360152 -0.65366102  1.23784412]\n",
      " [-0.01718674 -0.75077162 -0.42192383 -1.20643051 -1.56118933 -0.39777404\n",
      "   1.50692844 -0.65366102 -0.80785616]\n",
      " [-1.09651381 -0.3974828   0.78247691 -1.20643051 -1.4495234  -0.23640317\n",
      "  -0.66360152  1.52984494 -0.80785616]\n",
      " [-0.82668204  1.47152905  0.48137673 -1.20643051 -1.33785746 -1.20462835\n",
      "  -0.66360152 -0.65366102  1.23784412]\n",
      " [-0.26453253  0.01739195  1.38467728 -1.20643051 -1.22619153 -1.68874093\n",
      "  -0.66360152 -0.65366102  1.23784412]]\n"
     ]
    }
   ],
   "source": [
    "print(rescaledx[0:5,:])"
   ]
  },
  {
   "cell_type": "code",
   "execution_count": 387,
   "id": "cf0f0208-bdb5-448a-abe3-67684ef8a630",
   "metadata": {},
   "outputs": [
    {
     "data": {
      "text/html": [
       "<div>\n",
       "<style scoped>\n",
       "    .dataframe tbody tr th:only-of-type {\n",
       "        vertical-align: middle;\n",
       "    }\n",
       "\n",
       "    .dataframe tbody tr th {\n",
       "        vertical-align: top;\n",
       "    }\n",
       "\n",
       "    .dataframe thead th {\n",
       "        text-align: right;\n",
       "    }\n",
       "</style>\n",
       "<table border=\"1\" class=\"dataframe\">\n",
       "  <thead>\n",
       "    <tr style=\"text-align: right;\">\n",
       "      <th></th>\n",
       "      <th>Ozone</th>\n",
       "      <th>Solar</th>\n",
       "      <th>Wind</th>\n",
       "      <th>Month</th>\n",
       "      <th>Day</th>\n",
       "      <th>Temperature</th>\n",
       "      <th>Weather_C</th>\n",
       "      <th>Weather_PS</th>\n",
       "      <th>Weather_S</th>\n",
       "      <th>log_ozone</th>\n",
       "    </tr>\n",
       "  </thead>\n",
       "  <tbody>\n",
       "    <tr>\n",
       "      <th>0</th>\n",
       "      <td>41.0</td>\n",
       "      <td>190.000000</td>\n",
       "      <td>7</td>\n",
       "      <td>5.0</td>\n",
       "      <td>1</td>\n",
       "      <td>67</td>\n",
       "      <td>0</td>\n",
       "      <td>0</td>\n",
       "      <td>1</td>\n",
       "      <td>3.713572</td>\n",
       "    </tr>\n",
       "    <tr>\n",
       "      <th>1</th>\n",
       "      <td>36.0</td>\n",
       "      <td>118.000000</td>\n",
       "      <td>8</td>\n",
       "      <td>5.0</td>\n",
       "      <td>2</td>\n",
       "      <td>72</td>\n",
       "      <td>1</td>\n",
       "      <td>0</td>\n",
       "      <td>0</td>\n",
       "      <td>3.583519</td>\n",
       "    </tr>\n",
       "    <tr>\n",
       "      <th>2</th>\n",
       "      <td>12.0</td>\n",
       "      <td>149.000000</td>\n",
       "      <td>12</td>\n",
       "      <td>5.0</td>\n",
       "      <td>3</td>\n",
       "      <td>74</td>\n",
       "      <td>0</td>\n",
       "      <td>1</td>\n",
       "      <td>0</td>\n",
       "      <td>2.484907</td>\n",
       "    </tr>\n",
       "    <tr>\n",
       "      <th>3</th>\n",
       "      <td>18.0</td>\n",
       "      <td>313.000000</td>\n",
       "      <td>11</td>\n",
       "      <td>5.0</td>\n",
       "      <td>4</td>\n",
       "      <td>62</td>\n",
       "      <td>0</td>\n",
       "      <td>0</td>\n",
       "      <td>1</td>\n",
       "      <td>2.890372</td>\n",
       "    </tr>\n",
       "    <tr>\n",
       "      <th>4</th>\n",
       "      <td>30.5</td>\n",
       "      <td>185.403974</td>\n",
       "      <td>14</td>\n",
       "      <td>5.0</td>\n",
       "      <td>5</td>\n",
       "      <td>56</td>\n",
       "      <td>0</td>\n",
       "      <td>0</td>\n",
       "      <td>1</td>\n",
       "      <td>3.417727</td>\n",
       "    </tr>\n",
       "  </tbody>\n",
       "</table>\n",
       "</div>"
      ],
      "text/plain": [
       "   Ozone       Solar  Wind  Month  Day  Temperature  Weather_C  Weather_PS  \\\n",
       "0   41.0  190.000000     7    5.0    1           67          0           0   \n",
       "1   36.0  118.000000     8    5.0    2           72          1           0   \n",
       "2   12.0  149.000000    12    5.0    3           74          0           1   \n",
       "3   18.0  313.000000    11    5.0    4           62          0           0   \n",
       "4   30.5  185.403974    14    5.0    5           56          0           0   \n",
       "\n",
       "   Weather_S  log_ozone  \n",
       "0          1   3.713572  \n",
       "1          0   3.583519  \n",
       "2          0   2.484907  \n",
       "3          1   2.890372  \n",
       "4          1   3.417727  "
      ]
     },
     "execution_count": 387,
     "metadata": {},
     "output_type": "execute_result"
    }
   ],
   "source": [
    "import numpy as np\n",
    "\n",
    "data_cleaned1['log_ozone']=np.log(data_cleaned1.Ozone)\n",
    "data_cleaned1.head()"
   ]
  },
  {
   "cell_type": "code",
   "execution_count": 389,
   "id": "893d103a-9e3f-44a4-b4b8-7b033fde831b",
   "metadata": {},
   "outputs": [
    {
     "data": {
      "text/plain": [
       "<Axes: ylabel='Frequency'>"
      ]
     },
     "execution_count": 389,
     "metadata": {},
     "output_type": "execute_result"
    },
    {
     "data": {
      "image/png": "[encoded data removed]",
      "text/plain": [
       "<Figure size 640x480 with 1 Axes>"
      ]
     },
     "metadata": {},
     "output_type": "display_data"
    }
   ],
   "source": [
    "data_cleaned1.Ozone.plot(kind=\"hist\")"
   ]
  },
  {
   "cell_type": "code",
   "execution_count": 393,
   "id": "8f210121-23c6-45b0-9e5b-b4e5a4e3db26",
   "metadata": {},
   "outputs": [
    {
     "data": {
      "text/plain": [
       "<Axes: ylabel='Frequency'>"
      ]
     },
     "execution_count": 393,
     "metadata": {},
     "output_type": "execute_result"
    },
    {
     "data": {
      "image/png": "[encoded data removed]",
      "text/plain": [
       "<Figure size 640x480 with 1 Axes>"
      ]
     },
     "metadata": {},
     "output_type": "display_data"
    }
   ],
   "source": [
    "data_cleaned1.log_ozone.plot(kind='hist')"
   ]
  },
  {
   "cell_type": "markdown",
   "id": "720770ea-a057-4085-aa6b-81249b61029d",
   "metadata": {},
   "source": [
    "# speed up EDA process"
   ]
  },
  {
   "cell_type": "markdown",
   "id": "e0c4fc96-49f8-42fe-8082-9466d0338f86",
   "metadata": {},
   "source": [
    "## Automatic EDA"
   ]
  },
  {
   "cell_type": "code",
   "execution_count": 397,
   "id": "c03e5461-d12a-4cd3-8b1c-5a68878d4689",
   "metadata": {
    "scrolled": true
   },
   "outputs": [
    {
     "name": "stdout",
     "output_type": "stream",
     "text": [
      "Collecting pandas-profiling==3.1.0\n",
      "  Downloading pandas_profiling-3.1.0-py2.py3-none-any.whl.metadata (23 kB)\n",
      "Collecting joblib~=1.0.1 (from pandas-profiling==3.1.0)\n",
      "  Downloading joblib-1.0.1-py3-none-any.whl.metadata (6.8 kB)\n",
      "Requirement already satisfied: scipy>=1.4.1 in c:\\users\\user2\\anaconda3\\lib\\site-packages (from pandas-profiling==3.1.0) (1.13.1)\n",
      "Requirement already satisfied: pandas!=1.0.0,!=1.0.1,!=1.0.2,!=1.1.0,>=0.25.3 in c:\\users\\user2\\anaconda3\\lib\\site-packages (from pandas-profiling==3.1.0) (2.2.2)\n",
      "Requirement already satisfied: matplotlib>=3.2.0 in c:\\users\\user2\\anaconda3\\lib\\site-packages (from pandas-profiling==3.1.0) (3.9.2)\n",
      "Requirement already satisfied: pydantic>=1.8.1 in c:\\users\\user2\\anaconda3\\lib\\site-packages (from pandas-profiling==3.1.0) (2.8.2)\n",
      "Requirement already satisfied: PyYAML>=5.0.0 in c:\\users\\user2\\anaconda3\\lib\\site-packages (from pandas-profiling==3.1.0) (6.0.1)\n",
      "Requirement already satisfied: jinja2>=2.11.1 in c:\\users\\user2\\anaconda3\\lib\\site-packages (from pandas-profiling==3.1.0) (3.1.4)\n",
      "Collecting markupsafe~=2.0.1 (from pandas-profiling==3.1.0)\n",
      "  Downloading MarkupSafe-2.0.1.tar.gz (18 kB)\n",
      "  Preparing metadata (setup.py): started\n",
      "  Preparing metadata (setup.py): finished with status 'done'\n",
      "Collecting visions==0.7.4 (from visions[type_image_path]==0.7.4->pandas-profiling==3.1.0)\n",
      "  Downloading visions-0.7.4-py3-none-any.whl.metadata (5.9 kB)\n",
      "Requirement already satisfied: numpy>=1.16.0 in c:\\users\\user2\\anaconda3\\lib\\site-packages (from pandas-profiling==3.1.0) (1.26.4)\n",
      "Collecting htmlmin>=0.1.12 (from pandas-profiling==3.1.0)\n",
      "  Downloading htmlmin-0.1.12.tar.gz (19 kB)\n",
      "  Preparing metadata (setup.py): started\n",
      "  Preparing metadata (setup.py): finished with status 'done'\n",
      "Collecting missingno>=0.4.2 (from pandas-profiling==3.1.0)\n",
      "  Downloading missingno-0.5.2-py3-none-any.whl.metadata (639 bytes)\n",
      "Collecting phik>=0.11.1 (from pandas-profiling==3.1.0)\n",
      "  Downloading phik-0.12.4-cp312-cp312-win_amd64.whl.metadata (5.6 kB)\n",
      "Collecting tangled-up-in-unicode==0.1.0 (from pandas-profiling==3.1.0)\n",
      "  Downloading tangled_up_in_unicode-0.1.0-py3-none-any.whl.metadata (4.7 kB)\n",
      "Requirement already satisfied: requests>=2.24.0 in c:\\users\\user2\\anaconda3\\lib\\site-packages (from pandas-profiling==3.1.0) (2.32.3)\n",
      "Requirement already satisfied: tqdm>=4.48.2 in c:\\users\\user2\\anaconda3\\lib\\site-packages (from pandas-profiling==3.1.0) (4.66.5)\n",
      "Requirement already satisfied: seaborn>=0.10.1 in c:\\users\\user2\\anaconda3\\lib\\site-packages (from pandas-profiling==3.1.0) (0.13.2)\n",
      "Collecting multimethod>=1.4 (from pandas-profiling==3.1.0)\n",
      "  Downloading multimethod-2.0-py3-none-any.whl.metadata (9.2 kB)\n",
      "Requirement already satisfied: attrs>=19.3.0 in c:\\users\\user2\\anaconda3\\lib\\site-packages (from visions==0.7.4->visions[type_image_path]==0.7.4->pandas-profiling==3.1.0) (23.1.0)\n",
      "Requirement already satisfied: networkx>=2.4 in c:\\users\\user2\\anaconda3\\lib\\site-packages (from visions==0.7.4->visions[type_image_path]==0.7.4->pandas-profiling==3.1.0) (3.3)\n",
      "Collecting imagehash (from visions[type_image_path]==0.7.4->pandas-profiling==3.1.0)\n",
      "  Downloading ImageHash-4.3.2-py2.py3-none-any.whl.metadata (8.4 kB)\n",
      "Requirement already satisfied: Pillow in c:\\users\\user2\\anaconda3\\lib\\site-packages (from visions[type_image_path]==0.7.4->pandas-profiling==3.1.0) (10.4.0)\n",
      "Requirement already satisfied: contourpy>=1.0.1 in c:\\users\\user2\\anaconda3\\lib\\site-packages (from matplotlib>=3.2.0->pandas-profiling==3.1.0) (1.2.0)\n",
      "Requirement already satisfied: cycler>=0.10 in c:\\users\\user2\\anaconda3\\lib\\site-packages (from matplotlib>=3.2.0->pandas-profiling==3.1.0) (0.11.0)\n",
      "Requirement already satisfied: fonttools>=4.22.0 in c:\\users\\user2\\anaconda3\\lib\\site-packages (from matplotlib>=3.2.0->pandas-profiling==3.1.0) (4.51.0)\n",
      "Requirement already satisfied: kiwisolver>=1.3.1 in c:\\users\\user2\\anaconda3\\lib\\site-packages (from matplotlib>=3.2.0->pandas-profiling==3.1.0) (1.4.4)\n",
      "Requirement already satisfied: packaging>=20.0 in c:\\users\\user2\\anaconda3\\lib\\site-packages (from matplotlib>=3.2.0->pandas-profiling==3.1.0) (24.1)\n",
      "Requirement already satisfied: pyparsing>=2.3.1 in c:\\users\\user2\\anaconda3\\lib\\site-packages (from matplotlib>=3.2.0->pandas-profiling==3.1.0) (3.1.2)\n",
      "Requirement already satisfied: python-dateutil>=2.7 in c:\\users\\user2\\anaconda3\\lib\\site-packages (from matplotlib>=3.2.0->pandas-profiling==3.1.0) (2.9.0.post0)\n",
      "Requirement already satisfied: pytz>=2020.1 in c:\\users\\user2\\anaconda3\\lib\\site-packages (from pandas!=1.0.0,!=1.0.1,!=1.0.2,!=1.1.0,>=0.25.3->pandas-profiling==3.1.0) (2024.1)\n",
      "Requirement already satisfied: tzdata>=2022.7 in c:\\users\\user2\\anaconda3\\lib\\site-packages (from pandas!=1.0.0,!=1.0.1,!=1.0.2,!=1.1.0,>=0.25.3->pandas-profiling==3.1.0) (2023.3)\n",
      "Requirement already satisfied: annotated-types>=0.4.0 in c:\\users\\user2\\anaconda3\\lib\\site-packages (from pydantic>=1.8.1->pandas-profiling==3.1.0) (0.6.0)\n",
      "Requirement already satisfied: pydantic-core==2.20.1 in c:\\users\\user2\\anaconda3\\lib\\site-packages (from pydantic>=1.8.1->pandas-profiling==3.1.0) (2.20.1)\n",
      "Requirement already satisfied: typing-extensions>=4.6.1 in c:\\users\\user2\\anaconda3\\lib\\site-packages (from pydantic>=1.8.1->pandas-profiling==3.1.0) (4.11.0)\n",
      "Requirement already satisfied: charset-normalizer<4,>=2 in c:\\users\\user2\\anaconda3\\lib\\site-packages (from requests>=2.24.0->pandas-profiling==3.1.0) (3.3.2)\n",
      "Requirement already satisfied: idna<4,>=2.5 in c:\\users\\user2\\anaconda3\\lib\\site-packages (from requests>=2.24.0->pandas-profiling==3.1.0) (3.7)\n",
      "Requirement already satisfied: urllib3<3,>=1.21.1 in c:\\users\\user2\\anaconda3\\lib\\site-packages (from requests>=2.24.0->pandas-profiling==3.1.0) (2.2.3)\n",
      "Requirement already satisfied: certifi>=2017.4.17 in c:\\users\\user2\\anaconda3\\lib\\site-packages (from requests>=2.24.0->pandas-profiling==3.1.0) (2024.8.30)\n",
      "Requirement already satisfied: colorama in c:\\users\\user2\\anaconda3\\lib\\site-packages (from tqdm>=4.48.2->pandas-profiling==3.1.0) (0.4.6)\n",
      "Requirement already satisfied: six>=1.5 in c:\\users\\user2\\anaconda3\\lib\\site-packages (from python-dateutil>=2.7->matplotlib>=3.2.0->pandas-profiling==3.1.0) (1.16.0)\n",
      "Requirement already satisfied: PyWavelets in c:\\users\\user2\\anaconda3\\lib\\site-packages (from imagehash->visions[type_image_path]==0.7.4->pandas-profiling==3.1.0) (1.7.0)\n",
      "Downloading pandas_profiling-3.1.0-py2.py3-none-any.whl (261 kB)\n",
      "Downloading tangled_up_in_unicode-0.1.0-py3-none-any.whl (3.1 MB)\n",
      "   ---------------------------------------- 0.0/3.1 MB ? eta -:--:--\n",
      "   ---------------- ----------------------- 1.3/3.1 MB 8.4 MB/s eta 0:00:01\n",
      "   ------------------------------ --------- 2.4/3.1 MB 6.1 MB/s eta 0:00:01\n",
      "   ---------------------------------------- 3.1/3.1 MB 6.6 MB/s eta 0:00:00\n",
      "Downloading visions-0.7.4-py3-none-any.whl (102 kB)\n",
      "Downloading joblib-1.0.1-py3-none-any.whl (303 kB)\n",
      "Downloading missingno-0.5.2-py3-none-any.whl (8.7 kB)\n",
      "Downloading multimethod-2.0-py3-none-any.whl (9.8 kB)\n",
      "Downloading phik-0.12.4-cp312-cp312-win_amd64.whl (666 kB)\n",
      "   ---------------------------------------- 0.0/666.4 kB ? eta -:--:--\n",
      "   --------------------------------------- 666.4/666.4 kB 12.6 MB/s eta 0:00:00\n",
      "Downloading ImageHash-4.3.2-py2.py3-none-any.whl (296 kB)\n",
      "Building wheels for collected packages: htmlmin, markupsafe\n",
      "  Building wheel for htmlmin (setup.py): started\n",
      "  Building wheel for htmlmin (setup.py): finished with status 'done'\n",
      "  Created wheel for htmlmin: filename=htmlmin-0.1.12-py3-none-any.whl size=27091 sha256=12223bb64895a4929212c8df34c30b8265bd0466e3772dfaaafa856b8b0efb8d\n",
      "  Stored in directory: c:\\users\\user2\\appdata\\local\\pip\\cache\\wheels\\5f\\d4\\d7\\4189b07b5902ee9f3ce0dbb14909fbe8037c39d6c63ffd49c9\n",
      "  Building wheel for markupsafe (setup.py): started\n",
      "  Building wheel for markupsafe (setup.py): finished with status 'done'\n",
      "  Created wheel for markupsafe: filename=MarkupSafe-2.0.1-py3-none-any.whl size=9768 sha256=381504dc2e88c5a508753b71bba965f79212910a0f3187e9564bc92f0fc4bbca\n",
      "  Stored in directory: c:\\users\\user2\\appdata\\local\\pip\\cache\\wheels\\4f\\d0\\53\\2b4a97f61dfc68c6cc6248bfb770e2f6ff952e89a5c2696aae\n",
      "Successfully built htmlmin markupsafe\n",
      "Installing collected packages: htmlmin, tangled-up-in-unicode, multimethod, markupsafe, joblib, imagehash, visions, phik, missingno, pandas-profiling\n",
      "  Attempting uninstall: markupsafe\n",
      "    Found existing installation: MarkupSafe 2.1.3\n",
      "    Uninstalling MarkupSafe-2.1.3:\n",
      "      Successfully uninstalled MarkupSafe-2.1.3\n",
      "  Attempting uninstall: joblib\n",
      "    Found existing installation: joblib 1.4.2\n",
      "    Uninstalling joblib-1.4.2:\n",
      "      Successfully uninstalled joblib-1.4.2\n",
      "Successfully installed htmlmin-0.1.12 imagehash-4.3.2 joblib-1.0.1 markupsafe-2.0.1 missingno-0.5.2 multimethod-2.0 pandas-profiling-3.1.0 phik-0.12.4 tangled-up-in-unicode-0.1.0 visions-0.7.4\n"
     ]
    },
    {
     "name": "stderr",
     "output_type": "stream",
     "text": [
      "  WARNING: Failed to remove contents in a temporary directory 'C:\\Users\\user2\\anaconda3\\Lib\\site-packages\\~arkupsafe'.\n",
      "  You can safely remove it manually.\n",
      "ERROR: pip's dependency resolver does not currently take into account all the packages that are installed. This behaviour is the source of the following dependency conflicts.\n",
      "imbalanced-learn 0.12.3 requires joblib>=1.1.1, but you have joblib 1.0.1 which is incompatible.\n",
      "scikit-learn 1.5.1 requires joblib>=1.2.0, but you have joblib 1.0.1 which is incompatible.\n",
      "werkzeug 3.0.3 requires MarkupSafe>=2.1.1, but you have markupsafe 2.0.1 which is incompatible.\n"
     ]
    },
    {
     "name": "stdout",
     "output_type": "stream",
     "text": [
      "Collecting ydata_profiling\n",
      "  Downloading ydata_profiling-4.16.1-py2.py3-none-any.whl.metadata (22 kB)\n",
      "Requirement already satisfied: scipy<1.16,>=1.4.1 in c:\\users\\user2\\anaconda3\\lib\\site-packages (from ydata_profiling) (1.13.1)\n",
      "Requirement already satisfied: pandas!=1.4.0,<3.0,>1.1 in c:\\users\\user2\\anaconda3\\lib\\site-packages (from ydata_profiling) (2.2.2)\n",
      "Requirement already satisfied: matplotlib<=3.10,>=3.5 in c:\\users\\user2\\anaconda3\\lib\\site-packages (from ydata_profiling) (3.9.2)\n",
      "Requirement already satisfied: pydantic>=2 in c:\\users\\user2\\anaconda3\\lib\\site-packages (from ydata_profiling) (2.8.2)\n",
      "Requirement already satisfied: PyYAML<6.1,>=5.0.0 in c:\\users\\user2\\anaconda3\\lib\\site-packages (from ydata_profiling) (6.0.1)\n",
      "Requirement already satisfied: jinja2<3.2,>=2.11.1 in c:\\users\\user2\\anaconda3\\lib\\site-packages (from ydata_profiling) (3.1.4)\n",
      "Collecting visions<0.8.2,>=0.7.5 (from visions[type_image_path]<0.8.2,>=0.7.5->ydata_profiling)\n",
      "  Downloading visions-0.8.1-py3-none-any.whl.metadata (11 kB)\n",
      "Requirement already satisfied: numpy<2.2,>=1.16.0 in c:\\users\\user2\\anaconda3\\lib\\site-packages (from ydata_profiling) (1.26.4)\n",
      "Requirement already satisfied: htmlmin==0.1.12 in c:\\users\\user2\\anaconda3\\lib\\site-packages (from ydata_profiling) (0.1.12)\n",
      "Requirement already satisfied: phik<0.13,>=0.11.1 in c:\\users\\user2\\anaconda3\\lib\\site-packages (from ydata_profiling) (0.12.4)\n",
      "Requirement already satisfied: requests<3,>=2.24.0 in c:\\users\\user2\\anaconda3\\lib\\site-packages (from ydata_profiling) (2.32.3)\n",
      "Requirement already satisfied: tqdm<5,>=4.48.2 in c:\\users\\user2\\anaconda3\\lib\\site-packages (from ydata_profiling) (4.66.5)\n",
      "Requirement already satisfied: seaborn<0.14,>=0.10.1 in c:\\users\\user2\\anaconda3\\lib\\site-packages (from ydata_profiling) (0.13.2)\n",
      "Collecting multimethod<2,>=1.4 (from ydata_profiling)\n",
      "  Downloading multimethod-1.12-py3-none-any.whl.metadata (9.6 kB)\n",
      "Requirement already satisfied: statsmodels<1,>=0.13.2 in c:\\users\\user2\\anaconda3\\lib\\site-packages (from ydata_profiling) (0.14.2)\n",
      "Collecting typeguard<5,>=3 (from ydata_profiling)\n",
      "  Downloading typeguard-4.4.2-py3-none-any.whl.metadata (3.8 kB)\n",
      "Collecting imagehash==4.3.1 (from ydata_profiling)\n",
      "  Downloading ImageHash-4.3.1-py2.py3-none-any.whl.metadata (8.0 kB)\n",
      "Collecting wordcloud>=1.9.3 (from ydata_profiling)\n",
      "  Downloading wordcloud-1.9.4-cp312-cp312-win_amd64.whl.metadata (3.5 kB)\n",
      "Collecting dacite>=1.8 (from ydata_profiling)\n",
      "  Downloading dacite-1.9.2-py3-none-any.whl.metadata (17 kB)\n",
      "Requirement already satisfied: numba<=0.61,>=0.56.0 in c:\\users\\user2\\anaconda3\\lib\\site-packages (from ydata_profiling) (0.60.0)\n",
      "Requirement already satisfied: PyWavelets in c:\\users\\user2\\anaconda3\\lib\\site-packages (from imagehash==4.3.1->ydata_profiling) (1.7.0)\n",
      "Requirement already satisfied: pillow in c:\\users\\user2\\anaconda3\\lib\\site-packages (from imagehash==4.3.1->ydata_profiling) (10.4.0)\n",
      "Requirement already satisfied: MarkupSafe>=2.0 in c:\\users\\user2\\anaconda3\\lib\\site-packages (from jinja2<3.2,>=2.11.1->ydata_profiling) (2.0.1)\n",
      "Requirement already satisfied: contourpy>=1.0.1 in c:\\users\\user2\\anaconda3\\lib\\site-packages (from matplotlib<=3.10,>=3.5->ydata_profiling) (1.2.0)\n",
      "Requirement already satisfied: cycler>=0.10 in c:\\users\\user2\\anaconda3\\lib\\site-packages (from matplotlib<=3.10,>=3.5->ydata_profiling) (0.11.0)\n",
      "Requirement already satisfied: fonttools>=4.22.0 in c:\\users\\user2\\anaconda3\\lib\\site-packages (from matplotlib<=3.10,>=3.5->ydata_profiling) (4.51.0)\n",
      "Requirement already satisfied: kiwisolver>=1.3.1 in c:\\users\\user2\\anaconda3\\lib\\site-packages (from matplotlib<=3.10,>=3.5->ydata_profiling) (1.4.4)\n",
      "Requirement already satisfied: packaging>=20.0 in c:\\users\\user2\\anaconda3\\lib\\site-packages (from matplotlib<=3.10,>=3.5->ydata_profiling) (24.1)\n",
      "Requirement already satisfied: pyparsing>=2.3.1 in c:\\users\\user2\\anaconda3\\lib\\site-packages (from matplotlib<=3.10,>=3.5->ydata_profiling) (3.1.2)\n",
      "Requirement already satisfied: python-dateutil>=2.7 in c:\\users\\user2\\anaconda3\\lib\\site-packages (from matplotlib<=3.10,>=3.5->ydata_profiling) (2.9.0.post0)\n",
      "Requirement already satisfied: llvmlite<0.44,>=0.43.0dev0 in c:\\users\\user2\\anaconda3\\lib\\site-packages (from numba<=0.61,>=0.56.0->ydata_profiling) (0.43.0)\n",
      "Requirement already satisfied: pytz>=2020.1 in c:\\users\\user2\\anaconda3\\lib\\site-packages (from pandas!=1.4.0,<3.0,>1.1->ydata_profiling) (2024.1)\n",
      "Requirement already satisfied: tzdata>=2022.7 in c:\\users\\user2\\anaconda3\\lib\\site-packages (from pandas!=1.4.0,<3.0,>1.1->ydata_profiling) (2023.3)\n",
      "Requirement already satisfied: joblib>=0.14.1 in c:\\users\\user2\\anaconda3\\lib\\site-packages (from phik<0.13,>=0.11.1->ydata_profiling) (1.0.1)\n",
      "Requirement already satisfied: annotated-types>=0.4.0 in c:\\users\\user2\\anaconda3\\lib\\site-packages (from pydantic>=2->ydata_profiling) (0.6.0)\n",
      "Requirement already satisfied: pydantic-core==2.20.1 in c:\\users\\user2\\anaconda3\\lib\\site-packages (from pydantic>=2->ydata_profiling) (2.20.1)\n",
      "Requirement already satisfied: typing-extensions>=4.6.1 in c:\\users\\user2\\anaconda3\\lib\\site-packages (from pydantic>=2->ydata_profiling) (4.11.0)\n",
      "Requirement already satisfied: charset-normalizer<4,>=2 in c:\\users\\user2\\anaconda3\\lib\\site-packages (from requests<3,>=2.24.0->ydata_profiling) (3.3.2)\n",
      "Requirement already satisfied: idna<4,>=2.5 in c:\\users\\user2\\anaconda3\\lib\\site-packages (from requests<3,>=2.24.0->ydata_profiling) (3.7)\n",
      "Requirement already satisfied: urllib3<3,>=1.21.1 in c:\\users\\user2\\anaconda3\\lib\\site-packages (from requests<3,>=2.24.0->ydata_profiling) (2.2.3)\n",
      "Requirement already satisfied: certifi>=2017.4.17 in c:\\users\\user2\\anaconda3\\lib\\site-packages (from requests<3,>=2.24.0->ydata_profiling) (2024.8.30)\n",
      "Requirement already satisfied: patsy>=0.5.6 in c:\\users\\user2\\anaconda3\\lib\\site-packages (from statsmodels<1,>=0.13.2->ydata_profiling) (0.5.6)\n",
      "Requirement already satisfied: colorama in c:\\users\\user2\\anaconda3\\lib\\site-packages (from tqdm<5,>=4.48.2->ydata_profiling) (0.4.6)\n",
      "Requirement already satisfied: attrs>=19.3.0 in c:\\users\\user2\\anaconda3\\lib\\site-packages (from visions<0.8.2,>=0.7.5->visions[type_image_path]<0.8.2,>=0.7.5->ydata_profiling) (23.1.0)\n",
      "Requirement already satisfied: networkx>=2.4 in c:\\users\\user2\\anaconda3\\lib\\site-packages (from visions<0.8.2,>=0.7.5->visions[type_image_path]<0.8.2,>=0.7.5->ydata_profiling) (3.3)\n",
      "Collecting puremagic (from visions<0.8.2,>=0.7.5->visions[type_image_path]<0.8.2,>=0.7.5->ydata_profiling)\n",
      "  Downloading puremagic-1.29-py3-none-any.whl.metadata (5.8 kB)\n",
      "Requirement already satisfied: six in c:\\users\\user2\\anaconda3\\lib\\site-packages (from patsy>=0.5.6->statsmodels<1,>=0.13.2->ydata_profiling) (1.16.0)\n",
      "Downloading ydata_profiling-4.16.1-py2.py3-none-any.whl (400 kB)\n",
      "Downloading ImageHash-4.3.1-py2.py3-none-any.whl (296 kB)\n",
      "Downloading dacite-1.9.2-py3-none-any.whl (16 kB)\n",
      "Downloading multimethod-1.12-py3-none-any.whl (10 kB)\n",
      "Downloading typeguard-4.4.2-py3-none-any.whl (35 kB)\n",
      "Downloading visions-0.8.1-py3-none-any.whl (105 kB)\n",
      "Downloading wordcloud-1.9.4-cp312-cp312-win_amd64.whl (301 kB)\n",
      "Downloading puremagic-1.29-py3-none-any.whl (43 kB)\n",
      "Installing collected packages: puremagic, typeguard, multimethod, dacite, imagehash, wordcloud, visions, ydata_profiling\n",
      "  Attempting uninstall: multimethod\n",
      "    Found existing installation: multimethod 2.0\n",
      "    Uninstalling multimethod-2.0:\n",
      "      Successfully uninstalled multimethod-2.0\n",
      "  Attempting uninstall: imagehash\n",
      "    Found existing installation: ImageHash 4.3.2\n",
      "    Uninstalling ImageHash-4.3.2:\n",
      "      Successfully uninstalled ImageHash-4.3.2\n",
      "  Attempting uninstall: visions\n",
      "    Found existing installation: visions 0.7.4\n",
      "    Uninstalling visions-0.7.4:\n",
      "      Successfully uninstalled visions-0.7.4\n",
      "Successfully installed dacite-1.9.2 imagehash-4.3.1 multimethod-1.12 puremagic-1.29 typeguard-4.4.2 visions-0.8.1 wordcloud-1.9.4 ydata_profiling-4.16.1\n"
     ]
    },
    {
     "name": "stderr",
     "output_type": "stream",
     "text": [
      "ERROR: pip's dependency resolver does not currently take into account all the packages that are installed. This behaviour is the source of the following dependency conflicts.\n",
      "pandas-profiling 3.1.0 requires visions[type_image_path]==0.7.4, but you have visions 0.8.1 which is incompatible.\n"
     ]
    }
   ],
   "source": [
    "!pip install pandas-profiling==3.1.0\n",
    "!pip install ydata_profiling"
   ]
  },
  {
   "cell_type": "code",
   "execution_count": 399,
   "id": "3f3f58c1-dd36-4b73-ba45-8399a7de4658",
   "metadata": {},
   "outputs": [],
   "source": [
    "import pandas as pd \n",
    "data=pd.read_csv('data_clean.csv')"
   ]
  },
  {
   "cell_type": "code",
   "execution_count": 403,
   "id": "4be4eb91-69c3-49a6-8290-d4376efeea59",
   "metadata": {
    "collapsed": true,
    "jupyter": {
     "outputs_hidden": true
    },
    "scrolled": true
   },
   "outputs": [
    {
     "data": {
      "application/vnd.jupyter.widget-view+json": {
       "model_id": "ad5539d9a4664ac9bd6567f8abe92cf2",
       "version_major": 2,
       "version_minor": 0
      },
      "text/plain": [
       "Summarize dataset:   0%|          | 0/5 [00:00<?, ?it/s]"
      ]
     },
     "metadata": {},
     "output_type": "display_data"
    },
    {
     "name": "stderr",
     "output_type": "stream",
     "text": [
      "\n",
      "  0%|                                                                                           | 0/10 [00:00<?, ?it/s]\u001b[A\n",
      "100%|██████████████████████████████████████████████████████████████████████████████████| 10/10 [00:00<00:00, 18.43it/s]\u001b[A\n"
     ]
    },
    {
     "data": {
      "application/vnd.jupyter.widget-view+json": {
       "model_id": "ca7b9ca74e304a2f93c93cc76e0b93eb",
       "version_major": 2,
       "version_minor": 0
      },
      "text/plain": [
       "Generate report structure:   0%|          | 0/1 [00:00<?, ?it/s]"
      ]
     },
     "metadata": {},
     "output_type": "display_data"
    },
    {
     "data": {
      "application/vnd.jupyter.widget-view+json": {
       "model_id": "ff8eee7563f343edb085855467f223b6",
       "version_major": 2,
       "version_minor": 0
      },
      "text/plain": [
       "Render HTML:   0%|          | 0/1 [00:00<?, ?it/s]"
      ]
     },
     "metadata": {},
     "output_type": "display_data"
    },
    {
     "data": {
      "application/vnd.jupyter.widget-view+json": {
       "model_id": "624a6f37fe154f1d92fc24879e428f44",
       "version_major": 2,
       "version_minor": 0
      },
      "text/plain": [
       "Export report to file:   0%|          | 0/1 [00:00<?, ?it/s]"
      ]
     },
     "metadata": {},
     "output_type": "display_data"
    }
   ],
   "source": [
    "from pandas_profiling import ProfileReport\n",
    "\n",
    "profile=ProfileReport(data,title=\"EDA\")\n",
    "\n",
    "profile.to_file('report.html')"
   ]
  },
  {
   "cell_type": "code",
   "execution_count": 421,
   "id": "34163758-e062-4a8a-8b66-f5f25fd1bb68",
   "metadata": {
    "collapsed": true,
    "jupyter": {
     "outputs_hidden": true
    },
    "scrolled": true
   },
   "outputs": [
    {
     "data": {
      "application/vnd.jupyter.widget-view+json": {
       "model_id": "af4f2ea373ce4981bd0c2727701d1307",
       "version_major": 2,
       "version_minor": 0
      },
      "text/plain": [
       "Summarize dataset:   0%|          | 0/5 [00:00<?, ?it/s]"
      ]
     },
     "metadata": {},
     "output_type": "display_data"
    },
    {
     "name": "stderr",
     "output_type": "stream",
     "text": [
      "\n",
      "  0%|                                                                                           | 0/10 [00:00<?, ?it/s]\u001b[A\n",
      "100%|██████████████████████████████████████████████████████████████████████████████████| 10/10 [00:00<00:00, 68.25it/s]\u001b[A\n"
     ]
    },
    {
     "data": {
      "application/vnd.jupyter.widget-view+json": {
       "model_id": "c578207b4de44f7dbb4f237ee8ef3347",
       "version_major": 2,
       "version_minor": 0
      },
      "text/plain": [
       "Generate report structure:   0%|          | 0/1 [00:00<?, ?it/s]"
      ]
     },
     "metadata": {},
     "output_type": "display_data"
    },
    {
     "data": {
      "application/vnd.jupyter.widget-view+json": {
       "model_id": "b26076058402459495a6219639ed14b4",
       "version_major": 2,
       "version_minor": 0
      },
      "text/plain": [
       "Render HTML:   0%|          | 0/1 [00:00<?, ?it/s]"
      ]
     },
     "metadata": {},
     "output_type": "display_data"
    },
    {
     "data": {
      "application/vnd.jupyter.widget-view+json": {
       "model_id": "776c3e88a7e74ca19a08aeb2313c0e33",
       "version_major": 2,
       "version_minor": 0
      },
      "text/plain": [
       "Export report to file:   0%|          | 0/1 [00:00<?, ?it/s]"
      ]
     },
     "metadata": {},
     "output_type": "display_data"
    }
   ],
   "source": [
    "import ydata_profiling as pp\n",
    "\n",
    "profile=pp.ProfileReport(data,title='eda')\n",
    "\n",
    "profile.to_file(\"Report.html\")"
   ]
  },
  {
   "cell_type": "code",
   "execution_count": 415,
   "id": "f6c641f2-a144-4931-b859-60489501d500",
   "metadata": {
    "collapsed": true,
    "jupyter": {
     "outputs_hidden": true
    }
   },
   "outputs": [
    {
     "name": "stdout",
     "output_type": "stream",
     "text": [
      "Collecting sweetviz\n",
      "  Downloading sweetviz-2.3.1-py3-none-any.whl.metadata (24 kB)\n",
      "Requirement already satisfied: pandas!=1.0.0,!=1.0.1,!=1.0.2,>=0.25.3 in c:\\users\\user2\\anaconda3\\lib\\site-packages (from sweetviz) (2.2.2)\n",
      "Requirement already satisfied: numpy>=1.16.0 in c:\\users\\user2\\anaconda3\\lib\\site-packages (from sweetviz) (1.26.4)\n",
      "Requirement already satisfied: matplotlib>=3.1.3 in c:\\users\\user2\\anaconda3\\lib\\site-packages (from sweetviz) (3.9.2)\n",
      "Requirement already satisfied: tqdm>=4.43.0 in c:\\users\\user2\\anaconda3\\lib\\site-packages (from sweetviz) (4.66.5)\n",
      "Requirement already satisfied: scipy>=1.3.2 in c:\\users\\user2\\anaconda3\\lib\\site-packages (from sweetviz) (1.13.1)\n",
      "Requirement already satisfied: jinja2>=2.11.1 in c:\\users\\user2\\anaconda3\\lib\\site-packages (from sweetviz) (3.1.4)\n",
      "Collecting importlib-resources>=1.2.0 (from sweetviz)\n",
      "  Downloading importlib_resources-6.5.2-py3-none-any.whl.metadata (3.9 kB)\n",
      "Requirement already satisfied: MarkupSafe>=2.0 in c:\\users\\user2\\anaconda3\\lib\\site-packages (from jinja2>=2.11.1->sweetviz) (2.0.1)\n",
      "Requirement already satisfied: contourpy>=1.0.1 in c:\\users\\user2\\anaconda3\\lib\\site-packages (from matplotlib>=3.1.3->sweetviz) (1.2.0)\n",
      "Requirement already satisfied: cycler>=0.10 in c:\\users\\user2\\anaconda3\\lib\\site-packages (from matplotlib>=3.1.3->sweetviz) (0.11.0)\n",
      "Requirement already satisfied: fonttools>=4.22.0 in c:\\users\\user2\\anaconda3\\lib\\site-packages (from matplotlib>=3.1.3->sweetviz) (4.51.0)\n",
      "Requirement already satisfied: kiwisolver>=1.3.1 in c:\\users\\user2\\anaconda3\\lib\\site-packages (from matplotlib>=3.1.3->sweetviz) (1.4.4)\n",
      "Requirement already satisfied: packaging>=20.0 in c:\\users\\user2\\anaconda3\\lib\\site-packages (from matplotlib>=3.1.3->sweetviz) (24.1)\n",
      "Requirement already satisfied: pillow>=8 in c:\\users\\user2\\anaconda3\\lib\\site-packages (from matplotlib>=3.1.3->sweetviz) (10.4.0)\n",
      "Requirement already satisfied: pyparsing>=2.3.1 in c:\\users\\user2\\anaconda3\\lib\\site-packages (from matplotlib>=3.1.3->sweetviz) (3.1.2)\n",
      "Requirement already satisfied: python-dateutil>=2.7 in c:\\users\\user2\\anaconda3\\lib\\site-packages (from matplotlib>=3.1.3->sweetviz) (2.9.0.post0)\n",
      "Requirement already satisfied: pytz>=2020.1 in c:\\users\\user2\\anaconda3\\lib\\site-packages (from pandas!=1.0.0,!=1.0.1,!=1.0.2,>=0.25.3->sweetviz) (2024.1)\n",
      "Requirement already satisfied: tzdata>=2022.7 in c:\\users\\user2\\anaconda3\\lib\\site-packages (from pandas!=1.0.0,!=1.0.1,!=1.0.2,>=0.25.3->sweetviz) (2023.3)\n",
      "Requirement already satisfied: colorama in c:\\users\\user2\\anaconda3\\lib\\site-packages (from tqdm>=4.43.0->sweetviz) (0.4.6)\n",
      "Requirement already satisfied: six>=1.5 in c:\\users\\user2\\anaconda3\\lib\\site-packages (from python-dateutil>=2.7->matplotlib>=3.1.3->sweetviz) (1.16.0)\n",
      "Downloading sweetviz-2.3.1-py3-none-any.whl (15.1 MB)\n",
      "   ---------------------------------------- 0.0/15.1 MB ? eta -:--:--\n",
      "   -- ------------------------------------- 0.8/15.1 MB 4.8 MB/s eta 0:00:03\n",
      "   ---- ----------------------------------- 1.6/15.1 MB 4.2 MB/s eta 0:00:04\n",
      "   ------- -------------------------------- 2.9/15.1 MB 5.1 MB/s eta 0:00:03\n",
      "   ----------- ---------------------------- 4.5/15.1 MB 5.8 MB/s eta 0:00:02\n",
      "   --------------- ------------------------ 6.0/15.1 MB 6.2 MB/s eta 0:00:02\n",
      "   -------------------- ------------------- 7.6/15.1 MB 6.4 MB/s eta 0:00:02\n",
      "   ----------------------- ---------------- 8.9/15.1 MB 6.3 MB/s eta 0:00:01\n",
      "   ------------------------- -------------- 9.7/15.1 MB 6.0 MB/s eta 0:00:01\n",
      "   ----------------------------- ---------- 11.0/15.1 MB 6.0 MB/s eta 0:00:01\n",
      "   --------------------------------- ------ 12.6/15.1 MB 6.1 MB/s eta 0:00:01\n",
      "   ------------------------------------- -- 14.2/15.1 MB 6.3 MB/s eta 0:00:01\n",
      "   ---------------------------------------- 15.1/15.1 MB 6.3 MB/s eta 0:00:00\n",
      "Downloading importlib_resources-6.5.2-py3-none-any.whl (37 kB)\n",
      "Installing collected packages: importlib-resources, sweetviz\n",
      "Successfully installed importlib-resources-6.5.2 sweetviz-2.3.1\n"
     ]
    }
   ],
   "source": [
    "!pip install sweetviz"
   ]
  },
  {
   "cell_type": "code",
   "execution_count": 417,
   "id": "c8bc45d3-889a-4f29-a141-45d46c4e7186",
   "metadata": {},
   "outputs": [
    {
     "data": {
      "application/vnd.jupyter.widget-view+json": {
       "model_id": "b2bae4cf1f27427daad4e555cf62628e",
       "version_major": 2,
       "version_minor": 0
      },
      "text/plain": [
       "                                             |                                             | [  0%]   00:00 ->…"
      ]
     },
     "metadata": {},
     "output_type": "display_data"
    },
    {
     "name": "stdout",
     "output_type": "stream",
     "text": [
      "Report SVreport.html was generated! NOTEBOOK/COLAB USERS: the web browser MAY not pop up, regardless, the report IS saved in your notebook/colab files.\n"
     ]
    }
   ],
   "source": [
    "import sweetviz as sv\n",
    "sweet_report=sv.analyze(data)\n",
    "sweet_report.show_html(\"SVreport.html\")"
   ]
  },
  {
   "cell_type": "code",
   "execution_count": null,
   "id": "b459c589-8fbb-45b8-800b-5c94431312a0",
   "metadata": {},
   "outputs": [],
   "source": []
  }
 ],
 "metadata": {
  "kernelspec": {
   "display_name": "Python 3 (ipykernel)",
   "language": "python",
   "name": "python3"
  },
  "language_info": {
   "codemirror_mode": {
    "name": "ipython",
    "version": 3
   },
   "file_extension": ".py",
   "mimetype": "text/x-python",
   "name": "python",
   "nbconvert_exporter": "python",
   "pygments_lexer": "ipython3",
   "version": "3.12.7"
  }
 },
 "nbformat": 4,
 "nbformat_minor": 5
}
